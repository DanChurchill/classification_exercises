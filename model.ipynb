{
 "cells": [
  {
   "cell_type": "code",
   "execution_count": 1,
   "id": "92f20247",
   "metadata": {},
   "outputs": [],
   "source": [
    "import numpy as np\n",
    "import pandas as pd\n",
    "from sklearn.model_selection import train_test_split\n",
    "import warnings\n",
    "warnings.filterwarnings(\"ignore\")\n",
    "\n",
    "from sklearn.tree import DecisionTreeClassifier, plot_tree, export_text\n",
    "from sklearn.metrics import classification_report\n",
    "from sklearn.metrics import confusion_matrix\n",
    "from sklearn.metrics import accuracy_score\n",
    "from sklearn.metrics import recall_score\n",
    "from sklearn.metrics import precision_score\n",
    "from sklearn.metrics import f1_score\n",
    "from sklearn.metrics import precision_recall_fscore_support\n",
    "\n",
    "import matplotlib.pyplot as plt\n",
    "import seaborn as sns\n",
    "\n",
    "import env\n",
    "import prepare\n",
    "import acquire\n"
   ]
  },
  {
   "cell_type": "markdown",
   "id": "0b3ea821",
   "metadata": {},
   "source": [
    "# Titanic Dataset"
   ]
  },
  {
   "cell_type": "code",
   "execution_count": 2,
   "id": "a6331ec4",
   "metadata": {},
   "outputs": [
    {
     "data": {
      "text/plain": [
       "((426, 15), (143, 15), (143, 15))"
      ]
     },
     "execution_count": 2,
     "metadata": {},
     "output_type": "execute_result"
    }
   ],
   "source": [
    "# import titanic dataset, run our prepare functions, split into train/validate/test, and validate size of df's\n",
    "df = acquire.get_titanic_data()\n",
    "df = prepare.prep_titanic(df)\n",
    "tit_train, tit_validate, tit_test = prepare.my_split(df, target='survived')\n",
    "tit_train.shape, tit_validate.shape, tit_test.shape"
   ]
  },
  {
   "cell_type": "code",
   "execution_count": 3,
   "id": "671179d8",
   "metadata": {},
   "outputs": [
    {
     "data": {
      "text/html": [
       "<div>\n",
       "<style scoped>\n",
       "    .dataframe tbody tr th:only-of-type {\n",
       "        vertical-align: middle;\n",
       "    }\n",
       "\n",
       "    .dataframe tbody tr th {\n",
       "        vertical-align: top;\n",
       "    }\n",
       "\n",
       "    .dataframe thead th {\n",
       "        text-align: right;\n",
       "    }\n",
       "</style>\n",
       "<table border=\"1\" class=\"dataframe\">\n",
       "  <thead>\n",
       "    <tr style=\"text-align: right;\">\n",
       "      <th></th>\n",
       "      <th>survived</th>\n",
       "      <th>pclass</th>\n",
       "      <th>sex</th>\n",
       "      <th>age</th>\n",
       "      <th>sibsp</th>\n",
       "      <th>parch</th>\n",
       "      <th>fare</th>\n",
       "      <th>embarked</th>\n",
       "      <th>embark_town</th>\n",
       "      <th>alone</th>\n",
       "      <th>sex_female</th>\n",
       "      <th>sex_male</th>\n",
       "      <th>embark_town_Cherbourg</th>\n",
       "      <th>embark_town_Queenstown</th>\n",
       "      <th>embark_town_Southampton</th>\n",
       "    </tr>\n",
       "  </thead>\n",
       "  <tbody>\n",
       "    <tr>\n",
       "      <th>266</th>\n",
       "      <td>0</td>\n",
       "      <td>3</td>\n",
       "      <td>male</td>\n",
       "      <td>16.0</td>\n",
       "      <td>4</td>\n",
       "      <td>1</td>\n",
       "      <td>39.6875</td>\n",
       "      <td>S</td>\n",
       "      <td>Southampton</td>\n",
       "      <td>0</td>\n",
       "      <td>0</td>\n",
       "      <td>1</td>\n",
       "      <td>0</td>\n",
       "      <td>0</td>\n",
       "      <td>1</td>\n",
       "    </tr>\n",
       "  </tbody>\n",
       "</table>\n",
       "</div>"
      ],
      "text/plain": [
       "     survived  pclass   sex   age  sibsp  parch     fare embarked  \\\n",
       "266         0       3  male  16.0      4      1  39.6875        S   \n",
       "\n",
       "     embark_town  alone  sex_female  sex_male  embark_town_Cherbourg  \\\n",
       "266  Southampton      0           0         1                      0   \n",
       "\n",
       "     embark_town_Queenstown  embark_town_Southampton  \n",
       "266                       0                        1  "
      ]
     },
     "execution_count": 3,
     "metadata": {},
     "output_type": "execute_result"
    }
   ],
   "source": [
    "tit_train.head(1)"
   ]
  },
  {
   "cell_type": "markdown",
   "id": "0f643b0c",
   "metadata": {},
   "source": [
    "## What is your baseline prediction?  What is your baseline accuracy? "
   ]
  },
  {
   "cell_type": "code",
   "execution_count": 4,
   "id": "d7509f2e",
   "metadata": {},
   "outputs": [
    {
     "name": "stdout",
     "output_type": "stream",
     "text": [
      "The most common value (our baseline) is: 0\n",
      "The rate of occurance (our baseline accuracy) is: 59.624413145539904\n"
     ]
    }
   ],
   "source": [
    "# find the most common condition for our target to determine baseline.  It's rate of occurance is the accuracy of \n",
    "# our baseline\n",
    "print('The most common value (our baseline) is:',tit_train.survived.value_counts().idxmax())\n",
    "print('The rate of occurance (our baseline accuracy) is:', len(tit_train[tit_train.survived == 0]) / len(tit_train) * 100)"
   ]
  },
  {
   "cell_type": "markdown",
   "id": "20b6f783",
   "metadata": {},
   "source": [
    "# Fit the decision tree classifier to your training sample and transform (i.e. make predictions on the training sample)"
   ]
  },
  {
   "cell_type": "code",
   "execution_count": 5,
   "id": "08c2b4ee",
   "metadata": {},
   "outputs": [],
   "source": [
    "# split each of our datasets into X and y \n",
    "\n",
    "X_train = tit_train.drop(columns=['survived', 'sex', 'embarked', 'embark_town', 'sex_female', 'embark_town_Cherbourg'])\n",
    "y_train = tit_train.survived\n",
    "\n",
    "X_validate = tit_validate.drop(columns=['survived', 'sex', 'embarked', 'embark_town', 'sex_female', 'embark_town_Cherbourg'])\n",
    "y_validate = tit_validate.survived\n",
    "\n",
    "X_test = tit_test.drop(columns=['survived', 'sex', 'embarked', 'embark_town', 'sex_female', 'embark_town_Cherbourg'])\n",
    "y_test = tit_test.survived"
   ]
  },
  {
   "cell_type": "code",
   "execution_count": 6,
   "id": "6aba0e01",
   "metadata": {},
   "outputs": [],
   "source": [
    "# create and fit the model\n",
    "clf = DecisionTreeClassifier()\n",
    "\n",
    "clf = clf.fit(X_train, y_train)\n",
    "\n",
    "y_pred = clf.predict(X_train)\n",
    "y_pred_prob = clf.predict_proba(X_train)"
   ]
  },
  {
   "cell_type": "markdown",
   "id": "2d20563f",
   "metadata": {},
   "source": [
    "## Evaluate your in-sample results using the model score, confusion matrix, and classification report."
   ]
  },
  {
   "cell_type": "code",
   "execution_count": 7,
   "id": "3a449ffc",
   "metadata": {},
   "outputs": [
    {
     "name": "stdout",
     "output_type": "stream",
     "text": [
      "training score: 99.30%\n"
     ]
    }
   ],
   "source": [
    "# model score\n",
    "print(f'training score: {clf.score(X_train, y_train):.2%}')"
   ]
  },
  {
   "cell_type": "code",
   "execution_count": 8,
   "id": "d5f23356",
   "metadata": {},
   "outputs": [
    {
     "name": "stdout",
     "output_type": "stream",
     "text": [
      "     0    1\n",
      "0  254    0\n",
      "1    3  169\n"
     ]
    }
   ],
   "source": [
    "# confusion matrix\n",
    "cm = confusion_matrix(y_train, y_pred)\n",
    "print(pd.DataFrame(cm))"
   ]
  },
  {
   "cell_type": "code",
   "execution_count": 9,
   "id": "c5d7d261",
   "metadata": {},
   "outputs": [
    {
     "name": "stdout",
     "output_type": "stream",
     "text": [
      "              precision    recall  f1-score   support\n",
      "\n",
      "           0       0.99      1.00      0.99       254\n",
      "           1       1.00      0.98      0.99       172\n",
      "\n",
      "    accuracy                           0.99       426\n",
      "   macro avg       0.99      0.99      0.99       426\n",
      "weighted avg       0.99      0.99      0.99       426\n",
      "\n"
     ]
    }
   ],
   "source": [
    "# classification report\n",
    "print(classification_report(y_train, y_pred))"
   ]
  },
  {
   "cell_type": "markdown",
   "id": "fa1c5722",
   "metadata": {},
   "source": [
    "## Compute: Accuracy, true positive rate, false positive rate, true negative rate, false negative rate, precision, recall, f1-score, and support."
   ]
  },
  {
   "cell_type": "code",
   "execution_count": 10,
   "id": "72e38eac",
   "metadata": {},
   "outputs": [
    {
     "name": "stdout",
     "output_type": "stream",
     "text": [
      "------- Model 1 -----------\n",
      "Accuracy score is:  0.9929577464788732\n"
     ]
    }
   ],
   "source": [
    "# accuracy\n",
    "print('------- Model 1 -----------')\n",
    "print('Accuracy score is: ', accuracy_score(y_train, y_pred))"
   ]
  },
  {
   "cell_type": "code",
   "execution_count": 11,
   "id": "133ffbb0",
   "metadata": {},
   "outputs": [
    {
     "name": "stdout",
     "output_type": "stream",
     "text": [
      "------- Model 1 -----------\n",
      "True positive rate is: 0.596244131455399\n",
      "False positive rate is 0.0\n",
      "True negative rate is 0.3967136150234742\n",
      "False negative rate is 0.007042253521126761\n"
     ]
    }
   ],
   "source": [
    "# true positive rate, false positive rate, true negative rate, false negative rate\n",
    "tp = cm[0,0]\n",
    "tn = cm[1,1]\n",
    "fp = cm[0,1]\n",
    "fn = cm[1,0]\n",
    "print('------- Model 1 -----------')\n",
    "print('True positive rate is:', tp/(tp+tn+fp+fn))\n",
    "print('False positive rate is', fp/(tp+tn+fp+fn))\n",
    "print('True negative rate is', tn/(tp+tn+fp+fn))\n",
    "print('False negative rate is', fn/(tp+tn+fp+fn))"
   ]
  },
  {
   "cell_type": "code",
   "execution_count": 12,
   "id": "6a887eb4",
   "metadata": {},
   "outputs": [
    {
     "name": "stdout",
     "output_type": "stream",
     "text": [
      "------- Model 1 -----------\n",
      "Precision is:  1.0\n",
      "Recall is: 0.9825581395348837\n",
      "f1 score is: 0.9912023460410557\n",
      "Support is 0: 254\n",
      "           1: 172\n"
     ]
    }
   ],
   "source": [
    "# precision, recall, f1-score and support\n",
    "print('------- Model 1 -----------')\n",
    "print('Precision is: ', precision_score(y_train, y_pred))\n",
    "print('Recall is:', recall_score(y_train, y_pred))\n",
    "print('f1 score is:', f1_score(y_train, y_pred))\n",
    "print('Support is 0:', tp+fp)\n",
    "print('           1:', tn+fn)"
   ]
  },
  {
   "cell_type": "markdown",
   "id": "c94c2ab4",
   "metadata": {},
   "source": [
    "## Run through steps 2-4 using a different max_depth value."
   ]
  },
  {
   "cell_type": "code",
   "execution_count": 13,
   "id": "c5a358b3",
   "metadata": {},
   "outputs": [],
   "source": [
    "# changing max depth to 5\n",
    "clf2 = DecisionTreeClassifier(max_depth=5)\n",
    "\n",
    "clf2 = clf2.fit(X_train, y_train)\n",
    "\n",
    "y_pred2 = clf2.predict(X_train)\n",
    "y_pred_prob2 = clf2.predict_proba(X_train)"
   ]
  },
  {
   "cell_type": "code",
   "execution_count": 14,
   "id": "d8f2a59c",
   "metadata": {},
   "outputs": [
    {
     "name": "stdout",
     "output_type": "stream",
     "text": [
      "------- Model 2 -----------\n",
      "training score for model2: 87.32%\n"
     ]
    }
   ],
   "source": [
    "# model score\n",
    "print('------- Model 2 -----------')\n",
    "print(f'training score for model2: {clf2.score(X_train, y_train):.2%}')"
   ]
  },
  {
   "cell_type": "code",
   "execution_count": 15,
   "id": "c341ae79",
   "metadata": {},
   "outputs": [
    {
     "name": "stdout",
     "output_type": "stream",
     "text": [
      "     0    1\n",
      "0  248    6\n",
      "1   48  124\n"
     ]
    }
   ],
   "source": [
    "# confusion matrix\n",
    "cm2 = confusion_matrix(y_train, y_pred2)\n",
    "print(pd.DataFrame(cm2))"
   ]
  },
  {
   "cell_type": "code",
   "execution_count": 16,
   "id": "f3d53239",
   "metadata": {},
   "outputs": [
    {
     "name": "stdout",
     "output_type": "stream",
     "text": [
      "------- Model 2 -----------\n",
      "              precision    recall  f1-score   support\n",
      "\n",
      "           0       0.84      0.98      0.90       254\n",
      "           1       0.95      0.72      0.82       172\n",
      "\n",
      "    accuracy                           0.87       426\n",
      "   macro avg       0.90      0.85      0.86       426\n",
      "weighted avg       0.88      0.87      0.87       426\n",
      "\n"
     ]
    }
   ],
   "source": [
    "# classification report\n",
    "print('------- Model 2 -----------')\n",
    "print(classification_report(y_train, y_pred2))"
   ]
  },
  {
   "cell_type": "code",
   "execution_count": 17,
   "id": "ad8c4345",
   "metadata": {},
   "outputs": [
    {
     "name": "stdout",
     "output_type": "stream",
     "text": [
      "------- Model 2 -----------\n",
      "Accuracy score for model 2 is:  0.8732394366197183\n"
     ]
    }
   ],
   "source": [
    "# accuracy\n",
    "print('------- Model 2 -----------')\n",
    "print('Accuracy score for model 2 is: ', accuracy_score(y_train, y_pred2))"
   ]
  },
  {
   "cell_type": "code",
   "execution_count": 18,
   "id": "0cc2f30f",
   "metadata": {},
   "outputs": [
    {
     "name": "stdout",
     "output_type": "stream",
     "text": [
      "------- Model 2 -----------\n",
      "True positive rate is: 0.5821596244131455\n",
      "False positive rate is 0.014084507042253521\n",
      "True negative rate is 0.29107981220657275\n",
      "False negative rate is 0.11267605633802817\n"
     ]
    }
   ],
   "source": [
    "# true positive rate, false positive rate, true negative rate, false negative rate\n",
    "tp2 = cm2[0,0]\n",
    "tn2 = cm2[1,1]\n",
    "fp2 = cm2[0,1]\n",
    "fn2 = cm2[1,0]\n",
    "\n",
    "print('------- Model 2 -----------')\n",
    "print('True positive rate is:', tp2/(tp2+tn2+fp2+fn2))\n",
    "print('False positive rate is', fp2/(tp2+tn2+fp2+fn2))\n",
    "print('True negative rate is', tn2/(tp2+tn2+fp2+fn2))\n",
    "print('False negative rate is', fn2/(tp2+tn2+fp2+fn2))"
   ]
  },
  {
   "cell_type": "code",
   "execution_count": 19,
   "id": "3edb47b7",
   "metadata": {},
   "outputs": [
    {
     "name": "stdout",
     "output_type": "stream",
     "text": [
      "------- Model 2 -----------\n",
      "Precision is:  0.9538461538461539\n",
      "Recall is: 0.7209302325581395\n",
      "f1 score is: 0.8211920529801324\n",
      "Support is 0: 254\n",
      "           1: 172\n"
     ]
    }
   ],
   "source": [
    "# precision, recall, f1-score and support\n",
    "print('------- Model 2 -----------')\n",
    "print('Precision is: ', precision_score(y_train, y_pred2))\n",
    "print('Recall is:', recall_score(y_train, y_pred2))\n",
    "print('f1 score is:', f1_score(y_train, y_pred2))\n",
    "print('Support is 0:', tp2+fp2)\n",
    "print('           1:', tn2+fn2)"
   ]
  },
  {
   "cell_type": "markdown",
   "id": "ec18a469",
   "metadata": {},
   "source": [
    "## Which model performs better on your in-sample data?"
   ]
  },
  {
   "cell_type": "markdown",
   "id": "e5144c74",
   "metadata": {},
   "source": [
    "Model 1 performs better when evaluating performance against the in-sample (training) data"
   ]
  },
  {
   "cell_type": "markdown",
   "id": "b083be97",
   "metadata": {},
   "source": [
    "## Which model performs best on your out-of-sample data, the validate set?"
   ]
  },
  {
   "cell_type": "code",
   "execution_count": 20,
   "id": "7348db8f",
   "metadata": {},
   "outputs": [
    {
     "name": "stdout",
     "output_type": "stream",
     "text": [
      "------- Model 1 -----------\n",
      "Accuracy of Decision Tree classifier on validate set: 0.82\n",
      "\n",
      "------- Model 2 -----------\n",
      "Accuracy of Decision Tree classifier on validate set: 0.87\n"
     ]
    }
   ],
   "source": [
    "print('------- Model 1 -----------')\n",
    "print('Accuracy of Decision Tree classifier on validate set: {:.2f}'\n",
    "     .format(clf.score(X_validate, y_validate)))\n",
    "print('')\n",
    "print('------- Model 2 -----------')\n",
    "print('Accuracy of Decision Tree classifier on validate set: {:.2f}'\n",
    "     .format(clf2.score(X_validate, y_validate)))\n"
   ]
  },
  {
   "cell_type": "code",
   "execution_count": 21,
   "id": "1fdda672",
   "metadata": {},
   "outputs": [
    {
     "name": "stdout",
     "output_type": "stream",
     "text": [
      "------- Model 1 -----------\n",
      "              precision    recall  f1-score   support\n",
      "\n",
      "           0       0.87      0.81      0.84        85\n",
      "           1       0.75      0.83      0.79        58\n",
      "\n",
      "    accuracy                           0.82       143\n",
      "   macro avg       0.81      0.82      0.81       143\n",
      "weighted avg       0.82      0.82      0.82       143\n",
      "\n",
      "------- Model 2 -----------\n",
      "              precision    recall  f1-score   support\n",
      "\n",
      "           0       0.84      0.96      0.90        85\n",
      "           1       0.93      0.72      0.82        58\n",
      "\n",
      "    accuracy                           0.87       143\n",
      "   macro avg       0.89      0.84      0.86       143\n",
      "weighted avg       0.88      0.87      0.86       143\n",
      "\n"
     ]
    }
   ],
   "source": [
    "# classification report\n",
    "y_pred = clf.predict(X_validate)\n",
    "y_pred2 = clf2.predict(X_validate)\n",
    "\n",
    "print('------- Model 1 -----------')\n",
    "print(classification_report(y_validate, y_pred))\n",
    "\n",
    "print('------- Model 2 -----------')\n",
    "print(classification_report(y_validate, y_pred2))"
   ]
  },
  {
   "cell_type": "markdown",
   "id": "715fa07e",
   "metadata": {},
   "source": [
    "Model 2 performs slightly better with a max depth of 5"
   ]
  },
  {
   "cell_type": "markdown",
   "id": "abd126bc",
   "metadata": {},
   "source": [
    "# Work through these same exercises using the iris dataset.\n",
    "    ## building two models simultaneously"
   ]
  },
  {
   "cell_type": "code",
   "execution_count": 22,
   "id": "e93865fb",
   "metadata": {},
   "outputs": [
    {
     "data": {
      "text/plain": [
       "((90, 5), (30, 5), (30, 5))"
      ]
     },
     "execution_count": 22,
     "metadata": {},
     "output_type": "execute_result"
    }
   ],
   "source": [
    "# get and prepare iris data\n",
    "iris = acquire.get_iris_data()\n",
    "iris = prepare.prep_iris(iris)\n",
    "i_train, i_validate, i_test = prepare.my_split(iris, target='species')\n",
    "i_train.shape, i_validate.shape, i_test.shape"
   ]
  },
  {
   "cell_type": "code",
   "execution_count": 23,
   "id": "62f40bb2",
   "metadata": {},
   "outputs": [
    {
     "name": "stdout",
     "output_type": "stream",
     "text": [
      "The most common value (our baseline) is: setosa\n",
      "The rate of occurance (our baseline accuracy) is: 33.33333333333333\n"
     ]
    }
   ],
   "source": [
    "# find the baseline and the baseline accuracy\n",
    "baseline = i_train.species.value_counts().idxmax()\n",
    "print('The most common value (our baseline) is:', baseline)\n",
    "print('The rate of occurance (our baseline accuracy) is:', len(i_train[i_train.species == baseline]) / len(i_train) * 100)"
   ]
  },
  {
   "cell_type": "code",
   "execution_count": 24,
   "id": "4dc9a99c",
   "metadata": {},
   "outputs": [],
   "source": [
    "# split each of our datasets into X and y \n",
    "\n",
    "X_train = i_train.drop(columns=('species'))\n",
    "y_train = i_train.species\n",
    "\n",
    "X_validate = i_validate.drop(columns=('species'))\n",
    "y_validate = i_validate.species\n",
    "\n",
    "X_test = i_test.drop(columns='species')\n",
    "y_test = i_test.species"
   ]
  },
  {
   "cell_type": "code",
   "execution_count": 25,
   "id": "1e85026c",
   "metadata": {},
   "outputs": [],
   "source": [
    "# create and fit the models\n",
    "clf1 = DecisionTreeClassifier(max_depth=8)\n",
    "clf2 = DecisionTreeClassifier(max_depth=2)\n",
    "\n",
    "clf1 = clf1.fit(X_train, y_train)\n",
    "clf2 = clf2.fit(X_train, y_train)\n",
    "\n",
    "y_pred1 = clf1.predict(X_train)\n",
    "y_pred2 = clf2.predict(X_train)\n",
    "\n",
    "y_pred_prob1 = clf1.predict_proba(X_train)\n",
    "y_pred_prob2 = clf2.predict_proba(X_train)"
   ]
  },
  {
   "cell_type": "code",
   "execution_count": 26,
   "id": "82afab96",
   "metadata": {},
   "outputs": [
    {
     "name": "stdout",
     "output_type": "stream",
     "text": [
      "Model 1 training score: 100.00%\n",
      "Model 2 training score: 95.56%\n"
     ]
    }
   ],
   "source": [
    "# model score\n",
    "print(f'Model 1 training score: {clf1.score(X_train, y_train):.2%}')\n",
    "print(f'Model 2 training score: {clf2.score(X_train, y_train):.2%}')"
   ]
  },
  {
   "cell_type": "code",
   "execution_count": 27,
   "id": "31c4da7d",
   "metadata": {},
   "outputs": [
    {
     "name": "stdout",
     "output_type": "stream",
     "text": [
      "----Model 1----\n",
      "    0   1   2\n",
      "0  30   0   0\n",
      "1   0  30   0\n",
      "2   0   0  30\n",
      "\n",
      "----Model 2----\n",
      "    0   1   2\n",
      "0  30   0   0\n",
      "1   0  26   4\n",
      "2   0   0  30\n"
     ]
    }
   ],
   "source": [
    "# confusion matrix\n",
    "cm1 = confusion_matrix(y_train, y_pred1)\n",
    "cm2 = confusion_matrix(y_train, y_pred2)\n",
    "print('----Model 1----')\n",
    "print(pd.DataFrame(cm1))\n",
    "print('')\n",
    "print('----Model 2----')\n",
    "print(pd.DataFrame(cm2))"
   ]
  },
  {
   "cell_type": "code",
   "execution_count": 28,
   "id": "3325df4f",
   "metadata": {},
   "outputs": [
    {
     "name": "stdout",
     "output_type": "stream",
     "text": [
      "              precision    recall  f1-score   support\n",
      "\n",
      "      setosa       1.00      1.00      1.00        30\n",
      "  versicolor       1.00      1.00      1.00        30\n",
      "   virginica       1.00      1.00      1.00        30\n",
      "\n",
      "    accuracy                           1.00        90\n",
      "   macro avg       1.00      1.00      1.00        90\n",
      "weighted avg       1.00      1.00      1.00        90\n",
      "\n",
      "              precision    recall  f1-score   support\n",
      "\n",
      "      setosa       1.00      1.00      1.00        30\n",
      "  versicolor       1.00      0.87      0.93        30\n",
      "   virginica       0.88      1.00      0.94        30\n",
      "\n",
      "    accuracy                           0.96        90\n",
      "   macro avg       0.96      0.96      0.96        90\n",
      "weighted avg       0.96      0.96      0.96        90\n",
      "\n"
     ]
    }
   ],
   "source": [
    "# classification report\n",
    "print(classification_report(y_train, y_pred1))\n",
    "print(classification_report(y_train, y_pred2))"
   ]
  },
  {
   "cell_type": "markdown",
   "id": "031c6a07",
   "metadata": {},
   "source": [
    "## ...and comparing with validation data"
   ]
  },
  {
   "cell_type": "code",
   "execution_count": 29,
   "id": "2c6462da",
   "metadata": {},
   "outputs": [
    {
     "name": "stdout",
     "output_type": "stream",
     "text": [
      "------- Model 1 -----------\n",
      "Accuracy of Decision Tree classifier on validate set: 0.93\n",
      "\n",
      "------- Model 2 -----------\n",
      "Accuracy of Decision Tree classifier on validate set: 0.93\n"
     ]
    }
   ],
   "source": [
    "print('------- Model 1 -----------')\n",
    "print('Accuracy of Decision Tree classifier on validate set: {:.2f}'\n",
    "     .format(clf1.score(X_validate, y_validate)))\n",
    "print('')\n",
    "print('------- Model 2 -----------')\n",
    "print('Accuracy of Decision Tree classifier on validate set: {:.2f}'\n",
    "     .format(clf2.score(X_validate, y_validate)))"
   ]
  },
  {
   "cell_type": "code",
   "execution_count": 30,
   "id": "8173100c",
   "metadata": {},
   "outputs": [
    {
     "name": "stdout",
     "output_type": "stream",
     "text": [
      "------- Model 1 -----------\n",
      "              precision    recall  f1-score   support\n",
      "\n",
      "      setosa       1.00      1.00      1.00        10\n",
      "  versicolor       0.90      0.90      0.90        10\n",
      "   virginica       0.90      0.90      0.90        10\n",
      "\n",
      "    accuracy                           0.93        30\n",
      "   macro avg       0.93      0.93      0.93        30\n",
      "weighted avg       0.93      0.93      0.93        30\n",
      "\n",
      "------- Model 2 -----------\n",
      "              precision    recall  f1-score   support\n",
      "\n",
      "      setosa       1.00      1.00      1.00        10\n",
      "  versicolor       0.90      0.90      0.90        10\n",
      "   virginica       0.90      0.90      0.90        10\n",
      "\n",
      "    accuracy                           0.93        30\n",
      "   macro avg       0.93      0.93      0.93        30\n",
      "weighted avg       0.93      0.93      0.93        30\n",
      "\n"
     ]
    }
   ],
   "source": [
    "# classification report\n",
    "y_pred1 = clf1.predict(X_validate)\n",
    "y_pred2 = clf2.predict(X_validate)\n",
    "\n",
    "print('------- Model 1 -----------')\n",
    "print(classification_report(y_validate, y_pred1))\n",
    "\n",
    "print('------- Model 2 -----------')\n",
    "print(classification_report(y_validate, y_pred2))"
   ]
  },
  {
   "cell_type": "markdown",
   "id": "9bc41a75",
   "metadata": {},
   "source": [
    "The first model performs better with max depth of 8 versus max depth of 2 for the second model"
   ]
  },
  {
   "cell_type": "markdown",
   "id": "34a5aca2",
   "metadata": {},
   "source": [
    "# Experiment with this model on other datasets with a higher number of output classes.\n"
   ]
  },
  {
   "cell_type": "code",
   "execution_count": 31,
   "id": "6838a1b7",
   "metadata": {},
   "outputs": [
    {
     "data": {
      "text/html": [
       "<div>\n",
       "<style scoped>\n",
       "    .dataframe tbody tr th:only-of-type {\n",
       "        vertical-align: middle;\n",
       "    }\n",
       "\n",
       "    .dataframe tbody tr th {\n",
       "        vertical-align: top;\n",
       "    }\n",
       "\n",
       "    .dataframe thead th {\n",
       "        text-align: right;\n",
       "    }\n",
       "</style>\n",
       "<table border=\"1\" class=\"dataframe\">\n",
       "  <thead>\n",
       "    <tr style=\"text-align: right;\">\n",
       "      <th></th>\n",
       "      <th>1.52101</th>\n",
       "      <th>13.64</th>\n",
       "      <th>4.49</th>\n",
       "      <th>1.10</th>\n",
       "      <th>71.78</th>\n",
       "      <th>0.06</th>\n",
       "      <th>8.75</th>\n",
       "      <th>0.00</th>\n",
       "      <th>0.00.1</th>\n",
       "      <th>1</th>\n",
       "    </tr>\n",
       "  </thead>\n",
       "  <tbody>\n",
       "    <tr>\n",
       "      <th>0</th>\n",
       "      <td>1.51761</td>\n",
       "      <td>13.89</td>\n",
       "      <td>3.60</td>\n",
       "      <td>1.36</td>\n",
       "      <td>72.73</td>\n",
       "      <td>0.48</td>\n",
       "      <td>7.83</td>\n",
       "      <td>0.0</td>\n",
       "      <td>0.00</td>\n",
       "      <td>1</td>\n",
       "    </tr>\n",
       "    <tr>\n",
       "      <th>1</th>\n",
       "      <td>1.51618</td>\n",
       "      <td>13.53</td>\n",
       "      <td>3.55</td>\n",
       "      <td>1.54</td>\n",
       "      <td>72.99</td>\n",
       "      <td>0.39</td>\n",
       "      <td>7.78</td>\n",
       "      <td>0.0</td>\n",
       "      <td>0.00</td>\n",
       "      <td>1</td>\n",
       "    </tr>\n",
       "    <tr>\n",
       "      <th>2</th>\n",
       "      <td>1.51766</td>\n",
       "      <td>13.21</td>\n",
       "      <td>3.69</td>\n",
       "      <td>1.29</td>\n",
       "      <td>72.61</td>\n",
       "      <td>0.57</td>\n",
       "      <td>8.22</td>\n",
       "      <td>0.0</td>\n",
       "      <td>0.00</td>\n",
       "      <td>1</td>\n",
       "    </tr>\n",
       "    <tr>\n",
       "      <th>3</th>\n",
       "      <td>1.51742</td>\n",
       "      <td>13.27</td>\n",
       "      <td>3.62</td>\n",
       "      <td>1.24</td>\n",
       "      <td>73.08</td>\n",
       "      <td>0.55</td>\n",
       "      <td>8.07</td>\n",
       "      <td>0.0</td>\n",
       "      <td>0.00</td>\n",
       "      <td>1</td>\n",
       "    </tr>\n",
       "    <tr>\n",
       "      <th>4</th>\n",
       "      <td>1.51596</td>\n",
       "      <td>12.79</td>\n",
       "      <td>3.61</td>\n",
       "      <td>1.62</td>\n",
       "      <td>72.97</td>\n",
       "      <td>0.64</td>\n",
       "      <td>8.07</td>\n",
       "      <td>0.0</td>\n",
       "      <td>0.26</td>\n",
       "      <td>1</td>\n",
       "    </tr>\n",
       "  </tbody>\n",
       "</table>\n",
       "</div>"
      ],
      "text/plain": [
       "   1.52101  13.64  4.49  1.10  71.78  0.06  8.75  0.00  0.00.1  1\n",
       "0  1.51761  13.89  3.60  1.36  72.73  0.48  7.83   0.0    0.00  1\n",
       "1  1.51618  13.53  3.55  1.54  72.99  0.39  7.78   0.0    0.00  1\n",
       "2  1.51766  13.21  3.69  1.29  72.61  0.57  8.22   0.0    0.00  1\n",
       "3  1.51742  13.27  3.62  1.24  73.08  0.55  8.07   0.0    0.00  1\n",
       "4  1.51596  12.79  3.61  1.62  72.97  0.64  8.07   0.0    0.26  1"
      ]
     },
     "execution_count": 31,
     "metadata": {},
     "output_type": "execute_result"
    }
   ],
   "source": [
    "# The glass dataset contains 9 columns quantifying the contents of 9 different elements in a glass sample.  \n",
    "# The 10th column is the class of the glass, and integer from 1-7.\n",
    "\n",
    "glass = pd.read_csv('glass.csv')\n",
    "glass.head()"
   ]
  },
  {
   "cell_type": "code",
   "execution_count": 32,
   "id": "c8eb6f10",
   "metadata": {},
   "outputs": [],
   "source": [
    "glass.columns =['ri', 'na', 'mg', 'al', 'si', 'k','ca','ba','fe', 'class']"
   ]
  },
  {
   "cell_type": "code",
   "execution_count": 33,
   "id": "658bc1dd",
   "metadata": {},
   "outputs": [
    {
     "data": {
      "text/plain": [
       "((127, 10), (43, 10), (43, 10))"
      ]
     },
     "execution_count": 33,
     "metadata": {},
     "output_type": "execute_result"
    }
   ],
   "source": [
    "# split into train, validate, test\n",
    "g_train, g_validate, g_test = prepare.my_split(glass, target='class')\n",
    "g_train.shape, g_validate.shape, g_test.shape"
   ]
  },
  {
   "cell_type": "code",
   "execution_count": 34,
   "id": "6ce41d8c",
   "metadata": {},
   "outputs": [
    {
     "name": "stdout",
     "output_type": "stream",
     "text": [
      "The most common value (our baseline) is: 2\n",
      "The rate of occurance (our baseline accuracy) is: 36.22047244094488\n"
     ]
    }
   ],
   "source": [
    "# find the baseline and the baseline accuracy\n",
    "baseline = g_train['class'].value_counts().idxmax()\n",
    "print('The most common value (our baseline) is:', baseline)\n",
    "print('The rate of occurance (our baseline accuracy) is:', len(g_train[g_train['class'] == baseline]) / len(g_train) * 100)"
   ]
  },
  {
   "cell_type": "code",
   "execution_count": 35,
   "id": "80d59687",
   "metadata": {},
   "outputs": [],
   "source": [
    "# split each of our datasets into X and y \n",
    "\n",
    "X_train = g_train.drop(columns=('class'))\n",
    "y_train = g_train['class']\n",
    "\n",
    "X_validate = g_validate.drop(columns=('class'))\n",
    "y_validate = g_validate['class']\n",
    "\n",
    "X_test = g_test.drop(columns='class')\n",
    "y_test = g_test['class']"
   ]
  },
  {
   "cell_type": "code",
   "execution_count": 36,
   "id": "e33533f4",
   "metadata": {},
   "outputs": [],
   "source": [
    "# create and fit the models\n",
    "clf1 = DecisionTreeClassifier(max_depth=8)\n",
    "clf2 = DecisionTreeClassifier(max_depth=4)\n",
    "\n",
    "clf1 = clf1.fit(X_train, y_train)\n",
    "clf2 = clf2.fit(X_train, y_train)\n",
    "\n",
    "y_pred1 = clf1.predict(X_train)\n",
    "y_pred2 = clf2.predict(X_train)\n",
    "\n",
    "y_pred_prob1 = clf1.predict_proba(X_train)\n",
    "y_pred_prob2 = clf2.predict_proba(X_train)"
   ]
  },
  {
   "cell_type": "code",
   "execution_count": 37,
   "id": "fd2f5a3c",
   "metadata": {},
   "outputs": [
    {
     "name": "stdout",
     "output_type": "stream",
     "text": [
      "Model 1 training score: 98.43%\n",
      "Model 2 training score: 82.68%\n"
     ]
    }
   ],
   "source": [
    "# model score\n",
    "print(f'Model 1 training score: {clf1.score(X_train, y_train):.2%}')\n",
    "print(f'Model 2 training score: {clf2.score(X_train, y_train):.2%}')"
   ]
  },
  {
   "cell_type": "code",
   "execution_count": 38,
   "id": "cb706886",
   "metadata": {},
   "outputs": [
    {
     "name": "stdout",
     "output_type": "stream",
     "text": [
      "----Model 1----\n",
      "    0   1  2  3  4   5\n",
      "0  41   0  0  0  0   0\n",
      "1   1  45  0  0  0   0\n",
      "2   1   0  9  0  0   0\n",
      "3   0   0  0  8  0   0\n",
      "4   0   0  0  0  5   0\n",
      "5   0   0  0  0  0  17\n",
      "\n",
      "----Model 2----\n",
      "    0   1  2  3  4   5\n",
      "0  37   3  1  0  0   0\n",
      "1   8  34  2  2  0   0\n",
      "2   3   1  6  0  0   0\n",
      "3   0   0  0  8  0   0\n",
      "4   1   0  0  0  4   0\n",
      "5   0   0  1  0  0  16\n"
     ]
    }
   ],
   "source": [
    "# confusion matrix\n",
    "cm1 = confusion_matrix(y_train, y_pred1)\n",
    "cm2 = confusion_matrix(y_train, y_pred2)\n",
    "print('----Model 1----')\n",
    "print(pd.DataFrame(cm1))\n",
    "print('')\n",
    "print('----Model 2----')\n",
    "print(pd.DataFrame(cm2))"
   ]
  },
  {
   "cell_type": "code",
   "execution_count": 39,
   "id": "edef31eb",
   "metadata": {},
   "outputs": [
    {
     "name": "stdout",
     "output_type": "stream",
     "text": [
      "              precision    recall  f1-score   support\n",
      "\n",
      "           1       0.95      1.00      0.98        41\n",
      "           2       1.00      0.98      0.99        46\n",
      "           3       1.00      0.90      0.95        10\n",
      "           5       1.00      1.00      1.00         8\n",
      "           6       1.00      1.00      1.00         5\n",
      "           7       1.00      1.00      1.00        17\n",
      "\n",
      "    accuracy                           0.98       127\n",
      "   macro avg       0.99      0.98      0.99       127\n",
      "weighted avg       0.98      0.98      0.98       127\n",
      "\n",
      "              precision    recall  f1-score   support\n",
      "\n",
      "           1       0.76      0.90      0.82        41\n",
      "           2       0.89      0.74      0.81        46\n",
      "           3       0.60      0.60      0.60        10\n",
      "           5       0.80      1.00      0.89         8\n",
      "           6       1.00      0.80      0.89         5\n",
      "           7       1.00      0.94      0.97        17\n",
      "\n",
      "    accuracy                           0.83       127\n",
      "   macro avg       0.84      0.83      0.83       127\n",
      "weighted avg       0.84      0.83      0.83       127\n",
      "\n"
     ]
    }
   ],
   "source": [
    "# classification report\n",
    "print(classification_report(y_train, y_pred1))\n",
    "print(classification_report(y_train, y_pred2))"
   ]
  },
  {
   "cell_type": "code",
   "execution_count": 40,
   "id": "4495e58d",
   "metadata": {},
   "outputs": [
    {
     "name": "stdout",
     "output_type": "stream",
     "text": [
      "------- Model 1 -----------\n",
      "Accuracy of Decision Tree classifier on validate set: 0.65\n",
      "\n",
      "------- Model 2 -----------\n",
      "Accuracy of Decision Tree classifier on validate set: 0.63\n"
     ]
    }
   ],
   "source": [
    "print('------- Model 1 -----------')\n",
    "print('Accuracy of Decision Tree classifier on validate set: {:.2f}'\n",
    "     .format(clf1.score(X_validate, y_validate)))\n",
    "print('')\n",
    "print('------- Model 2 -----------')\n",
    "print('Accuracy of Decision Tree classifier on validate set: {:.2f}'\n",
    "     .format(clf2.score(X_validate, y_validate)))"
   ]
  },
  {
   "cell_type": "code",
   "execution_count": 41,
   "id": "1fc43881",
   "metadata": {},
   "outputs": [
    {
     "name": "stdout",
     "output_type": "stream",
     "text": [
      "------- Model 1 -----------\n",
      "              precision    recall  f1-score   support\n",
      "\n",
      "           1       0.62      0.93      0.74        14\n",
      "           2       0.62      0.53      0.57        15\n",
      "           3       0.00      0.00      0.00         4\n",
      "           5       0.00      0.00      0.00         2\n",
      "           6       0.67      1.00      0.80         2\n",
      "           7       1.00      0.83      0.91         6\n",
      "\n",
      "    accuracy                           0.65        43\n",
      "   macro avg       0.48      0.55      0.50        43\n",
      "weighted avg       0.59      0.65      0.61        43\n",
      "\n",
      "------- Model 2 -----------\n",
      "              precision    recall  f1-score   support\n",
      "\n",
      "           1       0.61      0.79      0.69        14\n",
      "           2       0.67      0.53      0.59        15\n",
      "           3       0.33      0.25      0.29         4\n",
      "           5       0.25      0.50      0.33         2\n",
      "           6       1.00      1.00      1.00         2\n",
      "           7       1.00      0.67      0.80         6\n",
      "\n",
      "    accuracy                           0.63        43\n",
      "   macro avg       0.64      0.62      0.62        43\n",
      "weighted avg       0.66      0.63      0.63        43\n",
      "\n"
     ]
    }
   ],
   "source": [
    "# classification reports\n",
    "y_pred1 = clf1.predict(X_validate)\n",
    "y_pred2 = clf2.predict(X_validate)\n",
    "\n",
    "print('------- Model 1 -----------')\n",
    "print(classification_report(y_validate, y_pred1))\n",
    "\n",
    "print('------- Model 2 -----------')\n",
    "print(classification_report(y_validate, y_pred2))"
   ]
  },
  {
   "cell_type": "markdown",
   "id": "ceff0dfe",
   "metadata": {},
   "source": [
    "The first model (max depth 8) performed better on the training set, but the second model (max depth 4)\n",
    "performed better on the validation set"
   ]
  },
  {
   "cell_type": "markdown",
   "id": "fc8ac84e",
   "metadata": {},
   "source": [
    "# Random Forest Exercises"
   ]
  },
  {
   "cell_type": "markdown",
   "id": "fe524d4c",
   "metadata": {},
   "source": [
    "### Continue working in your model file with titanic data to do the following:\n",
    "\n",
    "Fit the Random Forest classifier to your training sample and transform (i.e. make predictions on the training sample) setting the random_state accordingly and setting min_samples_leaf = 1 and max_depth = 10."
   ]
  },
  {
   "cell_type": "code",
   "execution_count": 42,
   "id": "40cefba5",
   "metadata": {},
   "outputs": [],
   "source": [
    "from sklearn.ensemble import RandomForestClassifier"
   ]
  },
  {
   "cell_type": "code",
   "execution_count": 43,
   "id": "72b6905a",
   "metadata": {},
   "outputs": [
    {
     "data": {
      "text/plain": [
       "((426, 15), (143, 15), (143, 15))"
      ]
     },
     "execution_count": 43,
     "metadata": {},
     "output_type": "execute_result"
    }
   ],
   "source": [
    "df = acquire.get_titanic_data()\n",
    "df = prepare.prep_titanic(df)\n",
    "train, validate, test = prepare.my_split(df, target='survived')\n",
    "train.shape, validate.shape, test.shape"
   ]
  },
  {
   "cell_type": "code",
   "execution_count": 44,
   "id": "ece65a87",
   "metadata": {},
   "outputs": [
    {
     "data": {
      "text/html": [
       "<div>\n",
       "<style scoped>\n",
       "    .dataframe tbody tr th:only-of-type {\n",
       "        vertical-align: middle;\n",
       "    }\n",
       "\n",
       "    .dataframe tbody tr th {\n",
       "        vertical-align: top;\n",
       "    }\n",
       "\n",
       "    .dataframe thead th {\n",
       "        text-align: right;\n",
       "    }\n",
       "</style>\n",
       "<table border=\"1\" class=\"dataframe\">\n",
       "  <thead>\n",
       "    <tr style=\"text-align: right;\">\n",
       "      <th></th>\n",
       "      <th>survived</th>\n",
       "      <th>pclass</th>\n",
       "      <th>sex</th>\n",
       "      <th>age</th>\n",
       "      <th>sibsp</th>\n",
       "      <th>parch</th>\n",
       "      <th>fare</th>\n",
       "      <th>embarked</th>\n",
       "      <th>embark_town</th>\n",
       "      <th>alone</th>\n",
       "      <th>sex_female</th>\n",
       "      <th>sex_male</th>\n",
       "      <th>embark_town_Cherbourg</th>\n",
       "      <th>embark_town_Queenstown</th>\n",
       "      <th>embark_town_Southampton</th>\n",
       "    </tr>\n",
       "  </thead>\n",
       "  <tbody>\n",
       "    <tr>\n",
       "      <th>130</th>\n",
       "      <td>0</td>\n",
       "      <td>3</td>\n",
       "      <td>male</td>\n",
       "      <td>33.0</td>\n",
       "      <td>0</td>\n",
       "      <td>0</td>\n",
       "      <td>7.8958</td>\n",
       "      <td>C</td>\n",
       "      <td>Cherbourg</td>\n",
       "      <td>1</td>\n",
       "      <td>0</td>\n",
       "      <td>1</td>\n",
       "      <td>1</td>\n",
       "      <td>0</td>\n",
       "      <td>0</td>\n",
       "    </tr>\n",
       "    <tr>\n",
       "      <th>391</th>\n",
       "      <td>1</td>\n",
       "      <td>3</td>\n",
       "      <td>male</td>\n",
       "      <td>21.0</td>\n",
       "      <td>0</td>\n",
       "      <td>0</td>\n",
       "      <td>7.7958</td>\n",
       "      <td>S</td>\n",
       "      <td>Southampton</td>\n",
       "      <td>1</td>\n",
       "      <td>0</td>\n",
       "      <td>1</td>\n",
       "      <td>0</td>\n",
       "      <td>0</td>\n",
       "      <td>1</td>\n",
       "    </tr>\n",
       "    <tr>\n",
       "      <th>785</th>\n",
       "      <td>0</td>\n",
       "      <td>3</td>\n",
       "      <td>male</td>\n",
       "      <td>25.0</td>\n",
       "      <td>0</td>\n",
       "      <td>0</td>\n",
       "      <td>7.2500</td>\n",
       "      <td>S</td>\n",
       "      <td>Southampton</td>\n",
       "      <td>1</td>\n",
       "      <td>0</td>\n",
       "      <td>1</td>\n",
       "      <td>0</td>\n",
       "      <td>0</td>\n",
       "      <td>1</td>\n",
       "    </tr>\n",
       "    <tr>\n",
       "      <th>162</th>\n",
       "      <td>0</td>\n",
       "      <td>3</td>\n",
       "      <td>male</td>\n",
       "      <td>26.0</td>\n",
       "      <td>0</td>\n",
       "      <td>0</td>\n",
       "      <td>7.7750</td>\n",
       "      <td>S</td>\n",
       "      <td>Southampton</td>\n",
       "      <td>1</td>\n",
       "      <td>0</td>\n",
       "      <td>1</td>\n",
       "      <td>0</td>\n",
       "      <td>0</td>\n",
       "      <td>1</td>\n",
       "    </tr>\n",
       "    <tr>\n",
       "      <th>16</th>\n",
       "      <td>0</td>\n",
       "      <td>3</td>\n",
       "      <td>male</td>\n",
       "      <td>2.0</td>\n",
       "      <td>4</td>\n",
       "      <td>1</td>\n",
       "      <td>29.1250</td>\n",
       "      <td>Q</td>\n",
       "      <td>Queenstown</td>\n",
       "      <td>0</td>\n",
       "      <td>0</td>\n",
       "      <td>1</td>\n",
       "      <td>0</td>\n",
       "      <td>1</td>\n",
       "      <td>0</td>\n",
       "    </tr>\n",
       "  </tbody>\n",
       "</table>\n",
       "</div>"
      ],
      "text/plain": [
       "     survived  pclass   sex   age  sibsp  parch     fare embarked  \\\n",
       "130         0       3  male  33.0      0      0   7.8958        C   \n",
       "391         1       3  male  21.0      0      0   7.7958        S   \n",
       "785         0       3  male  25.0      0      0   7.2500        S   \n",
       "162         0       3  male  26.0      0      0   7.7750        S   \n",
       "16          0       3  male   2.0      4      1  29.1250        Q   \n",
       "\n",
       "     embark_town  alone  sex_female  sex_male  embark_town_Cherbourg  \\\n",
       "130    Cherbourg      1           0         1                      1   \n",
       "391  Southampton      1           0         1                      0   \n",
       "785  Southampton      1           0         1                      0   \n",
       "162  Southampton      1           0         1                      0   \n",
       "16    Queenstown      0           0         1                      0   \n",
       "\n",
       "     embark_town_Queenstown  embark_town_Southampton  \n",
       "130                       0                        0  \n",
       "391                       0                        1  \n",
       "785                       0                        1  \n",
       "162                       0                        1  \n",
       "16                        1                        0  "
      ]
     },
     "execution_count": 44,
     "metadata": {},
     "output_type": "execute_result"
    }
   ],
   "source": [
    "train.head()"
   ]
  },
  {
   "cell_type": "code",
   "execution_count": 45,
   "id": "c118aca4",
   "metadata": {},
   "outputs": [],
   "source": [
    "# id columns for features in the model\n",
    "features = ['pclass', 'age','alone','fare','sex_male']"
   ]
  },
  {
   "cell_type": "code",
   "execution_count": 46,
   "id": "2cd4c1a2",
   "metadata": {},
   "outputs": [],
   "source": [
    "# create X and y versions of our train/validate/test datasets\n",
    "X_train = train[features]\n",
    "y_train = train.survived\n",
    "\n",
    "X_validate = validate[features]\n",
    "y_validate = validate.survived\n",
    "\n",
    "X_test = test[features]\n",
    "y_test = test.survived"
   ]
  },
  {
   "cell_type": "code",
   "execution_count": 47,
   "id": "f807eaaa",
   "metadata": {},
   "outputs": [],
   "source": [
    "# create random forest\n",
    "rf = RandomForestClassifier(min_samples_leaf=1,\n",
    "                            max_depth=10, \n",
    "                            random_state=123)"
   ]
  },
  {
   "cell_type": "code",
   "execution_count": 48,
   "id": "4742e356",
   "metadata": {},
   "outputs": [
    {
     "data": {
      "text/plain": [
       "RandomForestClassifier(max_depth=10, random_state=123)"
      ]
     },
     "execution_count": 48,
     "metadata": {},
     "output_type": "execute_result"
    }
   ],
   "source": [
    "# train random forest model\n",
    "rf.fit(X_train, y_train)"
   ]
  },
  {
   "cell_type": "code",
   "execution_count": 49,
   "id": "8f390e13",
   "metadata": {},
   "outputs": [],
   "source": [
    "# make predictions\n",
    "y_pred = rf.predict(X_train)\n",
    "y_pred_proba = rf.predict_proba(X_train)"
   ]
  },
  {
   "cell_type": "markdown",
   "id": "2974e14c",
   "metadata": {},
   "source": [
    "### Evaluate your results using the model score, confusion matrix, and classification report.\n",
    "\n"
   ]
  },
  {
   "cell_type": "code",
   "execution_count": 50,
   "id": "fe600049",
   "metadata": {},
   "outputs": [
    {
     "name": "stdout",
     "output_type": "stream",
     "text": [
      "Accuracy of random forest classifier on training set: 0.98\n"
     ]
    }
   ],
   "source": [
    "# check accuracy\n",
    "print('Accuracy of random forest classifier on training set: {:.2f}'\n",
    "     .format(rf.score(X_train, y_train)))"
   ]
  },
  {
   "cell_type": "code",
   "execution_count": 51,
   "id": "78e79d6e",
   "metadata": {
    "scrolled": false
   },
   "outputs": [
    {
     "name": "stdout",
     "output_type": "stream",
     "text": [
      "[[254   0]\n",
      " [  7 165]]\n"
     ]
    }
   ],
   "source": [
    "cm = confusion_matrix(y_train, y_pred)\n",
    "print(cm)"
   ]
  },
  {
   "cell_type": "code",
   "execution_count": 52,
   "id": "dda8a312",
   "metadata": {},
   "outputs": [
    {
     "name": "stdout",
     "output_type": "stream",
     "text": [
      "              precision    recall  f1-score   support\n",
      "\n",
      "           0       0.97      1.00      0.99       254\n",
      "           1       1.00      0.96      0.98       172\n",
      "\n",
      "    accuracy                           0.98       426\n",
      "   macro avg       0.99      0.98      0.98       426\n",
      "weighted avg       0.98      0.98      0.98       426\n",
      "\n"
     ]
    }
   ],
   "source": [
    "print(classification_report(y_train, y_pred))"
   ]
  },
  {
   "cell_type": "markdown",
   "id": "f426cc15",
   "metadata": {},
   "source": [
    "### Print and clearly label the following: Accuracy, true positive rate, false positive rate, true negative rate, false negative rate, precision, recall, f1-score, and support."
   ]
  },
  {
   "cell_type": "code",
   "execution_count": 53,
   "id": "a8012d3b",
   "metadata": {},
   "outputs": [
    {
     "name": "stdout",
     "output_type": "stream",
     "text": [
      "Model stats for Random Forest with:\n",
      "\n",
      "     min_samples_leaf = 1\n",
      "        and max_depth = 10\n",
      "\n",
      "Accuracy: 0.98\n"
     ]
    }
   ],
   "source": [
    "# create function to output requested scoring of model\n",
    "\n",
    "def model_scores(cm, min_leaf, max_depth):\n",
    "    '''\n",
    "    Function to get all model scores necessary for codeup exercises\n",
    "    Accepts a confusion matrix, and prints a report with the following:\n",
    "        Accuracy\n",
    "        True positive rate\n",
    "        False positive rate\n",
    "        True negative rate\n",
    "        False negative rate \n",
    "        Precision\n",
    "        Recall\n",
    "        f1-score\n",
    "        positive support\n",
    "        negative support\n",
    "    '''\n",
    "    \n",
    "    TN = cm[0,0]\n",
    "    FP = cm[0,1]\n",
    "    FN = cm[1,0]\n",
    "    TP = cm[1,1]\n",
    "    ALL = TP + FP + FN + TN\n",
    "    \n",
    "    print('Model stats for Random Forest with:')\n",
    "    print(\"\")\n",
    "    print('     min_samples_leaf =',min_leaf)\n",
    "    print('        and max_depth =',max_depth)\n",
    "    print(\"\")\n",
    "\n",
    "    # accuracy\n",
    "    acc = (TP + TN) / ALL\n",
    "    print('Accuracy: {:.2f}'.format(acc))\n",
    "#     # true positive rate, also recall\n",
    "#     TPR = recall = TP/ (TP + FN)\n",
    "#     print('True Positive Rate: {:.2f}'.format(TPR))\n",
    "#     # false positive rate\n",
    "#     FPR = FP / (FP + TN)\n",
    "#     print('False Positive Rate: {:.2f}'.format(FPR))\n",
    "#     # true negative rate\n",
    "#     TNR = TN / (TN + FP)\n",
    "#     print('True Negative Rate: {:.2f}'.format(TNR))\n",
    "#     # false negative rate\n",
    "#     FNR = FN / (FN + TP)\n",
    "#     print('Flase Negative Rate: {:.2f}'.format(FNR))\n",
    "#     # precision\n",
    "#     precision = TP / (TP + FP)\n",
    "#     print('Precision: {:.2f}'.format(precision))\n",
    "#     # recall\n",
    "#     print('Recall: {:.2f}'.format(recall))\n",
    "#     # f1\n",
    "#     f1_score = 2 * (precision*recall) / (precision+recall)\n",
    "#     print('f1 score: {:.2f}'.format(f1_score))\n",
    "#     # support\n",
    "#     support_pos = TP + FN\n",
    "#     print('Positive support:',support_pos)\n",
    "#     support_neg = FP + TN\n",
    "#     print('Negative support:',support_neg)\n",
    "#     print('-----------------------------------------')\n",
    "    \n",
    "model_scores(cm, 1, 10)"
   ]
  },
  {
   "cell_type": "markdown",
   "id": "1dd3c995",
   "metadata": {},
   "source": [
    "## Run through steps increasing your min_samples_leaf and decreasing your max_depth."
   ]
  },
  {
   "cell_type": "code",
   "execution_count": 54,
   "id": "69780368",
   "metadata": {
    "scrolled": true
   },
   "outputs": [
    {
     "name": "stdout",
     "output_type": "stream",
     "text": [
      "Model stats for Random Forest with:\n",
      "\n",
      "     min_samples_leaf = 1\n",
      "        and max_depth = 1\n",
      "\n",
      "Accuracy: 0.80\n",
      "Model stats for Random Forest with:\n",
      "\n",
      "     min_samples_leaf = 1\n",
      "        and max_depth = 2\n",
      "\n",
      "Accuracy: 0.80\n",
      "Model stats for Random Forest with:\n",
      "\n",
      "     min_samples_leaf = 1\n",
      "        and max_depth = 3\n",
      "\n",
      "Accuracy: 0.85\n",
      "Model stats for Random Forest with:\n",
      "\n",
      "     min_samples_leaf = 1\n",
      "        and max_depth = 4\n",
      "\n",
      "Accuracy: 0.86\n",
      "Model stats for Random Forest with:\n",
      "\n",
      "     min_samples_leaf = 1\n",
      "        and max_depth = 5\n",
      "\n",
      "Accuracy: 0.89\n",
      "Model stats for Random Forest with:\n",
      "\n",
      "     min_samples_leaf = 1\n",
      "        and max_depth = 6\n",
      "\n",
      "Accuracy: 0.92\n",
      "Model stats for Random Forest with:\n",
      "\n",
      "     min_samples_leaf = 1\n",
      "        and max_depth = 7\n",
      "\n",
      "Accuracy: 0.94\n",
      "Model stats for Random Forest with:\n",
      "\n",
      "     min_samples_leaf = 1\n",
      "        and max_depth = 8\n",
      "\n",
      "Accuracy: 0.96\n",
      "Model stats for Random Forest with:\n",
      "\n",
      "     min_samples_leaf = 1\n",
      "        and max_depth = 9\n",
      "\n",
      "Accuracy: 0.97\n",
      "Model stats for Random Forest with:\n",
      "\n",
      "     min_samples_leaf = 1\n",
      "        and max_depth = 10\n",
      "\n",
      "Accuracy: 0.98\n",
      "Model stats for Random Forest with:\n",
      "\n",
      "     min_samples_leaf = 2\n",
      "        and max_depth = 1\n",
      "\n",
      "Accuracy: 0.80\n",
      "Model stats for Random Forest with:\n",
      "\n",
      "     min_samples_leaf = 2\n",
      "        and max_depth = 2\n",
      "\n",
      "Accuracy: 0.80\n",
      "Model stats for Random Forest with:\n",
      "\n",
      "     min_samples_leaf = 2\n",
      "        and max_depth = 3\n",
      "\n",
      "Accuracy: 0.85\n",
      "Model stats for Random Forest with:\n",
      "\n",
      "     min_samples_leaf = 2\n",
      "        and max_depth = 4\n",
      "\n",
      "Accuracy: 0.86\n",
      "Model stats for Random Forest with:\n",
      "\n",
      "     min_samples_leaf = 2\n",
      "        and max_depth = 5\n",
      "\n",
      "Accuracy: 0.88\n",
      "Model stats for Random Forest with:\n",
      "\n",
      "     min_samples_leaf = 2\n",
      "        and max_depth = 6\n",
      "\n",
      "Accuracy: 0.90\n",
      "Model stats for Random Forest with:\n",
      "\n",
      "     min_samples_leaf = 2\n",
      "        and max_depth = 7\n",
      "\n",
      "Accuracy: 0.91\n",
      "Model stats for Random Forest with:\n",
      "\n",
      "     min_samples_leaf = 2\n",
      "        and max_depth = 8\n",
      "\n",
      "Accuracy: 0.92\n",
      "Model stats for Random Forest with:\n",
      "\n",
      "     min_samples_leaf = 2\n",
      "        and max_depth = 9\n",
      "\n",
      "Accuracy: 0.92\n",
      "Model stats for Random Forest with:\n",
      "\n",
      "     min_samples_leaf = 2\n",
      "        and max_depth = 10\n",
      "\n",
      "Accuracy: 0.92\n",
      "Model stats for Random Forest with:\n",
      "\n",
      "     min_samples_leaf = 3\n",
      "        and max_depth = 1\n",
      "\n",
      "Accuracy: 0.80\n",
      "Model stats for Random Forest with:\n",
      "\n",
      "     min_samples_leaf = 3\n",
      "        and max_depth = 2\n",
      "\n",
      "Accuracy: 0.80\n",
      "Model stats for Random Forest with:\n",
      "\n",
      "     min_samples_leaf = 3\n",
      "        and max_depth = 3\n",
      "\n",
      "Accuracy: 0.84\n",
      "Model stats for Random Forest with:\n",
      "\n",
      "     min_samples_leaf = 3\n",
      "        and max_depth = 4\n",
      "\n",
      "Accuracy: 0.86\n",
      "Model stats for Random Forest with:\n",
      "\n",
      "     min_samples_leaf = 3\n",
      "        and max_depth = 5\n",
      "\n",
      "Accuracy: 0.88\n",
      "Model stats for Random Forest with:\n",
      "\n",
      "     min_samples_leaf = 3\n",
      "        and max_depth = 6\n",
      "\n",
      "Accuracy: 0.90\n",
      "Model stats for Random Forest with:\n",
      "\n",
      "     min_samples_leaf = 3\n",
      "        and max_depth = 7\n",
      "\n",
      "Accuracy: 0.91\n",
      "Model stats for Random Forest with:\n",
      "\n",
      "     min_samples_leaf = 3\n",
      "        and max_depth = 8\n",
      "\n",
      "Accuracy: 0.90\n",
      "Model stats for Random Forest with:\n",
      "\n",
      "     min_samples_leaf = 3\n",
      "        and max_depth = 9\n",
      "\n",
      "Accuracy: 0.90\n",
      "Model stats for Random Forest with:\n",
      "\n",
      "     min_samples_leaf = 3\n",
      "        and max_depth = 10\n",
      "\n",
      "Accuracy: 0.90\n",
      "Model stats for Random Forest with:\n",
      "\n",
      "     min_samples_leaf = 4\n",
      "        and max_depth = 1\n",
      "\n",
      "Accuracy: 0.80\n",
      "Model stats for Random Forest with:\n",
      "\n",
      "     min_samples_leaf = 4\n",
      "        and max_depth = 2\n",
      "\n",
      "Accuracy: 0.80\n",
      "Model stats for Random Forest with:\n",
      "\n",
      "     min_samples_leaf = 4\n",
      "        and max_depth = 3\n",
      "\n",
      "Accuracy: 0.85\n",
      "Model stats for Random Forest with:\n",
      "\n",
      "     min_samples_leaf = 4\n",
      "        and max_depth = 4\n",
      "\n",
      "Accuracy: 0.85\n",
      "Model stats for Random Forest with:\n",
      "\n",
      "     min_samples_leaf = 4\n",
      "        and max_depth = 5\n",
      "\n",
      "Accuracy: 0.86\n",
      "Model stats for Random Forest with:\n",
      "\n",
      "     min_samples_leaf = 4\n",
      "        and max_depth = 6\n",
      "\n",
      "Accuracy: 0.88\n",
      "Model stats for Random Forest with:\n",
      "\n",
      "     min_samples_leaf = 4\n",
      "        and max_depth = 7\n",
      "\n",
      "Accuracy: 0.89\n",
      "Model stats for Random Forest with:\n",
      "\n",
      "     min_samples_leaf = 4\n",
      "        and max_depth = 8\n",
      "\n",
      "Accuracy: 0.88\n",
      "Model stats for Random Forest with:\n",
      "\n",
      "     min_samples_leaf = 4\n",
      "        and max_depth = 9\n",
      "\n",
      "Accuracy: 0.89\n",
      "Model stats for Random Forest with:\n",
      "\n",
      "     min_samples_leaf = 4\n",
      "        and max_depth = 10\n",
      "\n",
      "Accuracy: 0.89\n",
      "Model stats for Random Forest with:\n",
      "\n",
      "     min_samples_leaf = 5\n",
      "        and max_depth = 1\n",
      "\n",
      "Accuracy: 0.80\n",
      "Model stats for Random Forest with:\n",
      "\n",
      "     min_samples_leaf = 5\n",
      "        and max_depth = 2\n",
      "\n",
      "Accuracy: 0.80\n",
      "Model stats for Random Forest with:\n",
      "\n",
      "     min_samples_leaf = 5\n",
      "        and max_depth = 3\n",
      "\n",
      "Accuracy: 0.84\n",
      "Model stats for Random Forest with:\n",
      "\n",
      "     min_samples_leaf = 5\n",
      "        and max_depth = 4\n",
      "\n",
      "Accuracy: 0.85\n",
      "Model stats for Random Forest with:\n",
      "\n",
      "     min_samples_leaf = 5\n",
      "        and max_depth = 5\n",
      "\n",
      "Accuracy: 0.86\n",
      "Model stats for Random Forest with:\n",
      "\n",
      "     min_samples_leaf = 5\n",
      "        and max_depth = 6\n",
      "\n",
      "Accuracy: 0.88\n",
      "Model stats for Random Forest with:\n",
      "\n",
      "     min_samples_leaf = 5\n",
      "        and max_depth = 7\n",
      "\n",
      "Accuracy: 0.88\n",
      "Model stats for Random Forest with:\n",
      "\n",
      "     min_samples_leaf = 5\n",
      "        and max_depth = 8\n",
      "\n",
      "Accuracy: 0.88\n",
      "Model stats for Random Forest with:\n",
      "\n",
      "     min_samples_leaf = 5\n",
      "        and max_depth = 9\n",
      "\n",
      "Accuracy: 0.88\n",
      "Model stats for Random Forest with:\n",
      "\n",
      "     min_samples_leaf = 5\n",
      "        and max_depth = 10\n",
      "\n",
      "Accuracy: 0.88\n",
      "Model stats for Random Forest with:\n",
      "\n",
      "     min_samples_leaf = 6\n",
      "        and max_depth = 1\n",
      "\n",
      "Accuracy: 0.80\n",
      "Model stats for Random Forest with:\n",
      "\n",
      "     min_samples_leaf = 6\n",
      "        and max_depth = 2\n",
      "\n",
      "Accuracy: 0.80\n",
      "Model stats for Random Forest with:\n",
      "\n",
      "     min_samples_leaf = 6\n",
      "        and max_depth = 3\n",
      "\n",
      "Accuracy: 0.84\n",
      "Model stats for Random Forest with:\n",
      "\n",
      "     min_samples_leaf = 6\n",
      "        and max_depth = 4\n",
      "\n",
      "Accuracy: 0.85\n",
      "Model stats for Random Forest with:\n",
      "\n",
      "     min_samples_leaf = 6\n",
      "        and max_depth = 5\n",
      "\n",
      "Accuracy: 0.85\n",
      "Model stats for Random Forest with:\n",
      "\n",
      "     min_samples_leaf = 6\n",
      "        and max_depth = 6\n",
      "\n",
      "Accuracy: 0.88\n",
      "Model stats for Random Forest with:\n",
      "\n",
      "     min_samples_leaf = 6\n",
      "        and max_depth = 7\n",
      "\n",
      "Accuracy: 0.88\n",
      "Model stats for Random Forest with:\n",
      "\n",
      "     min_samples_leaf = 6\n",
      "        and max_depth = 8\n",
      "\n",
      "Accuracy: 0.88\n",
      "Model stats for Random Forest with:\n",
      "\n",
      "     min_samples_leaf = 6\n",
      "        and max_depth = 9\n",
      "\n",
      "Accuracy: 0.88\n",
      "Model stats for Random Forest with:\n",
      "\n",
      "     min_samples_leaf = 6\n",
      "        and max_depth = 10\n",
      "\n",
      "Accuracy: 0.88\n",
      "Model stats for Random Forest with:\n",
      "\n",
      "     min_samples_leaf = 7\n",
      "        and max_depth = 1\n",
      "\n",
      "Accuracy: 0.80\n",
      "Model stats for Random Forest with:\n",
      "\n",
      "     min_samples_leaf = 7\n",
      "        and max_depth = 2\n",
      "\n",
      "Accuracy: 0.81\n",
      "Model stats for Random Forest with:\n",
      "\n",
      "     min_samples_leaf = 7\n",
      "        and max_depth = 3\n",
      "\n",
      "Accuracy: 0.83\n",
      "Model stats for Random Forest with:\n",
      "\n",
      "     min_samples_leaf = 7\n",
      "        and max_depth = 4\n",
      "\n",
      "Accuracy: 0.85\n",
      "Model stats for Random Forest with:\n",
      "\n",
      "     min_samples_leaf = 7\n",
      "        and max_depth = 5\n",
      "\n",
      "Accuracy: 0.86\n",
      "Model stats for Random Forest with:\n",
      "\n",
      "     min_samples_leaf = 7\n",
      "        and max_depth = 6\n",
      "\n",
      "Accuracy: 0.87\n",
      "Model stats for Random Forest with:\n",
      "\n",
      "     min_samples_leaf = 7\n",
      "        and max_depth = 7\n",
      "\n",
      "Accuracy: 0.86\n",
      "Model stats for Random Forest with:\n",
      "\n",
      "     min_samples_leaf = 7\n",
      "        and max_depth = 8\n",
      "\n",
      "Accuracy: 0.86\n",
      "Model stats for Random Forest with:\n",
      "\n",
      "     min_samples_leaf = 7\n",
      "        and max_depth = 9\n",
      "\n",
      "Accuracy: 0.86\n",
      "Model stats for Random Forest with:\n",
      "\n",
      "     min_samples_leaf = 7\n",
      "        and max_depth = 10\n",
      "\n",
      "Accuracy: 0.86\n",
      "Model stats for Random Forest with:\n",
      "\n",
      "     min_samples_leaf = 8\n",
      "        and max_depth = 1\n",
      "\n",
      "Accuracy: 0.80\n",
      "Model stats for Random Forest with:\n",
      "\n",
      "     min_samples_leaf = 8\n",
      "        and max_depth = 2\n",
      "\n",
      "Accuracy: 0.81\n",
      "Model stats for Random Forest with:\n",
      "\n",
      "     min_samples_leaf = 8\n",
      "        and max_depth = 3\n",
      "\n",
      "Accuracy: 0.83\n",
      "Model stats for Random Forest with:\n",
      "\n",
      "     min_samples_leaf = 8\n",
      "        and max_depth = 4\n",
      "\n",
      "Accuracy: 0.84\n",
      "Model stats for Random Forest with:\n",
      "\n",
      "     min_samples_leaf = 8\n",
      "        and max_depth = 5\n",
      "\n",
      "Accuracy: 0.85\n",
      "Model stats for Random Forest with:\n",
      "\n",
      "     min_samples_leaf = 8\n",
      "        and max_depth = 6\n",
      "\n",
      "Accuracy: 0.86\n",
      "Model stats for Random Forest with:\n",
      "\n",
      "     min_samples_leaf = 8\n",
      "        and max_depth = 7\n",
      "\n",
      "Accuracy: 0.86\n",
      "Model stats for Random Forest with:\n",
      "\n",
      "     min_samples_leaf = 8\n",
      "        and max_depth = 8\n",
      "\n",
      "Accuracy: 0.86\n",
      "Model stats for Random Forest with:\n",
      "\n",
      "     min_samples_leaf = 8\n",
      "        and max_depth = 9\n",
      "\n",
      "Accuracy: 0.86\n",
      "Model stats for Random Forest with:\n",
      "\n",
      "     min_samples_leaf = 8\n",
      "        and max_depth = 10\n",
      "\n",
      "Accuracy: 0.86\n"
     ]
    },
    {
     "name": "stdout",
     "output_type": "stream",
     "text": [
      "Model stats for Random Forest with:\n",
      "\n",
      "     min_samples_leaf = 9\n",
      "        and max_depth = 1\n",
      "\n",
      "Accuracy: 0.80\n",
      "Model stats for Random Forest with:\n",
      "\n",
      "     min_samples_leaf = 9\n",
      "        and max_depth = 2\n",
      "\n",
      "Accuracy: 0.80\n",
      "Model stats for Random Forest with:\n",
      "\n",
      "     min_samples_leaf = 9\n",
      "        and max_depth = 3\n",
      "\n",
      "Accuracy: 0.83\n",
      "Model stats for Random Forest with:\n",
      "\n",
      "     min_samples_leaf = 9\n",
      "        and max_depth = 4\n",
      "\n",
      "Accuracy: 0.85\n",
      "Model stats for Random Forest with:\n",
      "\n",
      "     min_samples_leaf = 9\n",
      "        and max_depth = 5\n",
      "\n",
      "Accuracy: 0.85\n",
      "Model stats for Random Forest with:\n",
      "\n",
      "     min_samples_leaf = 9\n",
      "        and max_depth = 6\n",
      "\n",
      "Accuracy: 0.85\n",
      "Model stats for Random Forest with:\n",
      "\n",
      "     min_samples_leaf = 9\n",
      "        and max_depth = 7\n",
      "\n",
      "Accuracy: 0.85\n",
      "Model stats for Random Forest with:\n",
      "\n",
      "     min_samples_leaf = 9\n",
      "        and max_depth = 8\n",
      "\n",
      "Accuracy: 0.85\n",
      "Model stats for Random Forest with:\n",
      "\n",
      "     min_samples_leaf = 9\n",
      "        and max_depth = 9\n",
      "\n",
      "Accuracy: 0.85\n",
      "Model stats for Random Forest with:\n",
      "\n",
      "     min_samples_leaf = 9\n",
      "        and max_depth = 10\n",
      "\n",
      "Accuracy: 0.85\n",
      "Model stats for Random Forest with:\n",
      "\n",
      "     min_samples_leaf = 10\n",
      "        and max_depth = 1\n",
      "\n",
      "Accuracy: 0.80\n",
      "Model stats for Random Forest with:\n",
      "\n",
      "     min_samples_leaf = 10\n",
      "        and max_depth = 2\n",
      "\n",
      "Accuracy: 0.80\n",
      "Model stats for Random Forest with:\n",
      "\n",
      "     min_samples_leaf = 10\n",
      "        and max_depth = 3\n",
      "\n",
      "Accuracy: 0.83\n",
      "Model stats for Random Forest with:\n",
      "\n",
      "     min_samples_leaf = 10\n",
      "        and max_depth = 4\n",
      "\n",
      "Accuracy: 0.84\n",
      "Model stats for Random Forest with:\n",
      "\n",
      "     min_samples_leaf = 10\n",
      "        and max_depth = 5\n",
      "\n",
      "Accuracy: 0.85\n",
      "Model stats for Random Forest with:\n",
      "\n",
      "     min_samples_leaf = 10\n",
      "        and max_depth = 6\n",
      "\n",
      "Accuracy: 0.85\n",
      "Model stats for Random Forest with:\n",
      "\n",
      "     min_samples_leaf = 10\n",
      "        and max_depth = 7\n",
      "\n",
      "Accuracy: 0.84\n",
      "Model stats for Random Forest with:\n",
      "\n",
      "     min_samples_leaf = 10\n",
      "        and max_depth = 8\n",
      "\n",
      "Accuracy: 0.84\n",
      "Model stats for Random Forest with:\n",
      "\n",
      "     min_samples_leaf = 10\n",
      "        and max_depth = 9\n",
      "\n",
      "Accuracy: 0.84\n",
      "Model stats for Random Forest with:\n",
      "\n",
      "     min_samples_leaf = 10\n",
      "        and max_depth = 10\n",
      "\n",
      "Accuracy: 0.84\n",
      "best model had  1  for min_samples_leaf and 10 for max_depth\n"
     ]
    }
   ],
   "source": [
    "best_i = 0\n",
    "best_j = 0\n",
    "best_acc = 0\n",
    "\n",
    "for i in range(1,11):\n",
    "    for j in range(1,11):\n",
    "        rf = RandomForestClassifier(min_samples_leaf=i,\n",
    "                            max_depth=j, \n",
    "                            random_state=123)\n",
    "        rf.fit(X_train, y_train)\n",
    "        y_pred = rf.predict(X_train)\n",
    "\n",
    "        cm = confusion_matrix(y_train, y_pred)\n",
    "        model_scores(cm, i, j)\n",
    "        \n",
    "        if rf.score(X_train, y_train) > best_acc:\n",
    "            best_acc = rf.score(X_train, y_train)\n",
    "            best_i = i\n",
    "            best_j = j\n",
    "            \n",
    "print('best model had ', best_i,' for min_samples_leaf and', best_j, 'for max_depth')\n"
   ]
  },
  {
   "cell_type": "code",
   "execution_count": 55,
   "id": "0c41af03",
   "metadata": {},
   "outputs": [],
   "source": [
    "# model performs best on training data when minimum leaf samples is lower and max depth is higher"
   ]
  },
  {
   "cell_type": "code",
   "execution_count": 56,
   "id": "0ee0f5fd",
   "metadata": {},
   "outputs": [
    {
     "name": "stdout",
     "output_type": "stream",
     "text": [
      "Model stats for Random Forest with:\n",
      "\n",
      "     min_samples_leaf = 1\n",
      "        and max_depth = 1\n",
      "\n",
      "Accuracy: 0.79\n",
      "Model stats for Random Forest with:\n",
      "\n",
      "     min_samples_leaf = 1\n",
      "        and max_depth = 2\n",
      "\n",
      "Accuracy: 0.79\n",
      "Model stats for Random Forest with:\n",
      "\n",
      "     min_samples_leaf = 1\n",
      "        and max_depth = 3\n",
      "\n",
      "Accuracy: 0.84\n",
      "Model stats for Random Forest with:\n",
      "\n",
      "     min_samples_leaf = 1\n",
      "        and max_depth = 4\n",
      "\n",
      "Accuracy: 0.85\n",
      "Model stats for Random Forest with:\n",
      "\n",
      "     min_samples_leaf = 1\n",
      "        and max_depth = 5\n",
      "\n",
      "Accuracy: 0.85\n",
      "Model stats for Random Forest with:\n",
      "\n",
      "     min_samples_leaf = 1\n",
      "        and max_depth = 6\n",
      "\n",
      "Accuracy: 0.85\n",
      "Model stats for Random Forest with:\n",
      "\n",
      "     min_samples_leaf = 1\n",
      "        and max_depth = 7\n",
      "\n",
      "Accuracy: 0.86\n",
      "Model stats for Random Forest with:\n",
      "\n",
      "     min_samples_leaf = 1\n",
      "        and max_depth = 8\n",
      "\n",
      "Accuracy: 0.86\n",
      "Model stats for Random Forest with:\n",
      "\n",
      "     min_samples_leaf = 1\n",
      "        and max_depth = 9\n",
      "\n",
      "Accuracy: 0.84\n",
      "Model stats for Random Forest with:\n",
      "\n",
      "     min_samples_leaf = 1\n",
      "        and max_depth = 10\n",
      "\n",
      "Accuracy: 0.86\n",
      "Model stats for Random Forest with:\n",
      "\n",
      "     min_samples_leaf = 2\n",
      "        and max_depth = 1\n",
      "\n",
      "Accuracy: 0.79\n",
      "Model stats for Random Forest with:\n",
      "\n",
      "     min_samples_leaf = 2\n",
      "        and max_depth = 2\n",
      "\n",
      "Accuracy: 0.79\n",
      "Model stats for Random Forest with:\n",
      "\n",
      "     min_samples_leaf = 2\n",
      "        and max_depth = 3\n",
      "\n",
      "Accuracy: 0.84\n",
      "Model stats for Random Forest with:\n",
      "\n",
      "     min_samples_leaf = 2\n",
      "        and max_depth = 4\n",
      "\n",
      "Accuracy: 0.85\n",
      "Model stats for Random Forest with:\n",
      "\n",
      "     min_samples_leaf = 2\n",
      "        and max_depth = 5\n",
      "\n",
      "Accuracy: 0.86\n",
      "Model stats for Random Forest with:\n",
      "\n",
      "     min_samples_leaf = 2\n",
      "        and max_depth = 6\n",
      "\n",
      "Accuracy: 0.85\n",
      "Model stats for Random Forest with:\n",
      "\n",
      "     min_samples_leaf = 2\n",
      "        and max_depth = 7\n",
      "\n",
      "Accuracy: 0.85\n",
      "Model stats for Random Forest with:\n",
      "\n",
      "     min_samples_leaf = 2\n",
      "        and max_depth = 8\n",
      "\n",
      "Accuracy: 0.86\n",
      "Model stats for Random Forest with:\n",
      "\n",
      "     min_samples_leaf = 2\n",
      "        and max_depth = 9\n",
      "\n",
      "Accuracy: 0.86\n",
      "Model stats for Random Forest with:\n",
      "\n",
      "     min_samples_leaf = 2\n",
      "        and max_depth = 10\n",
      "\n",
      "Accuracy: 0.87\n",
      "Model stats for Random Forest with:\n",
      "\n",
      "     min_samples_leaf = 3\n",
      "        and max_depth = 1\n",
      "\n",
      "Accuracy: 0.79\n",
      "Model stats for Random Forest with:\n",
      "\n",
      "     min_samples_leaf = 3\n",
      "        and max_depth = 2\n",
      "\n",
      "Accuracy: 0.79\n",
      "Model stats for Random Forest with:\n",
      "\n",
      "     min_samples_leaf = 3\n",
      "        and max_depth = 3\n",
      "\n",
      "Accuracy: 0.84\n",
      "Model stats for Random Forest with:\n",
      "\n",
      "     min_samples_leaf = 3\n",
      "        and max_depth = 4\n",
      "\n",
      "Accuracy: 0.86\n",
      "Model stats for Random Forest with:\n",
      "\n",
      "     min_samples_leaf = 3\n",
      "        and max_depth = 5\n",
      "\n",
      "Accuracy: 0.85\n",
      "Model stats for Random Forest with:\n",
      "\n",
      "     min_samples_leaf = 3\n",
      "        and max_depth = 6\n",
      "\n",
      "Accuracy: 0.86\n",
      "Model stats for Random Forest with:\n",
      "\n",
      "     min_samples_leaf = 3\n",
      "        and max_depth = 7\n",
      "\n",
      "Accuracy: 0.84\n",
      "Model stats for Random Forest with:\n",
      "\n",
      "     min_samples_leaf = 3\n",
      "        and max_depth = 8\n",
      "\n",
      "Accuracy: 0.85\n",
      "Model stats for Random Forest with:\n",
      "\n",
      "     min_samples_leaf = 3\n",
      "        and max_depth = 9\n",
      "\n",
      "Accuracy: 0.84\n",
      "Model stats for Random Forest with:\n",
      "\n",
      "     min_samples_leaf = 3\n",
      "        and max_depth = 10\n",
      "\n",
      "Accuracy: 0.84\n",
      "Model stats for Random Forest with:\n",
      "\n",
      "     min_samples_leaf = 4\n",
      "        and max_depth = 1\n",
      "\n",
      "Accuracy: 0.79\n",
      "Model stats for Random Forest with:\n",
      "\n",
      "     min_samples_leaf = 4\n",
      "        and max_depth = 2\n",
      "\n",
      "Accuracy: 0.79\n",
      "Model stats for Random Forest with:\n",
      "\n",
      "     min_samples_leaf = 4\n",
      "        and max_depth = 3\n",
      "\n",
      "Accuracy: 0.84\n",
      "Model stats for Random Forest with:\n",
      "\n",
      "     min_samples_leaf = 4\n",
      "        and max_depth = 4\n",
      "\n",
      "Accuracy: 0.85\n",
      "Model stats for Random Forest with:\n",
      "\n",
      "     min_samples_leaf = 4\n",
      "        and max_depth = 5\n",
      "\n",
      "Accuracy: 0.83\n",
      "Model stats for Random Forest with:\n",
      "\n",
      "     min_samples_leaf = 4\n",
      "        and max_depth = 6\n",
      "\n",
      "Accuracy: 0.85\n",
      "Model stats for Random Forest with:\n",
      "\n",
      "     min_samples_leaf = 4\n",
      "        and max_depth = 7\n",
      "\n",
      "Accuracy: 0.85\n",
      "Model stats for Random Forest with:\n",
      "\n",
      "     min_samples_leaf = 4\n",
      "        and max_depth = 8\n",
      "\n",
      "Accuracy: 0.85\n",
      "Model stats for Random Forest with:\n",
      "\n",
      "     min_samples_leaf = 4\n",
      "        and max_depth = 9\n",
      "\n",
      "Accuracy: 0.85\n",
      "Model stats for Random Forest with:\n",
      "\n",
      "     min_samples_leaf = 4\n",
      "        and max_depth = 10\n",
      "\n",
      "Accuracy: 0.83\n",
      "Model stats for Random Forest with:\n",
      "\n",
      "     min_samples_leaf = 5\n",
      "        and max_depth = 1\n",
      "\n",
      "Accuracy: 0.79\n",
      "Model stats for Random Forest with:\n",
      "\n",
      "     min_samples_leaf = 5\n",
      "        and max_depth = 2\n",
      "\n",
      "Accuracy: 0.79\n",
      "Model stats for Random Forest with:\n",
      "\n",
      "     min_samples_leaf = 5\n",
      "        and max_depth = 3\n",
      "\n",
      "Accuracy: 0.83\n",
      "Model stats for Random Forest with:\n",
      "\n",
      "     min_samples_leaf = 5\n",
      "        and max_depth = 4\n",
      "\n",
      "Accuracy: 0.85\n",
      "Model stats for Random Forest with:\n",
      "\n",
      "     min_samples_leaf = 5\n",
      "        and max_depth = 5\n",
      "\n",
      "Accuracy: 0.84\n",
      "Model stats for Random Forest with:\n",
      "\n",
      "     min_samples_leaf = 5\n",
      "        and max_depth = 6\n",
      "\n",
      "Accuracy: 0.85\n",
      "Model stats for Random Forest with:\n",
      "\n",
      "     min_samples_leaf = 5\n",
      "        and max_depth = 7\n",
      "\n",
      "Accuracy: 0.86\n",
      "Model stats for Random Forest with:\n",
      "\n",
      "     min_samples_leaf = 5\n",
      "        and max_depth = 8\n",
      "\n",
      "Accuracy: 0.85\n",
      "Model stats for Random Forest with:\n",
      "\n",
      "     min_samples_leaf = 5\n",
      "        and max_depth = 9\n",
      "\n",
      "Accuracy: 0.84\n",
      "Model stats for Random Forest with:\n",
      "\n",
      "     min_samples_leaf = 5\n",
      "        and max_depth = 10\n",
      "\n",
      "Accuracy: 0.84\n",
      "Model stats for Random Forest with:\n",
      "\n",
      "     min_samples_leaf = 6\n",
      "        and max_depth = 1\n",
      "\n",
      "Accuracy: 0.79\n",
      "Model stats for Random Forest with:\n",
      "\n",
      "     min_samples_leaf = 6\n",
      "        and max_depth = 2\n",
      "\n",
      "Accuracy: 0.79\n",
      "Model stats for Random Forest with:\n",
      "\n",
      "     min_samples_leaf = 6\n",
      "        and max_depth = 3\n",
      "\n",
      "Accuracy: 0.83\n",
      "Model stats for Random Forest with:\n",
      "\n",
      "     min_samples_leaf = 6\n",
      "        and max_depth = 4\n",
      "\n",
      "Accuracy: 0.84\n",
      "Model stats for Random Forest with:\n",
      "\n",
      "     min_samples_leaf = 6\n",
      "        and max_depth = 5\n",
      "\n",
      "Accuracy: 0.85\n",
      "Model stats for Random Forest with:\n",
      "\n",
      "     min_samples_leaf = 6\n",
      "        and max_depth = 6\n",
      "\n",
      "Accuracy: 0.86\n",
      "Model stats for Random Forest with:\n",
      "\n",
      "     min_samples_leaf = 6\n",
      "        and max_depth = 7\n",
      "\n",
      "Accuracy: 0.85\n",
      "Model stats for Random Forest with:\n",
      "\n",
      "     min_samples_leaf = 6\n",
      "        and max_depth = 8\n",
      "\n",
      "Accuracy: 0.85\n",
      "Model stats for Random Forest with:\n",
      "\n",
      "     min_samples_leaf = 6\n",
      "        and max_depth = 9\n",
      "\n",
      "Accuracy: 0.85\n",
      "Model stats for Random Forest with:\n",
      "\n",
      "     min_samples_leaf = 6\n",
      "        and max_depth = 10\n",
      "\n",
      "Accuracy: 0.86\n",
      "Model stats for Random Forest with:\n",
      "\n",
      "     min_samples_leaf = 7\n",
      "        and max_depth = 1\n",
      "\n",
      "Accuracy: 0.79\n",
      "Model stats for Random Forest with:\n",
      "\n",
      "     min_samples_leaf = 7\n",
      "        and max_depth = 2\n",
      "\n",
      "Accuracy: 0.80\n",
      "Model stats for Random Forest with:\n",
      "\n",
      "     min_samples_leaf = 7\n",
      "        and max_depth = 3\n",
      "\n",
      "Accuracy: 0.83\n",
      "Model stats for Random Forest with:\n",
      "\n",
      "     min_samples_leaf = 7\n",
      "        and max_depth = 4\n",
      "\n",
      "Accuracy: 0.84\n",
      "Model stats for Random Forest with:\n",
      "\n",
      "     min_samples_leaf = 7\n",
      "        and max_depth = 5\n",
      "\n",
      "Accuracy: 0.85\n",
      "Model stats for Random Forest with:\n",
      "\n",
      "     min_samples_leaf = 7\n",
      "        and max_depth = 6\n",
      "\n",
      "Accuracy: 0.85\n",
      "Model stats for Random Forest with:\n",
      "\n",
      "     min_samples_leaf = 7\n",
      "        and max_depth = 7\n",
      "\n",
      "Accuracy: 0.84\n",
      "Model stats for Random Forest with:\n",
      "\n",
      "     min_samples_leaf = 7\n",
      "        and max_depth = 8\n",
      "\n",
      "Accuracy: 0.84\n",
      "Model stats for Random Forest with:\n",
      "\n",
      "     min_samples_leaf = 7\n",
      "        and max_depth = 9\n",
      "\n",
      "Accuracy: 0.84\n",
      "Model stats for Random Forest with:\n",
      "\n",
      "     min_samples_leaf = 7\n",
      "        and max_depth = 10\n",
      "\n",
      "Accuracy: 0.85\n",
      "Model stats for Random Forest with:\n",
      "\n",
      "     min_samples_leaf = 8\n",
      "        and max_depth = 1\n",
      "\n",
      "Accuracy: 0.79\n",
      "Model stats for Random Forest with:\n",
      "\n",
      "     min_samples_leaf = 8\n",
      "        and max_depth = 2\n",
      "\n",
      "Accuracy: 0.79\n",
      "Model stats for Random Forest with:\n",
      "\n",
      "     min_samples_leaf = 8\n",
      "        and max_depth = 3\n",
      "\n",
      "Accuracy: 0.83\n",
      "Model stats for Random Forest with:\n",
      "\n",
      "     min_samples_leaf = 8\n",
      "        and max_depth = 4\n",
      "\n",
      "Accuracy: 0.83\n",
      "Model stats for Random Forest with:\n",
      "\n",
      "     min_samples_leaf = 8\n",
      "        and max_depth = 5\n",
      "\n",
      "Accuracy: 0.85\n",
      "Model stats for Random Forest with:\n",
      "\n",
      "     min_samples_leaf = 8\n",
      "        and max_depth = 6\n",
      "\n",
      "Accuracy: 0.85\n",
      "Model stats for Random Forest with:\n",
      "\n",
      "     min_samples_leaf = 8\n",
      "        and max_depth = 7\n",
      "\n",
      "Accuracy: 0.85\n",
      "Model stats for Random Forest with:\n",
      "\n",
      "     min_samples_leaf = 8\n",
      "        and max_depth = 8\n",
      "\n",
      "Accuracy: 0.86\n",
      "Model stats for Random Forest with:\n",
      "\n",
      "     min_samples_leaf = 8\n",
      "        and max_depth = 9\n",
      "\n",
      "Accuracy: 0.86\n"
     ]
    },
    {
     "name": "stdout",
     "output_type": "stream",
     "text": [
      "Model stats for Random Forest with:\n",
      "\n",
      "     min_samples_leaf = 8\n",
      "        and max_depth = 10\n",
      "\n",
      "Accuracy: 0.85\n",
      "Model stats for Random Forest with:\n",
      "\n",
      "     min_samples_leaf = 9\n",
      "        and max_depth = 1\n",
      "\n",
      "Accuracy: 0.79\n",
      "Model stats for Random Forest with:\n",
      "\n",
      "     min_samples_leaf = 9\n",
      "        and max_depth = 2\n",
      "\n",
      "Accuracy: 0.79\n",
      "Model stats for Random Forest with:\n",
      "\n",
      "     min_samples_leaf = 9\n",
      "        and max_depth = 3\n",
      "\n",
      "Accuracy: 0.83\n",
      "Model stats for Random Forest with:\n",
      "\n",
      "     min_samples_leaf = 9\n",
      "        and max_depth = 4\n",
      "\n",
      "Accuracy: 0.83\n",
      "Model stats for Random Forest with:\n",
      "\n",
      "     min_samples_leaf = 9\n",
      "        and max_depth = 5\n",
      "\n",
      "Accuracy: 0.84\n",
      "Model stats for Random Forest with:\n",
      "\n",
      "     min_samples_leaf = 9\n",
      "        and max_depth = 6\n",
      "\n",
      "Accuracy: 0.83\n",
      "Model stats for Random Forest with:\n",
      "\n",
      "     min_samples_leaf = 9\n",
      "        and max_depth = 7\n",
      "\n",
      "Accuracy: 0.84\n",
      "Model stats for Random Forest with:\n",
      "\n",
      "     min_samples_leaf = 9\n",
      "        and max_depth = 8\n",
      "\n",
      "Accuracy: 0.84\n",
      "Model stats for Random Forest with:\n",
      "\n",
      "     min_samples_leaf = 9\n",
      "        and max_depth = 9\n",
      "\n",
      "Accuracy: 0.84\n",
      "Model stats for Random Forest with:\n",
      "\n",
      "     min_samples_leaf = 9\n",
      "        and max_depth = 10\n",
      "\n",
      "Accuracy: 0.84\n",
      "Model stats for Random Forest with:\n",
      "\n",
      "     min_samples_leaf = 10\n",
      "        and max_depth = 1\n",
      "\n",
      "Accuracy: 0.79\n",
      "Model stats for Random Forest with:\n",
      "\n",
      "     min_samples_leaf = 10\n",
      "        and max_depth = 2\n",
      "\n",
      "Accuracy: 0.79\n",
      "Model stats for Random Forest with:\n",
      "\n",
      "     min_samples_leaf = 10\n",
      "        and max_depth = 3\n",
      "\n",
      "Accuracy: 0.83\n",
      "Model stats for Random Forest with:\n",
      "\n",
      "     min_samples_leaf = 10\n",
      "        and max_depth = 4\n",
      "\n",
      "Accuracy: 0.83\n",
      "Model stats for Random Forest with:\n",
      "\n",
      "     min_samples_leaf = 10\n",
      "        and max_depth = 5\n",
      "\n",
      "Accuracy: 0.83\n",
      "Model stats for Random Forest with:\n",
      "\n",
      "     min_samples_leaf = 10\n",
      "        and max_depth = 6\n",
      "\n",
      "Accuracy: 0.83\n",
      "Model stats for Random Forest with:\n",
      "\n",
      "     min_samples_leaf = 10\n",
      "        and max_depth = 7\n",
      "\n",
      "Accuracy: 0.84\n",
      "Model stats for Random Forest with:\n",
      "\n",
      "     min_samples_leaf = 10\n",
      "        and max_depth = 8\n",
      "\n",
      "Accuracy: 0.84\n",
      "Model stats for Random Forest with:\n",
      "\n",
      "     min_samples_leaf = 10\n",
      "        and max_depth = 9\n",
      "\n",
      "Accuracy: 0.84\n",
      "Model stats for Random Forest with:\n",
      "\n",
      "     min_samples_leaf = 10\n",
      "        and max_depth = 10\n",
      "\n",
      "Accuracy: 0.84\n",
      "best model had  2  for min_samples_leaf and 10 for max_depth\n",
      "And an accuracy of 0.8671328671328671\n"
     ]
    }
   ],
   "source": [
    "best_i = 0\n",
    "best_j = 0\n",
    "best_acc = 0\n",
    "\n",
    "for i in range(1,11):\n",
    "    for j in range(1,11):\n",
    "        # create and fit the classifier using train\n",
    "        rf = RandomForestClassifier(min_samples_leaf=i,\n",
    "                            max_depth=j, \n",
    "                            random_state=123)\n",
    "        rf.fit(X_train, y_train)\n",
    "        \n",
    "        # create predictions and scores using validate\n",
    "        y_pred = rf.predict(X_validate)\n",
    "\n",
    "        cm = confusion_matrix(y_validate, y_pred)\n",
    "        model_scores(cm, i, j)\n",
    "        \n",
    "        if rf.score(X_validate, y_validate) >= best_acc:\n",
    "            best_acc = rf.score(X_validate, y_validate)\n",
    "            best_i = i\n",
    "            best_j = j\n",
    "            \n",
    "print('best model had ', best_i,' for min_samples_leaf and', best_j, 'for max_depth')\n",
    "print('And an accuracy of', best_acc)"
   ]
  },
  {
   "cell_type": "code",
   "execution_count": 57,
   "id": "3d30cc31",
   "metadata": {},
   "outputs": [],
   "source": [
    "# when using validation data the best model was the one with 4 min samples per leaf, and max depth of 3"
   ]
  },
  {
   "cell_type": "code",
   "execution_count": 58,
   "id": "b4b542f1",
   "metadata": {},
   "outputs": [],
   "source": [
    "# comparing models with combinations of min_samples and max_depths\n",
    "\n",
    "metrics = []\n",
    "\n",
    "for i in range(1,11):\n",
    "    for j in range(1,11):\n",
    "        # create and fit the classifier using train\n",
    "        rf = RandomForestClassifier(min_samples_leaf=i,\n",
    "                            max_depth=j, \n",
    "                            random_state=123)\n",
    "        rf.fit(X_train, y_train)\n",
    "        \n",
    "        y_train_pred = rf.predict(X_train)\n",
    "        y_val_pred = rf.predict(X_validate)\n",
    "\n",
    "        cm_train = confusion_matrix(y_train, y_train_pred)\n",
    "        cm_validate = confusion_matrix(y_validate, y_val_pred)\n",
    "        \n",
    "        acc_train = rf.score(X_train, y_train)\n",
    "        acc_val = rf.score(X_validate, y_validate)\n",
    "        \n",
    "        output = {\n",
    "            \"min_samples_per_leaf\": i,\n",
    "            \"max_depth\": j,\n",
    "            \"train_accuracy\": round(acc_train,4),\n",
    "            \"validate_accuracy\": round(acc_val,4)\n",
    "            }\n",
    "        metrics.append(output)\n",
    "        \n",
    "metrics = pd.DataFrame(metrics)\n",
    "metrics[\"difference\"] = abs(metrics.train_accuracy - metrics.validate_accuracy)\n",
    "\n",
    "\n"
   ]
  },
  {
   "cell_type": "code",
   "execution_count": 59,
   "id": "a2299b4c",
   "metadata": {},
   "outputs": [
    {
     "data": {
      "text/html": [
       "<div>\n",
       "<style scoped>\n",
       "    .dataframe tbody tr th:only-of-type {\n",
       "        vertical-align: middle;\n",
       "    }\n",
       "\n",
       "    .dataframe tbody tr th {\n",
       "        vertical-align: top;\n",
       "    }\n",
       "\n",
       "    .dataframe thead th {\n",
       "        text-align: right;\n",
       "    }\n",
       "</style>\n",
       "<table border=\"1\" class=\"dataframe\">\n",
       "  <thead>\n",
       "    <tr style=\"text-align: right;\">\n",
       "      <th></th>\n",
       "      <th>min_samples_per_leaf</th>\n",
       "      <th>max_depth</th>\n",
       "      <th>train_accuracy</th>\n",
       "      <th>validate_accuracy</th>\n",
       "      <th>difference</th>\n",
       "    </tr>\n",
       "  </thead>\n",
       "  <tbody>\n",
       "    <tr>\n",
       "      <th>77</th>\n",
       "      <td>8</td>\n",
       "      <td>8</td>\n",
       "      <td>0.8592</td>\n",
       "      <td>0.8601</td>\n",
       "      <td>0.0009</td>\n",
       "    </tr>\n",
       "    <tr>\n",
       "      <th>72</th>\n",
       "      <td>8</td>\n",
       "      <td>3</td>\n",
       "      <td>0.8263</td>\n",
       "      <td>0.8252</td>\n",
       "      <td>0.0011</td>\n",
       "    </tr>\n",
       "    <tr>\n",
       "      <th>97</th>\n",
       "      <td>10</td>\n",
       "      <td>8</td>\n",
       "      <td>0.8380</td>\n",
       "      <td>0.8392</td>\n",
       "      <td>0.0012</td>\n",
       "    </tr>\n",
       "    <tr>\n",
       "      <th>98</th>\n",
       "      <td>10</td>\n",
       "      <td>9</td>\n",
       "      <td>0.8380</td>\n",
       "      <td>0.8392</td>\n",
       "      <td>0.0012</td>\n",
       "    </tr>\n",
       "    <tr>\n",
       "      <th>99</th>\n",
       "      <td>10</td>\n",
       "      <td>10</td>\n",
       "      <td>0.8380</td>\n",
       "      <td>0.8392</td>\n",
       "      <td>0.0012</td>\n",
       "    </tr>\n",
       "    <tr>\n",
       "      <th>...</th>\n",
       "      <td>...</td>\n",
       "      <td>...</td>\n",
       "      <td>...</td>\n",
       "      <td>...</td>\n",
       "      <td>...</td>\n",
       "    </tr>\n",
       "    <tr>\n",
       "      <th>5</th>\n",
       "      <td>1</td>\n",
       "      <td>6</td>\n",
       "      <td>0.9249</td>\n",
       "      <td>0.8531</td>\n",
       "      <td>0.0718</td>\n",
       "    </tr>\n",
       "    <tr>\n",
       "      <th>6</th>\n",
       "      <td>1</td>\n",
       "      <td>7</td>\n",
       "      <td>0.9366</td>\n",
       "      <td>0.8601</td>\n",
       "      <td>0.0765</td>\n",
       "    </tr>\n",
       "    <tr>\n",
       "      <th>7</th>\n",
       "      <td>1</td>\n",
       "      <td>8</td>\n",
       "      <td>0.9601</td>\n",
       "      <td>0.8601</td>\n",
       "      <td>0.1000</td>\n",
       "    </tr>\n",
       "    <tr>\n",
       "      <th>9</th>\n",
       "      <td>1</td>\n",
       "      <td>10</td>\n",
       "      <td>0.9836</td>\n",
       "      <td>0.8601</td>\n",
       "      <td>0.1235</td>\n",
       "    </tr>\n",
       "    <tr>\n",
       "      <th>8</th>\n",
       "      <td>1</td>\n",
       "      <td>9</td>\n",
       "      <td>0.9718</td>\n",
       "      <td>0.8392</td>\n",
       "      <td>0.1326</td>\n",
       "    </tr>\n",
       "  </tbody>\n",
       "</table>\n",
       "<p>100 rows × 5 columns</p>\n",
       "</div>"
      ],
      "text/plain": [
       "    min_samples_per_leaf  max_depth  train_accuracy  validate_accuracy  \\\n",
       "77                     8          8          0.8592             0.8601   \n",
       "72                     8          3          0.8263             0.8252   \n",
       "97                    10          8          0.8380             0.8392   \n",
       "98                    10          9          0.8380             0.8392   \n",
       "99                    10         10          0.8380             0.8392   \n",
       "..                   ...        ...             ...                ...   \n",
       "5                      1          6          0.9249             0.8531   \n",
       "6                      1          7          0.9366             0.8601   \n",
       "7                      1          8          0.9601             0.8601   \n",
       "9                      1         10          0.9836             0.8601   \n",
       "8                      1          9          0.9718             0.8392   \n",
       "\n",
       "    difference  \n",
       "77      0.0009  \n",
       "72      0.0011  \n",
       "97      0.0012  \n",
       "98      0.0012  \n",
       "99      0.0012  \n",
       "..         ...  \n",
       "5       0.0718  \n",
       "6       0.0765  \n",
       "7       0.1000  \n",
       "9       0.1235  \n",
       "8       0.1326  \n",
       "\n",
       "[100 rows x 5 columns]"
      ]
     },
     "execution_count": 59,
     "metadata": {},
     "output_type": "execute_result"
    }
   ],
   "source": [
    "metrics.sort_values(['difference', 'validate_accuracy'], ascending=True)"
   ]
  },
  {
   "cell_type": "markdown",
   "id": "67f8a472",
   "metadata": {},
   "source": [
    "# K Nearest Neighbors"
   ]
  },
  {
   "cell_type": "code",
   "execution_count": 60,
   "id": "d6a64c89",
   "metadata": {},
   "outputs": [],
   "source": [
    "from sklearn.neighbors import KNeighborsClassifier"
   ]
  },
  {
   "cell_type": "markdown",
   "id": "7ba6c005",
   "metadata": {},
   "source": [
    "Continue working in your model file with the titanic dataset.\n",
    "\n"
   ]
  },
  {
   "cell_type": "markdown",
   "id": "891001e8",
   "metadata": {},
   "source": [
    "#### Fit a K-Nearest Neighbors classifier to your training sample and transform (i.e. make predictions on the training sample)\n"
   ]
  },
  {
   "cell_type": "code",
   "execution_count": 61,
   "id": "e42e35b7",
   "metadata": {},
   "outputs": [
    {
     "data": {
      "text/html": [
       "<div>\n",
       "<style scoped>\n",
       "    .dataframe tbody tr th:only-of-type {\n",
       "        vertical-align: middle;\n",
       "    }\n",
       "\n",
       "    .dataframe tbody tr th {\n",
       "        vertical-align: top;\n",
       "    }\n",
       "\n",
       "    .dataframe thead th {\n",
       "        text-align: right;\n",
       "    }\n",
       "</style>\n",
       "<table border=\"1\" class=\"dataframe\">\n",
       "  <thead>\n",
       "    <tr style=\"text-align: right;\">\n",
       "      <th></th>\n",
       "      <th>survived</th>\n",
       "      <th>pclass</th>\n",
       "      <th>sex</th>\n",
       "      <th>age</th>\n",
       "      <th>sibsp</th>\n",
       "      <th>parch</th>\n",
       "      <th>fare</th>\n",
       "      <th>embarked</th>\n",
       "      <th>embark_town</th>\n",
       "      <th>alone</th>\n",
       "      <th>sex_female</th>\n",
       "      <th>sex_male</th>\n",
       "      <th>embark_town_Cherbourg</th>\n",
       "      <th>embark_town_Queenstown</th>\n",
       "      <th>embark_town_Southampton</th>\n",
       "    </tr>\n",
       "  </thead>\n",
       "  <tbody>\n",
       "    <tr>\n",
       "      <th>130</th>\n",
       "      <td>0</td>\n",
       "      <td>3</td>\n",
       "      <td>male</td>\n",
       "      <td>33.0</td>\n",
       "      <td>0</td>\n",
       "      <td>0</td>\n",
       "      <td>7.8958</td>\n",
       "      <td>C</td>\n",
       "      <td>Cherbourg</td>\n",
       "      <td>1</td>\n",
       "      <td>0</td>\n",
       "      <td>1</td>\n",
       "      <td>1</td>\n",
       "      <td>0</td>\n",
       "      <td>0</td>\n",
       "    </tr>\n",
       "    <tr>\n",
       "      <th>391</th>\n",
       "      <td>1</td>\n",
       "      <td>3</td>\n",
       "      <td>male</td>\n",
       "      <td>21.0</td>\n",
       "      <td>0</td>\n",
       "      <td>0</td>\n",
       "      <td>7.7958</td>\n",
       "      <td>S</td>\n",
       "      <td>Southampton</td>\n",
       "      <td>1</td>\n",
       "      <td>0</td>\n",
       "      <td>1</td>\n",
       "      <td>0</td>\n",
       "      <td>0</td>\n",
       "      <td>1</td>\n",
       "    </tr>\n",
       "    <tr>\n",
       "      <th>785</th>\n",
       "      <td>0</td>\n",
       "      <td>3</td>\n",
       "      <td>male</td>\n",
       "      <td>25.0</td>\n",
       "      <td>0</td>\n",
       "      <td>0</td>\n",
       "      <td>7.2500</td>\n",
       "      <td>S</td>\n",
       "      <td>Southampton</td>\n",
       "      <td>1</td>\n",
       "      <td>0</td>\n",
       "      <td>1</td>\n",
       "      <td>0</td>\n",
       "      <td>0</td>\n",
       "      <td>1</td>\n",
       "    </tr>\n",
       "    <tr>\n",
       "      <th>162</th>\n",
       "      <td>0</td>\n",
       "      <td>3</td>\n",
       "      <td>male</td>\n",
       "      <td>26.0</td>\n",
       "      <td>0</td>\n",
       "      <td>0</td>\n",
       "      <td>7.7750</td>\n",
       "      <td>S</td>\n",
       "      <td>Southampton</td>\n",
       "      <td>1</td>\n",
       "      <td>0</td>\n",
       "      <td>1</td>\n",
       "      <td>0</td>\n",
       "      <td>0</td>\n",
       "      <td>1</td>\n",
       "    </tr>\n",
       "    <tr>\n",
       "      <th>16</th>\n",
       "      <td>0</td>\n",
       "      <td>3</td>\n",
       "      <td>male</td>\n",
       "      <td>2.0</td>\n",
       "      <td>4</td>\n",
       "      <td>1</td>\n",
       "      <td>29.1250</td>\n",
       "      <td>Q</td>\n",
       "      <td>Queenstown</td>\n",
       "      <td>0</td>\n",
       "      <td>0</td>\n",
       "      <td>1</td>\n",
       "      <td>0</td>\n",
       "      <td>1</td>\n",
       "      <td>0</td>\n",
       "    </tr>\n",
       "  </tbody>\n",
       "</table>\n",
       "</div>"
      ],
      "text/plain": [
       "     survived  pclass   sex   age  sibsp  parch     fare embarked  \\\n",
       "130         0       3  male  33.0      0      0   7.8958        C   \n",
       "391         1       3  male  21.0      0      0   7.7958        S   \n",
       "785         0       3  male  25.0      0      0   7.2500        S   \n",
       "162         0       3  male  26.0      0      0   7.7750        S   \n",
       "16          0       3  male   2.0      4      1  29.1250        Q   \n",
       "\n",
       "     embark_town  alone  sex_female  sex_male  embark_town_Cherbourg  \\\n",
       "130    Cherbourg      1           0         1                      1   \n",
       "391  Southampton      1           0         1                      0   \n",
       "785  Southampton      1           0         1                      0   \n",
       "162  Southampton      1           0         1                      0   \n",
       "16    Queenstown      0           0         1                      0   \n",
       "\n",
       "     embark_town_Queenstown  embark_town_Southampton  \n",
       "130                       0                        0  \n",
       "391                       0                        1  \n",
       "785                       0                        1  \n",
       "162                       0                        1  \n",
       "16                        1                        0  "
      ]
     },
     "execution_count": 61,
     "metadata": {},
     "output_type": "execute_result"
    }
   ],
   "source": [
    "train.head()"
   ]
  },
  {
   "cell_type": "code",
   "execution_count": 62,
   "id": "6c80803f",
   "metadata": {},
   "outputs": [],
   "source": [
    "# create X and y version of train\n",
    "\n",
    "X_train = train[features]\n",
    "y_train = train.survived\n",
    "\n",
    "X_validate = validate[features]\n",
    "y_validate = validate.survived\n",
    "\n",
    "X_test = test[features]\n",
    "y_test = test.survived"
   ]
  },
  {
   "cell_type": "code",
   "execution_count": 63,
   "id": "3e967657",
   "metadata": {},
   "outputs": [
    {
     "data": {
      "text/plain": [
       "KNeighborsClassifier()"
      ]
     },
     "execution_count": 63,
     "metadata": {},
     "output_type": "execute_result"
    }
   ],
   "source": [
    "# create and fit model\n",
    "knn = KNeighborsClassifier(n_neighbors=5, weights='uniform')\n",
    "knn.fit(X_train, y_train)"
   ]
  },
  {
   "cell_type": "code",
   "execution_count": 64,
   "id": "0daa4614",
   "metadata": {},
   "outputs": [],
   "source": [
    "# make predictions and estimate probability\n",
    "y_pred = knn.predict(X_train)\n",
    "y_pred_proba = knn.predict_proba(X_train)"
   ]
  },
  {
   "cell_type": "markdown",
   "id": "bd16a1eb",
   "metadata": {},
   "source": [
    "### Evaluate your results using the model score, confusion matrix, and classification report."
   ]
  },
  {
   "cell_type": "code",
   "execution_count": 65,
   "id": "929c58c1",
   "metadata": {},
   "outputs": [
    {
     "name": "stdout",
     "output_type": "stream",
     "text": [
      "Accuracy of KNN classifier on training set: 0.77\n"
     ]
    }
   ],
   "source": [
    "print('Accuracy of KNN classifier on training set: {:.2f}'\n",
    "     .format(knn.score(X_train, y_train)))"
   ]
  },
  {
   "cell_type": "code",
   "execution_count": 66,
   "id": "4d7f124d",
   "metadata": {},
   "outputs": [
    {
     "name": "stdout",
     "output_type": "stream",
     "text": [
      "     0    1\n",
      "0  215   39\n",
      "1   60  112\n"
     ]
    }
   ],
   "source": [
    "cm = confusion_matrix(y_train, y_pred)\n",
    "print(pd.DataFrame(cm))\n"
   ]
  },
  {
   "cell_type": "code",
   "execution_count": 67,
   "id": "20d8c331",
   "metadata": {},
   "outputs": [
    {
     "name": "stdout",
     "output_type": "stream",
     "text": [
      "              precision    recall  f1-score   support\n",
      "\n",
      "           0       0.78      0.85      0.81       254\n",
      "           1       0.74      0.65      0.69       172\n",
      "\n",
      "    accuracy                           0.77       426\n",
      "   macro avg       0.76      0.75      0.75       426\n",
      "weighted avg       0.77      0.77      0.76       426\n",
      "\n"
     ]
    }
   ],
   "source": [
    "print(classification_report(y_train, y_pred))\n"
   ]
  },
  {
   "cell_type": "markdown",
   "id": "3ad54d6d",
   "metadata": {},
   "source": [
    "### Print and clearly label the following: Accuracy, true positive rate, false positive rate, true negative rate, false negative rate, precision, recall, f1-score, and support."
   ]
  },
  {
   "cell_type": "code",
   "execution_count": 68,
   "id": "e4d05cc5",
   "metadata": {},
   "outputs": [],
   "source": [
    "def knn_scores(cm, n):\n",
    "    TN = cm[0,0]\n",
    "    FP = cm[0,1]\n",
    "    FN = cm[1,0]\n",
    "    TP = cm[1,1]\n",
    "    ALL = TP + FP + FN + TN\n",
    "    \n",
    "    print('Model stats for KNN with:')\n",
    "    print(\"\")\n",
    "    print('        # of neighbors =',n)\n",
    "    print(\"\")\n",
    "\n",
    "    # accuracy\n",
    "    acc = (TP + TN) / ALL\n",
    "    print('Accuracy: {:.2f}'.format(acc))\n",
    "    # true positive rate, also recall\n",
    "    TPR = recall = TP/ (TP + FN)\n",
    "    print('True Positive Rate: {:.2f}'.format(TPR))\n",
    "    # false positive rate\n",
    "    FPR = FP / (FP + TN)\n",
    "    print('False Positive Rate: {:.2f}'.format(FPR))\n",
    "    # true negative rate\n",
    "    TNR = TN / (TN + FP)\n",
    "    print('True Negative Rate: {:.2f}'.format(TNR))\n",
    "    # false negative rate\n",
    "    FNR = FN / (FN + TP)\n",
    "    print('Flase Negative Rate: {:.2f}'.format(FNR))\n",
    "    # precision\n",
    "    precision = TP / (TP + FP)\n",
    "    print('Precision: {:.2f}'.format(precision))\n",
    "    # recall\n",
    "    print('Recall: {:.2f}'.format(recall))\n",
    "    # f1\n",
    "    f1_score = 2 * (precision*recall) / (precision+recall)\n",
    "    print('f1 score: {:.2f}'.format(f1_score))\n",
    "    # support\n",
    "    support_pos = TP + FN\n",
    "    print('Positive support:',support_pos)\n",
    "    support_neg = FP + TN\n",
    "    print('Negative support:',support_neg)\n",
    "    print('-----------------------------------------')"
   ]
  },
  {
   "cell_type": "code",
   "execution_count": 69,
   "id": "03d34912",
   "metadata": {},
   "outputs": [
    {
     "name": "stdout",
     "output_type": "stream",
     "text": [
      "Model stats for KNN with:\n",
      "\n",
      "        # of neighbors = 5\n",
      "\n",
      "Accuracy: 0.77\n",
      "True Positive Rate: 0.65\n",
      "False Positive Rate: 0.15\n",
      "True Negative Rate: 0.85\n",
      "Flase Negative Rate: 0.35\n",
      "Precision: 0.74\n",
      "Recall: 0.65\n",
      "f1 score: 0.69\n",
      "Positive support: 172\n",
      "Negative support: 254\n",
      "-----------------------------------------\n"
     ]
    }
   ],
   "source": [
    "knn_scores(cm, 5)"
   ]
  },
  {
   "cell_type": "markdown",
   "id": "8884b719",
   "metadata": {},
   "source": [
    "## Run through steps 2-4 setting k to 10"
   ]
  },
  {
   "cell_type": "code",
   "execution_count": 70,
   "id": "2c4d924d",
   "metadata": {},
   "outputs": [
    {
     "data": {
      "text/plain": [
       "KNeighborsClassifier(n_neighbors=10)"
      ]
     },
     "execution_count": 70,
     "metadata": {},
     "output_type": "execute_result"
    }
   ],
   "source": [
    "# create and fit model\n",
    "knn10 = KNeighborsClassifier(n_neighbors=10, weights='uniform')\n",
    "knn10.fit(X_train, y_train)"
   ]
  },
  {
   "cell_type": "code",
   "execution_count": 71,
   "id": "a2af3412",
   "metadata": {},
   "outputs": [],
   "source": [
    "# make predictions and estimate probability\n",
    "y_pred10 = knn10.predict(X_train)\n",
    "y_pred_proba10 = knn10.predict_proba(X_train)"
   ]
  },
  {
   "cell_type": "code",
   "execution_count": 72,
   "id": "efda81b0",
   "metadata": {},
   "outputs": [
    {
     "name": "stdout",
     "output_type": "stream",
     "text": [
      "Accuracy of KNN classifier on training set: 0.73\n"
     ]
    }
   ],
   "source": [
    "print('Accuracy of KNN classifier on training set: {:.2f}'\n",
    "     .format(knn10.score(X_train, y_train)))"
   ]
  },
  {
   "cell_type": "code",
   "execution_count": 73,
   "id": "97330d0b",
   "metadata": {},
   "outputs": [
    {
     "name": "stdout",
     "output_type": "stream",
     "text": [
      "     0   1\n",
      "0  219  35\n",
      "1   78  94\n"
     ]
    }
   ],
   "source": [
    "cm10 = confusion_matrix(y_train, y_pred10)\n",
    "print(pd.DataFrame(cm10))"
   ]
  },
  {
   "cell_type": "code",
   "execution_count": 74,
   "id": "4cb4bed6",
   "metadata": {},
   "outputs": [
    {
     "name": "stdout",
     "output_type": "stream",
     "text": [
      "              precision    recall  f1-score   support\n",
      "\n",
      "           0       0.74      0.86      0.79       254\n",
      "           1       0.73      0.55      0.62       172\n",
      "\n",
      "    accuracy                           0.73       426\n",
      "   macro avg       0.73      0.70      0.71       426\n",
      "weighted avg       0.73      0.73      0.73       426\n",
      "\n"
     ]
    }
   ],
   "source": [
    "print(classification_report(y_train, y_pred10))\n"
   ]
  },
  {
   "cell_type": "code",
   "execution_count": 75,
   "id": "3e204c35",
   "metadata": {},
   "outputs": [
    {
     "name": "stdout",
     "output_type": "stream",
     "text": [
      "Model stats for KNN with:\n",
      "\n",
      "        # of neighbors = 10\n",
      "\n",
      "Accuracy: 0.73\n",
      "True Positive Rate: 0.55\n",
      "False Positive Rate: 0.14\n",
      "True Negative Rate: 0.86\n",
      "Flase Negative Rate: 0.45\n",
      "Precision: 0.73\n",
      "Recall: 0.55\n",
      "f1 score: 0.62\n",
      "Positive support: 172\n",
      "Negative support: 254\n",
      "-----------------------------------------\n"
     ]
    }
   ],
   "source": [
    "knn_scores(cm10, 10)"
   ]
  },
  {
   "cell_type": "markdown",
   "id": "211493bc",
   "metadata": {},
   "source": [
    "## Run through setps 2-4 setting k to 20\n",
    "\n"
   ]
  },
  {
   "cell_type": "code",
   "execution_count": 76,
   "id": "ed7bdf51",
   "metadata": {},
   "outputs": [
    {
     "name": "stdout",
     "output_type": "stream",
     "text": [
      "Accuracy of KNN classifier on training set: 0.73\n",
      "     0   1\n",
      "0  216  38\n",
      "1   77  95\n",
      "              precision    recall  f1-score   support\n",
      "\n",
      "           0       0.74      0.85      0.79       254\n",
      "           1       0.71      0.55      0.62       172\n",
      "\n",
      "    accuracy                           0.73       426\n",
      "   macro avg       0.73      0.70      0.71       426\n",
      "weighted avg       0.73      0.73      0.72       426\n",
      "\n",
      "Model stats for KNN with:\n",
      "\n",
      "        # of neighbors = 20\n",
      "\n",
      "Accuracy: 0.73\n",
      "True Positive Rate: 0.55\n",
      "False Positive Rate: 0.15\n",
      "True Negative Rate: 0.85\n",
      "Flase Negative Rate: 0.45\n",
      "Precision: 0.71\n",
      "Recall: 0.55\n",
      "f1 score: 0.62\n",
      "Positive support: 172\n",
      "Negative support: 254\n",
      "-----------------------------------------\n"
     ]
    }
   ],
   "source": [
    "# create and fit model\n",
    "knn20 = KNeighborsClassifier(n_neighbors=20, weights='uniform')\n",
    "knn20.fit(X_train, y_train)\n",
    "\n",
    "# make predictions and estimate probability\n",
    "y_pred20 = knn20.predict(X_train)\n",
    "y_pred_proba20 = knn20.predict_proba(X_train)\n",
    "\n",
    "print('Accuracy of KNN classifier on training set: {:.2f}'\n",
    "     .format(knn20.score(X_train, y_train)))\n",
    "\n",
    "cm20 = confusion_matrix(y_train, y_pred20)\n",
    "print(pd.DataFrame(cm20))\n",
    "print(classification_report(y_train, y_pred20))\n",
    "\n",
    "knn_scores(cm20, 20)\n"
   ]
  },
  {
   "cell_type": "markdown",
   "id": "855bb062",
   "metadata": {},
   "source": [
    "## What are the differences in the evaluation metrics? Which performs better on your in-sample data? Why?"
   ]
  },
  {
   "cell_type": "markdown",
   "id": "5def3437",
   "metadata": {},
   "source": [
    "#### The model with fewer nearest neighbors performs better on the training data"
   ]
  },
  {
   "cell_type": "markdown",
   "id": "f5a8aeaa",
   "metadata": {},
   "source": [
    "## Which model performs best on our out-of-sample data from validate?"
   ]
  },
  {
   "cell_type": "code",
   "execution_count": 77,
   "id": "92b18949",
   "metadata": {},
   "outputs": [
    {
     "name": "stdout",
     "output_type": "stream",
     "text": [
      "Accuracy of KNN classifier on validation set: 0.68\n",
      "Accuracy of KNN10 classifier on validation set: 0.73\n",
      "Accuracy of KNN20 classifier on validation set: 0.66\n"
     ]
    }
   ],
   "source": [
    "y_pred = knn.predict(X_validate)\n",
    "y_pred10 = knn10.predict(X_validate)\n",
    "y_pred20 = knn20.predict(X_validate)\n",
    "\n",
    "print('Accuracy of KNN classifier on validation set: {:.2f}'\n",
    "     .format(knn.score(X_validate, y_validate)))\n",
    "print('Accuracy of KNN10 classifier on validation set: {:.2f}'\n",
    "     .format(knn10.score(X_validate, y_validate)))\n",
    "print('Accuracy of KNN20 classifier on validation set: {:.2f}'\n",
    "     .format(knn20.score(X_validate, y_validate)))\n",
    "\n"
   ]
  },
  {
   "cell_type": "code",
   "execution_count": 78,
   "id": "af32ce65",
   "metadata": {},
   "outputs": [
    {
     "name": "stdout",
     "output_type": "stream",
     "text": [
      "Model stats for KNN with:\n",
      "\n",
      "        # of neighbors = 5\n",
      "\n",
      "Accuracy: 0.68\n",
      "True Positive Rate: 0.53\n",
      "False Positive Rate: 0.22\n",
      "True Negative Rate: 0.78\n",
      "Flase Negative Rate: 0.47\n",
      "Precision: 0.62\n",
      "Recall: 0.53\n",
      "f1 score: 0.57\n",
      "Positive support: 58\n",
      "Negative support: 85\n",
      "-----------------------------------------\n",
      "Model stats for KNN with:\n",
      "\n",
      "        # of neighbors = 10\n",
      "\n",
      "Accuracy: 0.73\n",
      "True Positive Rate: 0.53\n",
      "False Positive Rate: 0.13\n",
      "True Negative Rate: 0.87\n",
      "Flase Negative Rate: 0.47\n",
      "Precision: 0.74\n",
      "Recall: 0.53\n",
      "f1 score: 0.62\n",
      "Positive support: 58\n",
      "Negative support: 85\n",
      "-----------------------------------------\n",
      "Model stats for KNN with:\n",
      "\n",
      "        # of neighbors = 20\n",
      "\n",
      "Accuracy: 0.66\n",
      "True Positive Rate: 0.52\n",
      "False Positive Rate: 0.24\n",
      "True Negative Rate: 0.76\n",
      "Flase Negative Rate: 0.48\n",
      "Precision: 0.60\n",
      "Recall: 0.52\n",
      "f1 score: 0.56\n",
      "Positive support: 58\n",
      "Negative support: 85\n",
      "-----------------------------------------\n"
     ]
    }
   ],
   "source": [
    "cm = confusion_matrix(y_validate, y_pred)\n",
    "cm10 = confusion_matrix(y_validate, y_pred10)\n",
    "cm20 = confusion_matrix(y_validate, y_pred20)\n",
    "\n",
    "knn_scores(cm, 5)\n",
    "knn_scores(cm10, 10)\n",
    "knn_scores(cm20, 20)\n"
   ]
  },
  {
   "cell_type": "markdown",
   "id": "e74d1620",
   "metadata": {},
   "source": [
    "The third model (20 neighbors) performs best on the validate data set.  "
   ]
  },
  {
   "cell_type": "markdown",
   "id": "5127d0e2",
   "metadata": {},
   "source": [
    "# Logistic Regression"
   ]
  },
  {
   "cell_type": "markdown",
   "id": "40b1701f",
   "metadata": {},
   "source": [
    "#### Create a model that includes age in addition to fare and pclass. Does this model perform better than your baseline?"
   ]
  },
  {
   "cell_type": "code",
   "execution_count": 79,
   "id": "01001268",
   "metadata": {},
   "outputs": [
    {
     "data": {
      "text/html": [
       "<div>\n",
       "<style scoped>\n",
       "    .dataframe tbody tr th:only-of-type {\n",
       "        vertical-align: middle;\n",
       "    }\n",
       "\n",
       "    .dataframe tbody tr th {\n",
       "        vertical-align: top;\n",
       "    }\n",
       "\n",
       "    .dataframe thead th {\n",
       "        text-align: right;\n",
       "    }\n",
       "</style>\n",
       "<table border=\"1\" class=\"dataframe\">\n",
       "  <thead>\n",
       "    <tr style=\"text-align: right;\">\n",
       "      <th></th>\n",
       "      <th>survived</th>\n",
       "      <th>pclass</th>\n",
       "      <th>sex</th>\n",
       "      <th>age</th>\n",
       "      <th>sibsp</th>\n",
       "      <th>parch</th>\n",
       "      <th>fare</th>\n",
       "      <th>embarked</th>\n",
       "      <th>embark_town</th>\n",
       "      <th>alone</th>\n",
       "      <th>sex_female</th>\n",
       "      <th>sex_male</th>\n",
       "      <th>embark_town_Cherbourg</th>\n",
       "      <th>embark_town_Queenstown</th>\n",
       "      <th>embark_town_Southampton</th>\n",
       "    </tr>\n",
       "  </thead>\n",
       "  <tbody>\n",
       "    <tr>\n",
       "      <th>0</th>\n",
       "      <td>0</td>\n",
       "      <td>3</td>\n",
       "      <td>male</td>\n",
       "      <td>22.0</td>\n",
       "      <td>1</td>\n",
       "      <td>0</td>\n",
       "      <td>7.2500</td>\n",
       "      <td>S</td>\n",
       "      <td>Southampton</td>\n",
       "      <td>0</td>\n",
       "      <td>0</td>\n",
       "      <td>1</td>\n",
       "      <td>0</td>\n",
       "      <td>0</td>\n",
       "      <td>1</td>\n",
       "    </tr>\n",
       "    <tr>\n",
       "      <th>1</th>\n",
       "      <td>1</td>\n",
       "      <td>1</td>\n",
       "      <td>female</td>\n",
       "      <td>38.0</td>\n",
       "      <td>1</td>\n",
       "      <td>0</td>\n",
       "      <td>71.2833</td>\n",
       "      <td>C</td>\n",
       "      <td>Cherbourg</td>\n",
       "      <td>0</td>\n",
       "      <td>1</td>\n",
       "      <td>0</td>\n",
       "      <td>1</td>\n",
       "      <td>0</td>\n",
       "      <td>0</td>\n",
       "    </tr>\n",
       "    <tr>\n",
       "      <th>2</th>\n",
       "      <td>1</td>\n",
       "      <td>3</td>\n",
       "      <td>female</td>\n",
       "      <td>26.0</td>\n",
       "      <td>0</td>\n",
       "      <td>0</td>\n",
       "      <td>7.9250</td>\n",
       "      <td>S</td>\n",
       "      <td>Southampton</td>\n",
       "      <td>1</td>\n",
       "      <td>1</td>\n",
       "      <td>0</td>\n",
       "      <td>0</td>\n",
       "      <td>0</td>\n",
       "      <td>1</td>\n",
       "    </tr>\n",
       "    <tr>\n",
       "      <th>3</th>\n",
       "      <td>1</td>\n",
       "      <td>1</td>\n",
       "      <td>female</td>\n",
       "      <td>35.0</td>\n",
       "      <td>1</td>\n",
       "      <td>0</td>\n",
       "      <td>53.1000</td>\n",
       "      <td>S</td>\n",
       "      <td>Southampton</td>\n",
       "      <td>0</td>\n",
       "      <td>1</td>\n",
       "      <td>0</td>\n",
       "      <td>0</td>\n",
       "      <td>0</td>\n",
       "      <td>1</td>\n",
       "    </tr>\n",
       "    <tr>\n",
       "      <th>4</th>\n",
       "      <td>0</td>\n",
       "      <td>3</td>\n",
       "      <td>male</td>\n",
       "      <td>35.0</td>\n",
       "      <td>0</td>\n",
       "      <td>0</td>\n",
       "      <td>8.0500</td>\n",
       "      <td>S</td>\n",
       "      <td>Southampton</td>\n",
       "      <td>1</td>\n",
       "      <td>0</td>\n",
       "      <td>1</td>\n",
       "      <td>0</td>\n",
       "      <td>0</td>\n",
       "      <td>1</td>\n",
       "    </tr>\n",
       "  </tbody>\n",
       "</table>\n",
       "</div>"
      ],
      "text/plain": [
       "   survived  pclass     sex   age  sibsp  parch     fare embarked  \\\n",
       "0         0       3    male  22.0      1      0   7.2500        S   \n",
       "1         1       1  female  38.0      1      0  71.2833        C   \n",
       "2         1       3  female  26.0      0      0   7.9250        S   \n",
       "3         1       1  female  35.0      1      0  53.1000        S   \n",
       "4         0       3    male  35.0      0      0   8.0500        S   \n",
       "\n",
       "   embark_town  alone  sex_female  sex_male  embark_town_Cherbourg  \\\n",
       "0  Southampton      0           0         1                      0   \n",
       "1    Cherbourg      0           1         0                      1   \n",
       "2  Southampton      1           1         0                      0   \n",
       "3  Southampton      0           1         0                      0   \n",
       "4  Southampton      1           0         1                      0   \n",
       "\n",
       "   embark_town_Queenstown  embark_town_Southampton  \n",
       "0                       0                        1  \n",
       "1                       0                        0  \n",
       "2                       0                        1  \n",
       "3                       0                        1  \n",
       "4                       0                        1  "
      ]
     },
     "execution_count": 79,
     "metadata": {},
     "output_type": "execute_result"
    }
   ],
   "source": [
    "df.head()"
   ]
  },
  {
   "cell_type": "code",
   "execution_count": 80,
   "id": "78052b68",
   "metadata": {},
   "outputs": [],
   "source": [
    "from sklearn.linear_model import LogisticRegression"
   ]
  },
  {
   "cell_type": "markdown",
   "id": "6304b83b",
   "metadata": {},
   "source": [
    "#### Create a model that includes age in addition to fare and pclass. Does this model perform better than your baseline?"
   ]
  },
  {
   "cell_type": "code",
   "execution_count": 81,
   "id": "b2079829",
   "metadata": {},
   "outputs": [],
   "source": [
    "# use specified features\n",
    "features = ['age', 'fare', 'pclass']\n",
    "\n",
    "# create X and y version of train, validate, and test\n",
    "X_train = train[features]\n",
    "y_train = train.survived\n",
    "\n",
    "X_validate = validate[features]\n",
    "y_validate = validate.survived\n",
    "\n",
    "X_test = test[features]\n",
    "y_test = test.survived"
   ]
  },
  {
   "cell_type": "code",
   "execution_count": 82,
   "id": "f73c9e61",
   "metadata": {},
   "outputs": [
    {
     "data": {
      "text/plain": [
       "LogisticRegression(random_state=123)"
      ]
     },
     "execution_count": 82,
     "metadata": {},
     "output_type": "execute_result"
    }
   ],
   "source": [
    "# make the model\n",
    "logit = LogisticRegression(random_state=123)\n",
    "\n",
    "#fit the model\n",
    "logit.fit(X_train, y_train)\n"
   ]
  },
  {
   "cell_type": "code",
   "execution_count": 83,
   "id": "42395895",
   "metadata": {},
   "outputs": [
    {
     "name": "stdout",
     "output_type": "stream",
     "text": [
      "Coefficient: \n",
      " [[-0.04416486  0.00428582 -1.21730482]]\n",
      "Intercept: \n",
      " [3.45642644]\n"
     ]
    }
   ],
   "source": [
    "# evaluate the intercept of the model\n",
    "print('Coefficient: \\n', logit.coef_)\n",
    "print('Intercept: \\n', logit.intercept_)"
   ]
  },
  {
   "cell_type": "code",
   "execution_count": 84,
   "id": "9db1d449",
   "metadata": {},
   "outputs": [],
   "source": [
    "# make predictions\n",
    "y_pred = logit.predict(X_train)\n",
    "y_pred_proba = logit.predict_proba(X_train)"
   ]
  },
  {
   "cell_type": "code",
   "execution_count": 85,
   "id": "c0327755",
   "metadata": {},
   "outputs": [
    {
     "name": "stdout",
     "output_type": "stream",
     "text": [
      "Accuracy of Logistic Regression classifier on training set: 0.73\n"
     ]
    }
   ],
   "source": [
    "# evaluate accuracy\n",
    "print('Accuracy of Logistic Regression classifier on training set: {:.2f}'\n",
    "     .format(logit.score(X_train, y_train)))"
   ]
  },
  {
   "cell_type": "code",
   "execution_count": 86,
   "id": "b84195e7",
   "metadata": {},
   "outputs": [
    {
     "name": "stdout",
     "output_type": "stream",
     "text": [
      "Accuracy of Logistic Regression classifier on validation set: 0.69\n"
     ]
    }
   ],
   "source": [
    "# evaluate accuracy against validation set\n",
    "print('Accuracy of Logistic Regression classifier on validation set: {:.2f}'\n",
    "     .format(logit.score(X_validate, y_validate)))"
   ]
  },
  {
   "cell_type": "markdown",
   "id": "8c401205",
   "metadata": {},
   "source": [
    "##### The model beat baseline with age, fare, and p-class as features"
   ]
  },
  {
   "cell_type": "markdown",
   "id": "db964398",
   "metadata": {},
   "source": [
    "### Include sex in your model as well. Note that you'll need to encode or create a dummy variable of this feature before including it in a model."
   ]
  },
  {
   "cell_type": "code",
   "execution_count": 89,
   "id": "dc5d3474",
   "metadata": {},
   "outputs": [],
   "source": [
    "# use specified features\n",
    "features = ['age', 'fare', 'pclass', 'sex_male']\n",
    "\n",
    "# create X and y version of train, validate, and test\n",
    "X_train = train[features]\n",
    "y_train = train.survived\n",
    "\n",
    "X_validate = validate[features]\n",
    "y_validate = validate.survived\n",
    "\n",
    "X_test = test[features]\n",
    "y_test = test.survived"
   ]
  },
  {
   "cell_type": "code",
   "execution_count": 90,
   "id": "d81347e8",
   "metadata": {},
   "outputs": [
    {
     "data": {
      "text/plain": [
       "LogisticRegression(random_state=123)"
      ]
     },
     "execution_count": 90,
     "metadata": {},
     "output_type": "execute_result"
    }
   ],
   "source": [
    "# make the model\n",
    "logit = LogisticRegression(random_state=123)\n",
    "\n",
    "#fit the model\n",
    "logit.fit(X_train, y_train)"
   ]
  },
  {
   "cell_type": "code",
   "execution_count": 91,
   "id": "9a2f1e43",
   "metadata": {},
   "outputs": [
    {
     "name": "stdout",
     "output_type": "stream",
     "text": [
      "Coefficient: \n",
      " [[-4.08516719e-02  2.25422643e-03 -1.29705245e+00 -2.47395007e+00]]\n",
      "Intercept: \n",
      " [5.09994635]\n"
     ]
    }
   ],
   "source": [
    "# evaluate the intercept of the model\n",
    "print('Coefficient: \\n', logit.coef_)\n",
    "print('Intercept: \\n', logit.intercept_)"
   ]
  },
  {
   "cell_type": "code",
   "execution_count": 92,
   "id": "efc0cd20",
   "metadata": {},
   "outputs": [],
   "source": [
    "# make predictions\n",
    "y_pred = logit.predict(X_train)\n",
    "y_pred_proba = logit.predict_proba(X_train)"
   ]
  },
  {
   "cell_type": "code",
   "execution_count": 93,
   "id": "d09faa6a",
   "metadata": {},
   "outputs": [
    {
     "name": "stdout",
     "output_type": "stream",
     "text": [
      "Accuracy of Logistic Regression classifier on training set: 0.82\n",
      "Accuracy of Logistic Regression classifier on validation set: 0.84\n"
     ]
    }
   ],
   "source": [
    "# evaluate accuracy\n",
    "print('Accuracy of Logistic Regression classifier on training set: {:.2f}'\n",
    "     .format(logit.score(X_train, y_train)))\n",
    "# evaluate accuracy against validation set\n",
    "print('Accuracy of Logistic Regression classifier on validation set: {:.2f}'\n",
    "     .format(logit.score(X_validate, y_validate)))"
   ]
  },
  {
   "cell_type": "markdown",
   "id": "3ef10b05",
   "metadata": {},
   "source": [
    "### Try out other combinations of features and models.\n",
    "\n"
   ]
  },
  {
   "cell_type": "code",
   "execution_count": 94,
   "id": "a87e75b1",
   "metadata": {},
   "outputs": [
    {
     "data": {
      "text/plain": [
       "LogisticRegression(C=1, class_weight={0: 1, 1: 99}, random_state=123)"
      ]
     },
     "execution_count": 94,
     "metadata": {},
     "output_type": "execute_result"
    }
   ],
   "source": [
    "# make the model\n",
    "logit = LogisticRegression(C=1, class_weight={0:1, 1:99}, random_state=123, intercept_scaling=1, solver='lbfgs')\n",
    "\n",
    "#fit the model\n",
    "logit.fit(X_train, y_train)"
   ]
  },
  {
   "cell_type": "code",
   "execution_count": 95,
   "id": "dc94ece5",
   "metadata": {},
   "outputs": [
    {
     "name": "stdout",
     "output_type": "stream",
     "text": [
      "Coefficient: \n",
      " [[-3.47419999e-02  1.71550522e-03 -1.06720823e+00 -2.34704264e+00]]\n",
      "Intercept: \n",
      " [8.9079236]\n"
     ]
    }
   ],
   "source": [
    "# evaluate the intercept of the model\n",
    "print('Coefficient: \\n', logit.coef_)\n",
    "print('Intercept: \\n', logit.intercept_)"
   ]
  },
  {
   "cell_type": "code",
   "execution_count": 96,
   "id": "24189dc8",
   "metadata": {},
   "outputs": [],
   "source": [
    "# make predictions\n",
    "y_pred = logit.predict(X_train)\n",
    "y_pred_proba = logit.predict_proba(X_train)"
   ]
  },
  {
   "cell_type": "code",
   "execution_count": 97,
   "id": "b686e856",
   "metadata": {},
   "outputs": [
    {
     "name": "stdout",
     "output_type": "stream",
     "text": [
      "Accuracy of Logistic Regression classifier on training set: 0.40\n",
      "Accuracy of Logistic Regression classifier on validation set: 0.41\n"
     ]
    }
   ],
   "source": [
    "# evaluate accuracy\n",
    "print('Accuracy of Logistic Regression classifier on training set: {:.2f}'\n",
    "     .format(logit.score(X_train, y_train)))\n",
    "# evaluate accuracy against validation set\n",
    "print('Accuracy of Logistic Regression classifier on validation set: {:.2f}'\n",
    "     .format(logit.score(X_validate, y_validate)))"
   ]
  },
  {
   "cell_type": "markdown",
   "id": "9a2ac212",
   "metadata": {},
   "source": [
    "### try adjusting features on original model by adding alone"
   ]
  },
  {
   "cell_type": "code",
   "execution_count": 103,
   "id": "787c2e69",
   "metadata": {},
   "outputs": [],
   "source": [
    "#  add alone\n",
    "features = features = ['age', 'pclass', 'fare', 'alone', 'sex_male']\n",
    "\n",
    "# create X and y version of train, validate, and test\n",
    "X_train = train[features]\n",
    "y_train = train.survived\n",
    "\n",
    "X_validate = validate[features]\n",
    "y_validate = validate.survived\n",
    "\n",
    "X_test = test[features]\n",
    "y_test = test.survived"
   ]
  },
  {
   "cell_type": "code",
   "execution_count": 104,
   "id": "3ac9c283",
   "metadata": {},
   "outputs": [
    {
     "data": {
      "text/plain": [
       "LogisticRegression(random_state=123)"
      ]
     },
     "execution_count": 104,
     "metadata": {},
     "output_type": "execute_result"
    }
   ],
   "source": [
    "# make the model\n",
    "logit = LogisticRegression(random_state=123)\n",
    "\n",
    "#fit the model\n",
    "logit.fit(X_train, y_train)"
   ]
  },
  {
   "cell_type": "code",
   "execution_count": 105,
   "id": "03a98827",
   "metadata": {},
   "outputs": [
    {
     "name": "stdout",
     "output_type": "stream",
     "text": [
      "Coefficient: \n",
      " [[-3.94120980e-02 -1.29906355e+00  1.65458829e-03 -2.33152902e-01\n",
      "  -2.43491042e+00]]\n",
      "Intercept: \n",
      " [5.1852801]\n"
     ]
    }
   ],
   "source": [
    "# evaluate the intercept of the model\n",
    "print('Coefficient: \\n', logit.coef_)\n",
    "print('Intercept: \\n', logit.intercept_)"
   ]
  },
  {
   "cell_type": "code",
   "execution_count": 106,
   "id": "9fda3207",
   "metadata": {},
   "outputs": [
    {
     "name": "stdout",
     "output_type": "stream",
     "text": [
      "Accuracy of Logistic Regression classifier on training set: 0.83\n",
      "Accuracy of Logistic Regression classifier on validation set: 0.84\n"
     ]
    }
   ],
   "source": [
    "# evaluate accuracy\n",
    "print('Accuracy of Logistic Regression classifier on training set: {:.2f}'\n",
    "     .format(logit.score(X_train, y_train)))\n",
    "# evaluate accuracy against validation set\n",
    "print('Accuracy of Logistic Regression classifier on validation set: {:.2f}'\n",
    "     .format(logit.score(X_validate, y_validate)))"
   ]
  },
  {
   "cell_type": "markdown",
   "id": "87234633",
   "metadata": {},
   "source": [
    "### Use your best 3 models to predict and evaluate on the validate sample\n",
    "\n",
    "##### Already done on previous steps"
   ]
  },
  {
   "cell_type": "markdown",
   "id": "4ca7a913",
   "metadata": {},
   "source": [
    "### Choose you best model from the validation performation, and evaluate it on the test dataset. How do the performance metrics compare to validate? to train?"
   ]
  },
  {
   "cell_type": "code",
   "execution_count": 108,
   "id": "50452699",
   "metadata": {},
   "outputs": [
    {
     "name": "stdout",
     "output_type": "stream",
     "text": [
      "Accuracy of Logistic Regression classifier on test set: 0.70\n"
     ]
    }
   ],
   "source": [
    "# evaluate accuracy\n",
    "print('Accuracy of Logistic Regression classifier on test set: {:.2f}'\n",
    "     .format(logit.score(X_test, y_test)))"
   ]
  },
  {
   "cell_type": "code",
   "execution_count": null,
   "id": "46af61b7",
   "metadata": {},
   "outputs": [],
   "source": [
    "p"
   ]
  }
 ],
 "metadata": {
  "kernelspec": {
   "display_name": "Python 3 (ipykernel)",
   "language": "python",
   "name": "python3"
  },
  "language_info": {
   "codemirror_mode": {
    "name": "ipython",
    "version": 3
   },
   "file_extension": ".py",
   "mimetype": "text/x-python",
   "name": "python",
   "nbconvert_exporter": "python",
   "pygments_lexer": "ipython3",
   "version": "3.9.12"
  }
 },
 "nbformat": 4,
 "nbformat_minor": 5
}
