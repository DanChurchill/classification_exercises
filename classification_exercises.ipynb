{
 "cells": [
  {
   "cell_type": "code",
   "execution_count": 1,
   "id": "de8245b1",
   "metadata": {},
   "outputs": [],
   "source": [
    "import env\n",
    "import os\n",
    "import seaborn as sns\n",
    "import matplotlib.pyplot as plt\n",
    "import acquire\n",
    "import prepare\n",
    "import pandas as pd\n",
    "from sklearn.model_selection import train_test_split\n",
    "import scipy.stats as stats\n",
    "import warnings\n",
    "warnings.filterwarnings(\"ignore\")\n"
   ]
  },
  {
   "cell_type": "markdown",
   "id": "179fd532",
   "metadata": {},
   "source": [
    "# In a jupyter notebook, classification_exercises.ipynb, use a python module (pydata or seaborn datasets) containing datasets as a source from the iris data. "
   ]
  },
  {
   "cell_type": "markdown",
   "id": "d3e1e6cd",
   "metadata": {},
   "source": [
    "# Create a pandas dataframe, df_iris, from this data."
   ]
  },
  {
   "cell_type": "code",
   "execution_count": null,
   "id": "ceed5132",
   "metadata": {},
   "outputs": [],
   "source": [
    "df_iris = sns.load_dataset(\"iris\")"
   ]
  },
  {
   "cell_type": "markdown",
   "id": "be58bef7",
   "metadata": {},
   "source": [
    "print the first 3 rows"
   ]
  },
  {
   "cell_type": "code",
   "execution_count": null,
   "id": "957f1d50",
   "metadata": {},
   "outputs": [],
   "source": [
    "df_iris.head(3)"
   ]
  },
  {
   "cell_type": "markdown",
   "id": "6e3bd86e",
   "metadata": {},
   "source": [
    "print the number of rows and columns (shape)"
   ]
  },
  {
   "cell_type": "code",
   "execution_count": null,
   "id": "4df0b3ff",
   "metadata": {},
   "outputs": [],
   "source": [
    "df_iris.shape"
   ]
  },
  {
   "cell_type": "markdown",
   "id": "fb82b1c2",
   "metadata": {},
   "source": [
    "print the column names"
   ]
  },
  {
   "cell_type": "code",
   "execution_count": null,
   "id": "ae463a22",
   "metadata": {},
   "outputs": [],
   "source": [
    "df_iris.columns"
   ]
  },
  {
   "cell_type": "markdown",
   "id": "3346461c",
   "metadata": {},
   "source": [
    "print the data type of each column"
   ]
  },
  {
   "cell_type": "code",
   "execution_count": null,
   "id": "a3a6edb9",
   "metadata": {},
   "outputs": [],
   "source": [
    "df_iris.info()"
   ]
  },
  {
   "cell_type": "markdown",
   "id": "19c5086e",
   "metadata": {},
   "source": [
    "print the summary statistics for each of the numeric variables. "
   ]
  },
  {
   "cell_type": "code",
   "execution_count": null,
   "id": "eb0ce25a",
   "metadata": {},
   "outputs": [],
   "source": [
    "df_iris.describe()"
   ]
  },
  {
   "cell_type": "markdown",
   "id": "dcb3c5be",
   "metadata": {},
   "source": [
    "Would you recommend rescaling the data based on these statistics?\n",
    "\n",
    "It does not appear rescaling is necessary"
   ]
  },
  {
   "cell_type": "markdown",
   "id": "46d8f312",
   "metadata": {},
   "source": [
    "# Read the Table1_CustDetails table from the Excel_Exercises.xlsx file into a dataframe named df_excel"
   ]
  },
  {
   "cell_type": "code",
   "execution_count": null,
   "id": "94042d3d",
   "metadata": {},
   "outputs": [],
   "source": [
    "df_excel = pd.read_excel('Excel_Exercises.xlsx')"
   ]
  },
  {
   "cell_type": "markdown",
   "id": "ba8b9b9c",
   "metadata": {},
   "source": [
    "assign the first 100 rows to a new dataframe, df_excel_sample"
   ]
  },
  {
   "cell_type": "code",
   "execution_count": null,
   "id": "77302d0b",
   "metadata": {},
   "outputs": [],
   "source": [
    "df_excel_sample = df_excel.head(100)"
   ]
  },
  {
   "cell_type": "markdown",
   "id": "d92feb38",
   "metadata": {},
   "source": [
    "print the number of rows of your original dataframe"
   ]
  },
  {
   "cell_type": "code",
   "execution_count": null,
   "id": "6f3b4ff0",
   "metadata": {},
   "outputs": [],
   "source": [
    "print('df_excel has',len(df_excel),'rows')"
   ]
  },
  {
   "cell_type": "markdown",
   "id": "5e38193d",
   "metadata": {},
   "source": [
    "print the first 5 column names"
   ]
  },
  {
   "cell_type": "code",
   "execution_count": null,
   "id": "0ce57140",
   "metadata": {},
   "outputs": [],
   "source": [
    "print(df_excel.columns[0:5].to_list())"
   ]
  },
  {
   "cell_type": "markdown",
   "id": "61e3f708",
   "metadata": {},
   "source": [
    "print the column names that have a data type of object"
   ]
  },
  {
   "cell_type": "code",
   "execution_count": null,
   "id": "dcee411c",
   "metadata": {},
   "outputs": [],
   "source": [
    "df_excel.select_dtypes(include='object').columns.to_list()"
   ]
  },
  {
   "cell_type": "markdown",
   "id": "1d1b01d7",
   "metadata": {},
   "source": [
    "compute the range for each of the numeric variables."
   ]
  },
  {
   "cell_type": "code",
   "execution_count": null,
   "id": "299fe0a6",
   "metadata": {},
   "outputs": [],
   "source": [
    "# create series with only the columns containing numbers, and their minimum/maximum values\n",
    "mins = df_excel.select_dtypes(include='float64').min()\n",
    "maxes = df_excel.select_dtypes(include='float64').max()\n",
    "\n",
    "ranges = pd.concat([mins, maxes], axis=1)\n",
    "ranges.columns =['min_value', 'max_value']\n",
    "ranges.insert(2, \"Range\", ranges.max_value - ranges.min_value , True)\n",
    "ranges"
   ]
  },
  {
   "cell_type": "markdown",
   "id": "da518e86",
   "metadata": {},
   "source": [
    "# Read the data from this google sheet into a dataframe, df_google"
   ]
  },
  {
   "cell_type": "markdown",
   "id": "5d8ff7eb",
   "metadata": {},
   "source": [
    "print the first three rows"
   ]
  },
  {
   "cell_type": "code",
   "execution_count": null,
   "id": "42ce3eab",
   "metadata": {},
   "outputs": [],
   "source": [
    "sheet_url = 'https://docs.google.com/spreadsheets/d/1Uhtml8KY19LILuZsrDtlsHHDC9wuDGUSe8LTEwvdI5g/edit#gid=341089357'\n",
    "csv_import_url = sheet_url.replace('/edit#gid=', '/export?format=csv&gid=')\n",
    "df_google = pd.read_csv(csv_import_url)\n",
    "df_google.head(3)"
   ]
  },
  {
   "cell_type": "markdown",
   "id": "6c575d37",
   "metadata": {},
   "source": [
    "Print the number of rows and columns"
   ]
  },
  {
   "cell_type": "code",
   "execution_count": null,
   "id": "87cfde48",
   "metadata": {},
   "outputs": [],
   "source": [
    "df_google.shape"
   ]
  },
  {
   "cell_type": "markdown",
   "id": "1c987d17",
   "metadata": {},
   "source": [
    "Print the column names"
   ]
  },
  {
   "cell_type": "code",
   "execution_count": null,
   "id": "7e5aa350",
   "metadata": {},
   "outputs": [],
   "source": [
    "df_google.columns"
   ]
  },
  {
   "cell_type": "markdown",
   "id": "a6a9e33d",
   "metadata": {},
   "source": [
    "Print the datatype of each column"
   ]
  },
  {
   "cell_type": "code",
   "execution_count": null,
   "id": "ed008fb5",
   "metadata": {},
   "outputs": [],
   "source": [
    "df_google.info()"
   ]
  },
  {
   "cell_type": "markdown",
   "id": "823afb1a",
   "metadata": {},
   "source": [
    "print the summary statistics for each of the numeric variables"
   ]
  },
  {
   "cell_type": "code",
   "execution_count": null,
   "id": "64e2ce01",
   "metadata": {},
   "outputs": [],
   "source": [
    "df_excel.select_dtypes(include=['int64', 'float64']).describe()"
   ]
  },
  {
   "cell_type": "markdown",
   "id": "72a6c247",
   "metadata": {},
   "source": [
    "Print the unique values for each of your categorical variables"
   ]
  },
  {
   "cell_type": "code",
   "execution_count": null,
   "id": "49a76794",
   "metadata": {},
   "outputs": [],
   "source": [
    "df_google.nunique()"
   ]
  },
  {
   "cell_type": "code",
   "execution_count": null,
   "id": "aaf815f8",
   "metadata": {},
   "outputs": [],
   "source": [
    "print(\"Unique values from 'Survived':\",df_google['Survived'].unique())\n",
    "print(\"Unique values from 'Pclass':\",df_google['Pclass'].unique())\n",
    "print(\"Unique values from 'Sex':\",df_google['Sex'].unique())\n",
    "print(\"Unique values from 'Embarked':\",df_google['Embarked'].unique())"
   ]
  },
  {
   "cell_type": "code",
   "execution_count": null,
   "id": "c326ef27",
   "metadata": {},
   "outputs": [],
   "source": [
    "# testing data acquisition functions from acquire.py file I created\n",
    "acquire.get_titanic_data()"
   ]
  },
  {
   "cell_type": "code",
   "execution_count": null,
   "id": "b8e0d10e",
   "metadata": {},
   "outputs": [],
   "source": [
    "acquire.get_iris_data()"
   ]
  },
  {
   "cell_type": "code",
   "execution_count": null,
   "id": "d5b2eebe",
   "metadata": {},
   "outputs": [],
   "source": [
    "acquire.get_telco_data()"
   ]
  },
  {
   "cell_type": "markdown",
   "id": "5085b057",
   "metadata": {},
   "source": [
    "The end product of this exercise should be the specified functions in a python script named prepare.py. Do these in your classification_exercises.ipynb first, then transfer to the prepare.py file.\n",
    "\n",
    "This work should all be saved in your local classification-exercises repo. Then add, commit, and push your changes.\n",
    "\n",
    "Using the Iris Data:\n",
    "\n",
    "Use the function defined in acquire.py to load the iris data.\n",
    "\n",
    "Drop the species_id and measurement_id columns.\n",
    "\n",
    "Rename the species_name column to just species.\n",
    "\n",
    "Create dummy variables of the species name and concatenate onto the iris dataframe. (This is for practice, we don't always have to encode the target, but if we used species as a feature, we would need to encode it).\n",
    "\n",
    "Create a function named prep_iris that accepts the untransformed iris data, and returns the data with the transformations above applied."
   ]
  },
  {
   "cell_type": "code",
   "execution_count": null,
   "id": "03b0ae24",
   "metadata": {},
   "outputs": [],
   "source": [
    "# load the iris data using our function in the acquire file\n",
    "iris_df = acquire.get_iris_data()"
   ]
  },
  {
   "cell_type": "code",
   "execution_count": null,
   "id": "e0c866a6",
   "metadata": {},
   "outputs": [],
   "source": [
    "# verify that it loaded and show the first few lines of data\n",
    "iris_df.head()"
   ]
  },
  {
   "cell_type": "code",
   "execution_count": null,
   "id": "7daa9bfa",
   "metadata": {},
   "outputs": [],
   "source": [
    "# Drop the species_id and measurement_id columns\n",
    "iris_df = iris_df.drop(columns=['species_id','measurement_id'])\n",
    "iris_df.head()"
   ]
  },
  {
   "cell_type": "code",
   "execution_count": null,
   "id": "9f67d04d",
   "metadata": {},
   "outputs": [],
   "source": [
    "# rename the species_name column to species\n",
    "\n",
    "iris_df.rename(columns = {'species_name':'species'}, inplace = True)\n",
    "iris_df.head()"
   ]
  },
  {
   "cell_type": "code",
   "execution_count": null,
   "id": "3ae0c23e",
   "metadata": {},
   "outputs": [],
   "source": [
    "iris_df.species.value_counts()"
   ]
  },
  {
   "cell_type": "code",
   "execution_count": null,
   "id": "ceb64cc3",
   "metadata": {},
   "outputs": [],
   "source": [
    "# Create dummy variables of the species name    \n",
    "dummy_df = pd.get_dummies(iris_df['species'], dummy_na=False, drop_first=False)\n",
    "\n",
    "# concatenate onto the iris dataframe.\n",
    "iris_df = pd.concat([iris_df, dummy_df], axis=1)\n",
    "iris_df.head(1)\n"
   ]
  },
  {
   "cell_type": "code",
   "execution_count": null,
   "id": "ab670707",
   "metadata": {},
   "outputs": [],
   "source": [
    "# Create a function named prep_iris that accepts the untransformed iris data, \n",
    "# and returns the data with the transformations above applied.\n",
    "\n",
    "def prep_iris(df):\n",
    "    # Drop the species_id and measurement_id columns\n",
    "    df = df.drop(columns=['species_id','measurement_id'])\n",
    "    \n",
    "    # rename the species_name column to species\n",
    "    df.rename(columns = {'species_name':'species'}, inplace = True)\n",
    "    \n",
    "    # Create dummy variables of the species name    \n",
    "    dummy_df = pd.get_dummies(df['species'], dummy_na=False, drop_first=False)\n",
    "\n",
    "    # concatenate onto the iris dataframe.\n",
    "    df = pd.concat([df, dummy_df], axis=1)\n",
    "    \n",
    "    # return the converted iris dataframe\n",
    "    return df\n"
   ]
  },
  {
   "cell_type": "markdown",
   "id": "fb08aeb7",
   "metadata": {},
   "source": [
    "Using the Titanic dataset\n",
    "\n",
    "Use the function defined in acquire.py to load the Titanic data.\n",
    "\n",
    "Drop any unnecessary, unhelpful, or duplicated columns.\n",
    "\n",
    "Encode the categorical columns. Create dummy variables of the categorical columns and concatenate them onto the dataframe.\n",
    "\n",
    "Create a function named prep_titanic that accepts the raw titanic data, and returns the data with the transformations above applied."
   ]
  },
  {
   "cell_type": "code",
   "execution_count": null,
   "id": "f8d40e7e",
   "metadata": {},
   "outputs": [],
   "source": [
    "df = acquire.get_titanic_data()"
   ]
  },
  {
   "cell_type": "code",
   "execution_count": null,
   "id": "ed6bb7ff",
   "metadata": {},
   "outputs": [],
   "source": [
    "df.head()"
   ]
  },
  {
   "cell_type": "code",
   "execution_count": null,
   "id": "15ea7bbf",
   "metadata": {},
   "outputs": [],
   "source": [
    "# Drop unnecessary columns (pclass)\n",
    "df = df.drop(columns=['pclass'])\n",
    "df.head()"
   ]
  },
  {
   "cell_type": "code",
   "execution_count": null,
   "id": "cda9b6fc",
   "metadata": {},
   "outputs": [],
   "source": [
    "# Create dummy variables of the categorical columns   \n",
    "dummy_df = pd.get_dummies(df[['sex','class','embark_town']], dummy_na=False, drop_first=False)\n",
    "\n",
    "# concatenate onto the titanic dataframe.\n",
    "df = pd.concat([df, dummy_df], axis=1)\n",
    "df.head()"
   ]
  },
  {
   "cell_type": "markdown",
   "id": "a2016435",
   "metadata": {},
   "source": [
    "Use the function defined in acquire.py to load the Telco data.\n",
    "\n",
    "Drop any unnecessary, unhelpful, or duplicated columns. This could mean dropping foreign key columns but keeping the corresponding string values, for example.\n",
    "\n",
    "Encode the categorical columns. Create dummy variables of the categorical columns and concatenate them onto the dataframe.\n",
    "\n",
    "Create a function named prep_telco that accepts the raw telco data, and returns the data with the transformations above applied."
   ]
  },
  {
   "cell_type": "code",
   "execution_count": null,
   "id": "5d524798",
   "metadata": {},
   "outputs": [],
   "source": [
    "df = acquire.get_telco_data()\n",
    "df.columns"
   ]
  },
  {
   "cell_type": "code",
   "execution_count": null,
   "id": "7838dd28",
   "metadata": {},
   "outputs": [],
   "source": [
    "# Drop any unnecessary, unhelpful, or duplicated columns. \n",
    "df = df.drop(columns=['contract_type_id','internet_service_type_id', 'payment_type_id', 'contract_type_id.1',\n",
    "                      'payment_type_id.1', 'monthly_charges.1','total_charges.1','paperless_billing.1',])\n"
   ]
  },
  {
   "cell_type": "code",
   "execution_count": null,
   "id": "139b3581",
   "metadata": {},
   "outputs": [],
   "source": [
    "# Encode the categorical columns. \n",
    "# Create dummy variables of the categorical columns and concatenate them onto the dataframe.\n",
    "\n",
    "# Create dummy variables of the categorical columns  \n",
    "dummy_df = pd.get_dummies(df[['gender','contract_type','internet_service_type']], dummy_na=False, drop_first=False)\n",
    "\n",
    "# concatenate onto the telco dataframe.\n",
    "df = pd.concat([df, dummy_df], axis=1)\n",
    "df.head()"
   ]
  },
  {
   "cell_type": "code",
   "execution_count": null,
   "id": "18762602",
   "metadata": {},
   "outputs": [],
   "source": [
    "# testing functions in prepare.py"
   ]
  },
  {
   "cell_type": "code",
   "execution_count": null,
   "id": "505e9ad9",
   "metadata": {},
   "outputs": [],
   "source": [
    "i_df = acquire.get_iris_data()\n",
    "i_df = prepare.prep_iris(i_df)\n",
    "i_df.head()"
   ]
  },
  {
   "cell_type": "code",
   "execution_count": null,
   "id": "65ae4320",
   "metadata": {},
   "outputs": [],
   "source": [
    "i_df.to_csv('iris.csv', index=False)"
   ]
  },
  {
   "cell_type": "code",
   "execution_count": null,
   "id": "af901858",
   "metadata": {},
   "outputs": [],
   "source": [
    "t_df = acquire.get_titanic_data()\n",
    "t_df = prepare.prep_titanic(t_df)\n",
    "t_df.head()"
   ]
  },
  {
   "cell_type": "code",
   "execution_count": null,
   "id": "2466c62e",
   "metadata": {},
   "outputs": [],
   "source": [
    "t_df.to_csv('titanic.csv', index=False)"
   ]
  },
  {
   "cell_type": "code",
   "execution_count": null,
   "id": "ec7faecf",
   "metadata": {},
   "outputs": [],
   "source": [
    "tel_df = acquire.get_telco_data()\n",
    "tel_df = prepare.prep_telco(tel_df)\n",
    "tel_df.head()"
   ]
  },
  {
   "cell_type": "code",
   "execution_count": null,
   "id": "e1ba643c",
   "metadata": {},
   "outputs": [],
   "source": [
    "# created split functions to split telco, iris, and titanic into train, validate, and test data splits"
   ]
  },
  {
   "cell_type": "code",
   "execution_count": null,
   "id": "fddb88b9",
   "metadata": {},
   "outputs": [],
   "source": [
    "# acquire iris data\n",
    "i_df = acquire.get_iris_data()"
   ]
  },
  {
   "cell_type": "code",
   "execution_count": null,
   "id": "c145ad6e",
   "metadata": {},
   "outputs": [],
   "source": [
    "# call split function on iris dataframe\n",
    "target = 'species'\n",
    "train_iris, validate_iris, test_iris = prepare.my_split(i_df, target)"
   ]
  },
  {
   "cell_type": "code",
   "execution_count": null,
   "id": "5975f403",
   "metadata": {},
   "outputs": [],
   "source": [
    "# validate shapes of data_sets look correct\n",
    "train_iris.shape,test_iris.shape,validate_iris.shape"
   ]
  },
  {
   "cell_type": "code",
   "execution_count": null,
   "id": "fb6a3489",
   "metadata": {},
   "outputs": [],
   "source": [
    "# acquire telco data\n",
    "tel_df = acquire.get_telco_data()"
   ]
  },
  {
   "cell_type": "code",
   "execution_count": null,
   "id": "f887d43b",
   "metadata": {},
   "outputs": [],
   "source": [
    "# call split function\n",
    "target = 'churn'\n",
    "train_telco, validate_telco, test_telco = prepare.my_split(tel_df, target)"
   ]
  },
  {
   "cell_type": "code",
   "execution_count": null,
   "id": "fd452eb2",
   "metadata": {},
   "outputs": [],
   "source": [
    "# validate shapes of data_sets look correct\n",
    "train_telco.shape, validate_telco.shape, test_telco.shape"
   ]
  },
  {
   "cell_type": "code",
   "execution_count": null,
   "id": "402e29b3",
   "metadata": {},
   "outputs": [],
   "source": [
    "# get titanic data\n",
    "tit_df = acquire.get_titanic_data()"
   ]
  },
  {
   "cell_type": "code",
   "execution_count": null,
   "id": "200dd52e",
   "metadata": {},
   "outputs": [],
   "source": [
    "# call split function\n",
    "target = 'survived'\n",
    "train_titanic, validate_titanic, test_titanic = prepare.my_split(tit_df, target)"
   ]
  },
  {
   "cell_type": "code",
   "execution_count": null,
   "id": "d84d8325",
   "metadata": {},
   "outputs": [],
   "source": [
    "# validate shapes of data_sets look correct\n",
    "train_titanic.shape, validate_titanic.shape, test_titanic.shape"
   ]
  },
  {
   "cell_type": "markdown",
   "id": "8a80f69c",
   "metadata": {},
   "source": [
    "# Eploratory Analysis"
   ]
  },
  {
   "cell_type": "markdown",
   "id": "053f7c4e",
   "metadata": {},
   "source": [
    "## Section 1 - iris_db: Using iris data from our mySQL server and the methods used in the lesson above:"
   ]
  },
  {
   "cell_type": "markdown",
   "id": "a1614e24",
   "metadata": {},
   "source": [
    "### 1. Acquire, prepare & split your data.\n",
    "\n"
   ]
  },
  {
   "cell_type": "code",
   "execution_count": 2,
   "id": "0c0fb051",
   "metadata": {},
   "outputs": [
    {
     "data": {
      "text/html": [
       "<div>\n",
       "<style scoped>\n",
       "    .dataframe tbody tr th:only-of-type {\n",
       "        vertical-align: middle;\n",
       "    }\n",
       "\n",
       "    .dataframe tbody tr th {\n",
       "        vertical-align: top;\n",
       "    }\n",
       "\n",
       "    .dataframe thead th {\n",
       "        text-align: right;\n",
       "    }\n",
       "</style>\n",
       "<table border=\"1\" class=\"dataframe\">\n",
       "  <thead>\n",
       "    <tr style=\"text-align: right;\">\n",
       "      <th></th>\n",
       "      <th>species_id</th>\n",
       "      <th>measurement_id</th>\n",
       "      <th>sepal_length</th>\n",
       "      <th>sepal_width</th>\n",
       "      <th>petal_length</th>\n",
       "      <th>petal_width</th>\n",
       "      <th>species_name</th>\n",
       "    </tr>\n",
       "  </thead>\n",
       "  <tbody>\n",
       "    <tr>\n",
       "      <th>0</th>\n",
       "      <td>1</td>\n",
       "      <td>1</td>\n",
       "      <td>5.1</td>\n",
       "      <td>3.5</td>\n",
       "      <td>1.4</td>\n",
       "      <td>0.2</td>\n",
       "      <td>setosa</td>\n",
       "    </tr>\n",
       "    <tr>\n",
       "      <th>1</th>\n",
       "      <td>1</td>\n",
       "      <td>2</td>\n",
       "      <td>4.9</td>\n",
       "      <td>3.0</td>\n",
       "      <td>1.4</td>\n",
       "      <td>0.2</td>\n",
       "      <td>setosa</td>\n",
       "    </tr>\n",
       "    <tr>\n",
       "      <th>2</th>\n",
       "      <td>1</td>\n",
       "      <td>3</td>\n",
       "      <td>4.7</td>\n",
       "      <td>3.2</td>\n",
       "      <td>1.3</td>\n",
       "      <td>0.2</td>\n",
       "      <td>setosa</td>\n",
       "    </tr>\n",
       "    <tr>\n",
       "      <th>3</th>\n",
       "      <td>1</td>\n",
       "      <td>4</td>\n",
       "      <td>4.6</td>\n",
       "      <td>3.1</td>\n",
       "      <td>1.5</td>\n",
       "      <td>0.2</td>\n",
       "      <td>setosa</td>\n",
       "    </tr>\n",
       "    <tr>\n",
       "      <th>4</th>\n",
       "      <td>1</td>\n",
       "      <td>5</td>\n",
       "      <td>5.0</td>\n",
       "      <td>3.6</td>\n",
       "      <td>1.4</td>\n",
       "      <td>0.2</td>\n",
       "      <td>setosa</td>\n",
       "    </tr>\n",
       "    <tr>\n",
       "      <th>...</th>\n",
       "      <td>...</td>\n",
       "      <td>...</td>\n",
       "      <td>...</td>\n",
       "      <td>...</td>\n",
       "      <td>...</td>\n",
       "      <td>...</td>\n",
       "      <td>...</td>\n",
       "    </tr>\n",
       "    <tr>\n",
       "      <th>145</th>\n",
       "      <td>3</td>\n",
       "      <td>146</td>\n",
       "      <td>6.7</td>\n",
       "      <td>3.0</td>\n",
       "      <td>5.2</td>\n",
       "      <td>2.3</td>\n",
       "      <td>virginica</td>\n",
       "    </tr>\n",
       "    <tr>\n",
       "      <th>146</th>\n",
       "      <td>3</td>\n",
       "      <td>147</td>\n",
       "      <td>6.3</td>\n",
       "      <td>2.5</td>\n",
       "      <td>5.0</td>\n",
       "      <td>1.9</td>\n",
       "      <td>virginica</td>\n",
       "    </tr>\n",
       "    <tr>\n",
       "      <th>147</th>\n",
       "      <td>3</td>\n",
       "      <td>148</td>\n",
       "      <td>6.5</td>\n",
       "      <td>3.0</td>\n",
       "      <td>5.2</td>\n",
       "      <td>2.0</td>\n",
       "      <td>virginica</td>\n",
       "    </tr>\n",
       "    <tr>\n",
       "      <th>148</th>\n",
       "      <td>3</td>\n",
       "      <td>149</td>\n",
       "      <td>6.2</td>\n",
       "      <td>3.4</td>\n",
       "      <td>5.4</td>\n",
       "      <td>2.3</td>\n",
       "      <td>virginica</td>\n",
       "    </tr>\n",
       "    <tr>\n",
       "      <th>149</th>\n",
       "      <td>3</td>\n",
       "      <td>150</td>\n",
       "      <td>5.9</td>\n",
       "      <td>3.0</td>\n",
       "      <td>5.1</td>\n",
       "      <td>1.8</td>\n",
       "      <td>virginica</td>\n",
       "    </tr>\n",
       "  </tbody>\n",
       "</table>\n",
       "<p>150 rows × 7 columns</p>\n",
       "</div>"
      ],
      "text/plain": [
       "     species_id  measurement_id  sepal_length  sepal_width  petal_length  \\\n",
       "0             1               1           5.1          3.5           1.4   \n",
       "1             1               2           4.9          3.0           1.4   \n",
       "2             1               3           4.7          3.2           1.3   \n",
       "3             1               4           4.6          3.1           1.5   \n",
       "4             1               5           5.0          3.6           1.4   \n",
       "..          ...             ...           ...          ...           ...   \n",
       "145           3             146           6.7          3.0           5.2   \n",
       "146           3             147           6.3          2.5           5.0   \n",
       "147           3             148           6.5          3.0           5.2   \n",
       "148           3             149           6.2          3.4           5.4   \n",
       "149           3             150           5.9          3.0           5.1   \n",
       "\n",
       "     petal_width species_name  \n",
       "0            0.2       setosa  \n",
       "1            0.2       setosa  \n",
       "2            0.2       setosa  \n",
       "3            0.2       setosa  \n",
       "4            0.2       setosa  \n",
       "..           ...          ...  \n",
       "145          2.3    virginica  \n",
       "146          1.9    virginica  \n",
       "147          2.0    virginica  \n",
       "148          2.3    virginica  \n",
       "149          1.8    virginica  \n",
       "\n",
       "[150 rows x 7 columns]"
      ]
     },
     "execution_count": 2,
     "metadata": {},
     "output_type": "execute_result"
    }
   ],
   "source": [
    "# acquire using our acquire function\n",
    "irisdf = acquire.get_iris_data()\n",
    "irisdf"
   ]
  },
  {
   "cell_type": "code",
   "execution_count": 3,
   "id": "ea9ca539",
   "metadata": {},
   "outputs": [
    {
     "data": {
      "text/html": [
       "<div>\n",
       "<style scoped>\n",
       "    .dataframe tbody tr th:only-of-type {\n",
       "        vertical-align: middle;\n",
       "    }\n",
       "\n",
       "    .dataframe tbody tr th {\n",
       "        vertical-align: top;\n",
       "    }\n",
       "\n",
       "    .dataframe thead th {\n",
       "        text-align: right;\n",
       "    }\n",
       "</style>\n",
       "<table border=\"1\" class=\"dataframe\">\n",
       "  <thead>\n",
       "    <tr style=\"text-align: right;\">\n",
       "      <th></th>\n",
       "      <th>sepal_length</th>\n",
       "      <th>sepal_width</th>\n",
       "      <th>petal_length</th>\n",
       "      <th>petal_width</th>\n",
       "      <th>species</th>\n",
       "      <th>versicolor</th>\n",
       "      <th>virginica</th>\n",
       "    </tr>\n",
       "  </thead>\n",
       "  <tbody>\n",
       "    <tr>\n",
       "      <th>0</th>\n",
       "      <td>5.1</td>\n",
       "      <td>3.5</td>\n",
       "      <td>1.4</td>\n",
       "      <td>0.2</td>\n",
       "      <td>setosa</td>\n",
       "      <td>0</td>\n",
       "      <td>0</td>\n",
       "    </tr>\n",
       "    <tr>\n",
       "      <th>1</th>\n",
       "      <td>4.9</td>\n",
       "      <td>3.0</td>\n",
       "      <td>1.4</td>\n",
       "      <td>0.2</td>\n",
       "      <td>setosa</td>\n",
       "      <td>0</td>\n",
       "      <td>0</td>\n",
       "    </tr>\n",
       "    <tr>\n",
       "      <th>2</th>\n",
       "      <td>4.7</td>\n",
       "      <td>3.2</td>\n",
       "      <td>1.3</td>\n",
       "      <td>0.2</td>\n",
       "      <td>setosa</td>\n",
       "      <td>0</td>\n",
       "      <td>0</td>\n",
       "    </tr>\n",
       "    <tr>\n",
       "      <th>3</th>\n",
       "      <td>4.6</td>\n",
       "      <td>3.1</td>\n",
       "      <td>1.5</td>\n",
       "      <td>0.2</td>\n",
       "      <td>setosa</td>\n",
       "      <td>0</td>\n",
       "      <td>0</td>\n",
       "    </tr>\n",
       "    <tr>\n",
       "      <th>4</th>\n",
       "      <td>5.0</td>\n",
       "      <td>3.6</td>\n",
       "      <td>1.4</td>\n",
       "      <td>0.2</td>\n",
       "      <td>setosa</td>\n",
       "      <td>0</td>\n",
       "      <td>0</td>\n",
       "    </tr>\n",
       "    <tr>\n",
       "      <th>...</th>\n",
       "      <td>...</td>\n",
       "      <td>...</td>\n",
       "      <td>...</td>\n",
       "      <td>...</td>\n",
       "      <td>...</td>\n",
       "      <td>...</td>\n",
       "      <td>...</td>\n",
       "    </tr>\n",
       "    <tr>\n",
       "      <th>145</th>\n",
       "      <td>6.7</td>\n",
       "      <td>3.0</td>\n",
       "      <td>5.2</td>\n",
       "      <td>2.3</td>\n",
       "      <td>virginica</td>\n",
       "      <td>0</td>\n",
       "      <td>1</td>\n",
       "    </tr>\n",
       "    <tr>\n",
       "      <th>146</th>\n",
       "      <td>6.3</td>\n",
       "      <td>2.5</td>\n",
       "      <td>5.0</td>\n",
       "      <td>1.9</td>\n",
       "      <td>virginica</td>\n",
       "      <td>0</td>\n",
       "      <td>1</td>\n",
       "    </tr>\n",
       "    <tr>\n",
       "      <th>147</th>\n",
       "      <td>6.5</td>\n",
       "      <td>3.0</td>\n",
       "      <td>5.2</td>\n",
       "      <td>2.0</td>\n",
       "      <td>virginica</td>\n",
       "      <td>0</td>\n",
       "      <td>1</td>\n",
       "    </tr>\n",
       "    <tr>\n",
       "      <th>148</th>\n",
       "      <td>6.2</td>\n",
       "      <td>3.4</td>\n",
       "      <td>5.4</td>\n",
       "      <td>2.3</td>\n",
       "      <td>virginica</td>\n",
       "      <td>0</td>\n",
       "      <td>1</td>\n",
       "    </tr>\n",
       "    <tr>\n",
       "      <th>149</th>\n",
       "      <td>5.9</td>\n",
       "      <td>3.0</td>\n",
       "      <td>5.1</td>\n",
       "      <td>1.8</td>\n",
       "      <td>virginica</td>\n",
       "      <td>0</td>\n",
       "      <td>1</td>\n",
       "    </tr>\n",
       "  </tbody>\n",
       "</table>\n",
       "<p>150 rows × 7 columns</p>\n",
       "</div>"
      ],
      "text/plain": [
       "     sepal_length  sepal_width  petal_length  petal_width    species  \\\n",
       "0             5.1          3.5           1.4          0.2     setosa   \n",
       "1             4.9          3.0           1.4          0.2     setosa   \n",
       "2             4.7          3.2           1.3          0.2     setosa   \n",
       "3             4.6          3.1           1.5          0.2     setosa   \n",
       "4             5.0          3.6           1.4          0.2     setosa   \n",
       "..            ...          ...           ...          ...        ...   \n",
       "145           6.7          3.0           5.2          2.3  virginica   \n",
       "146           6.3          2.5           5.0          1.9  virginica   \n",
       "147           6.5          3.0           5.2          2.0  virginica   \n",
       "148           6.2          3.4           5.4          2.3  virginica   \n",
       "149           5.9          3.0           5.1          1.8  virginica   \n",
       "\n",
       "     versicolor  virginica  \n",
       "0             0          0  \n",
       "1             0          0  \n",
       "2             0          0  \n",
       "3             0          0  \n",
       "4             0          0  \n",
       "..          ...        ...  \n",
       "145           0          1  \n",
       "146           0          1  \n",
       "147           0          1  \n",
       "148           0          1  \n",
       "149           0          1  \n",
       "\n",
       "[150 rows x 7 columns]"
      ]
     },
     "execution_count": 3,
     "metadata": {},
     "output_type": "execute_result"
    }
   ],
   "source": [
    "# prepare using our prep function\n",
    "irisdf = prepare.prep_iris(irisdf)\n",
    "irisdf"
   ]
  },
  {
   "cell_type": "code",
   "execution_count": 5,
   "id": "ca45bb85",
   "metadata": {},
   "outputs": [
    {
     "data": {
      "text/plain": [
       "((90, 7), (30, 7), (30, 7))"
      ]
     },
     "execution_count": 5,
     "metadata": {},
     "output_type": "execute_result"
    }
   ],
   "source": [
    "# split using our split function and validate the size of each dataset\n",
    "train, validate, test = prepare.my_split(irisdf, target='species')\n",
    "train.shape, validate.shape, test.shape"
   ]
  },
  {
   "cell_type": "markdown",
   "id": "cf9c57a4",
   "metadata": {},
   "source": [
    "## Univariate Stats\n",
    "\n",
    "For each measurement type (quantitative variable): create a histogram, boxplot, & compute descriptive statistics (using .describe()).\n",
    "\n",
    "For each species (categorical variable): create a frequency table and a bar plot of those frequencies.\n",
    "\n",
    "Document takeaways & any actions"
   ]
  },
  {
   "cell_type": "code",
   "execution_count": 6,
   "id": "fdead1df",
   "metadata": {},
   "outputs": [
    {
     "name": "stdout",
     "output_type": "stream",
     "text": [
      "<class 'pandas.core.frame.DataFrame'>\n",
      "Int64Index: 90 entries, 31 to 48\n",
      "Data columns (total 7 columns):\n",
      " #   Column        Non-Null Count  Dtype  \n",
      "---  ------        --------------  -----  \n",
      " 0   sepal_length  90 non-null     float64\n",
      " 1   sepal_width   90 non-null     float64\n",
      " 2   petal_length  90 non-null     float64\n",
      " 3   petal_width   90 non-null     float64\n",
      " 4   species       90 non-null     object \n",
      " 5   versicolor    90 non-null     uint8  \n",
      " 6   virginica     90 non-null     uint8  \n",
      "dtypes: float64(4), object(1), uint8(2)\n",
      "memory usage: 4.4+ KB\n"
     ]
    }
   ],
   "source": [
    "# explore our train dataset\n",
    "train.info()"
   ]
  },
  {
   "cell_type": "code",
   "execution_count": 11,
   "id": "8b86efc0",
   "metadata": {},
   "outputs": [
    {
     "data": {
      "text/plain": [
       "setosa        30\n",
       "versicolor    30\n",
       "virginica     30\n",
       "Name: species, dtype: int64"
      ]
     },
     "execution_count": 11,
     "metadata": {},
     "output_type": "execute_result"
    }
   ],
   "source": [
    "train.species.value_counts()"
   ]
  },
  {
   "cell_type": "markdown",
   "id": "a28a8834",
   "metadata": {},
   "source": [
    " - equal distribution of species \n",
    " - petals are longer than they are wide\n"
   ]
  },
  {
   "cell_type": "code",
   "execution_count": 13,
   "id": "1f11c6e1",
   "metadata": {},
   "outputs": [],
   "source": [
    "# split into numerical and categorical variables.  Ignoring species binary columns since they are derived from\n",
    "# from the target column.  Obviously these would directly correlate with our target value of species\n",
    "num_vars = ['sepal _length', 'sepal_width', 'petal_length', 'petal_width']\n",
    "cat_vars = ['species']\n",
    "\n",
    "# our only categorical variable is the target, species"
   ]
  },
  {
   "cell_type": "markdown",
   "id": "058c7672",
   "metadata": {},
   "source": [
    "# For each measurement type (quantitative variable): create a histogram, boxplot, & compute descriptive statistics (using .describe()).\n"
   ]
  },
  {
   "cell_type": "code",
   "execution_count": 27,
   "id": "13d26f13",
   "metadata": {},
   "outputs": [
    {
     "data": {
      "image/png": "[encoded data removed]",
      "text/plain": [
       "<Figure size 432x288 with 1 Axes>"
      ]
     },
     "metadata": {
      "needs_background": "light"
     },
     "output_type": "display_data"
    }
   ],
   "source": [
    "sns.histplot(data=train, x='sepal_length')\n",
    "plt.title('Sepal Length appears normally distributed')\n",
    "plt.axvline(train.sepal_length.mean(), label = 'average sepal length')\n",
    "plt.show()"
   ]
  },
  {
   "cell_type": "code",
   "execution_count": 28,
   "id": "5811b0c1",
   "metadata": {},
   "outputs": [
    {
     "data": {
      "image/png": "[encoded data removed]",
      "text/plain": [
       "<Figure size 432x288 with 1 Axes>"
      ]
     },
     "metadata": {
      "needs_background": "light"
     },
     "output_type": "display_data"
    }
   ],
   "source": [
    "sns.boxplot(x='sepal_length', data=train)\n",
    "plt.title('Sepal Length appears normally distributed')\n",
    "plt.show()"
   ]
  },
  {
   "cell_type": "code",
   "execution_count": 25,
   "id": "34bb7eda",
   "metadata": {},
   "outputs": [
    {
     "data": {
      "image/png": "[encoded data removed]",
      "text/plain": [
       "<Figure size 432x288 with 1 Axes>"
      ]
     },
     "metadata": {
      "needs_background": "light"
     },
     "output_type": "display_data"
    }
   ],
   "source": [
    "sns.histplot(data=train, x='sepal_width')\n",
    "plt.title('Sepal Width appears normally distributed')\n",
    "plt.axvline(train.sepal_width.mean(), label = 'average sepal width')\n",
    "plt.show()"
   ]
  },
  {
   "cell_type": "code",
   "execution_count": 29,
   "id": "1bcd5372",
   "metadata": {},
   "outputs": [
    {
     "data": {
      "image/png": "[encoded data removed]",
      "text/plain": [
       "<Figure size 432x288 with 1 Axes>"
      ]
     },
     "metadata": {
      "needs_background": "light"
     },
     "output_type": "display_data"
    }
   ],
   "source": [
    "sns.boxplot(x='sepal_width', data=train)\n",
    "plt.title('Sepal Length appears normally distributed')\n",
    "plt.show()"
   ]
  },
  {
   "cell_type": "markdown",
   "id": "f4b0896b",
   "metadata": {},
   "source": [
    "10% of data is outliers"
   ]
  },
  {
   "cell_type": "code",
   "execution_count": 31,
   "id": "0a8cb384",
   "metadata": {},
   "outputs": [
    {
     "data": {
      "image/png": "[encoded data removed]",
      "text/plain": [
       "<Figure size 432x288 with 1 Axes>"
      ]
     },
     "metadata": {
      "needs_background": "light"
     },
     "output_type": "display_data"
    }
   ],
   "source": [
    "sns.histplot(data=train, x='petal_length')\n",
    "plt.title('Petal Length appears in two clusters')\n",
    "plt.axvline(train.petal_length.mean(), label = 'average petal length')\n",
    "plt.show()"
   ]
  },
  {
   "cell_type": "code",
   "execution_count": 33,
   "id": "bacb9a4b",
   "metadata": {},
   "outputs": [
    {
     "data": {
      "image/png": "[encoded data removed]",
      "text/plain": [
       "<Figure size 432x288 with 1 Axes>"
      ]
     },
     "metadata": {
      "needs_background": "light"
     },
     "output_type": "display_data"
    }
   ],
   "source": [
    "sns.boxplot(x='petal_length', data=train)\n",
    "plt.title('Petal Length')\n",
    "plt.show()"
   ]
  },
  {
   "cell_type": "code",
   "execution_count": 34,
   "id": "e219fd4c",
   "metadata": {},
   "outputs": [
    {
     "data": {
      "image/png": "[encoded data removed]",
      "text/plain": [
       "<Figure size 432x288 with 1 Axes>"
      ]
     },
     "metadata": {
      "needs_background": "light"
     },
     "output_type": "display_data"
    }
   ],
   "source": [
    "sns.histplot(data=train, x='petal_width')\n",
    "plt.title('Petal Width appears in two clusters')\n",
    "plt.axvline(train.petal_width.mean(), label = 'average petal width')\n",
    "plt.show()"
   ]
  },
  {
   "cell_type": "code",
   "execution_count": 35,
   "id": "4ca3d5fc",
   "metadata": {},
   "outputs": [
    {
     "data": {
      "image/png": "[encoded data removed]",
      "text/plain": [
       "<Figure size 432x288 with 1 Axes>"
      ]
     },
     "metadata": {
      "needs_background": "light"
     },
     "output_type": "display_data"
    }
   ],
   "source": [
    "sns.boxplot(x='petal_width', data=train)\n",
    "plt.title('Petal Width')\n",
    "plt.show()"
   ]
  },
  {
   "cell_type": "markdown",
   "id": "3bb145e9",
   "metadata": {},
   "source": [
    "- It appears that sepal size is consistant, but petal size has two very discernable size groups"
   ]
  },
  {
   "cell_type": "code",
   "execution_count": 40,
   "id": "8b201b57",
   "metadata": {},
   "outputs": [
    {
     "data": {
      "text/html": [
       "<div>\n",
       "<style scoped>\n",
       "    .dataframe tbody tr th:only-of-type {\n",
       "        vertical-align: middle;\n",
       "    }\n",
       "\n",
       "    .dataframe tbody tr th {\n",
       "        vertical-align: top;\n",
       "    }\n",
       "\n",
       "    .dataframe thead th {\n",
       "        text-align: right;\n",
       "    }\n",
       "</style>\n",
       "<table border=\"1\" class=\"dataframe\">\n",
       "  <thead>\n",
       "    <tr style=\"text-align: right;\">\n",
       "      <th></th>\n",
       "      <th>sepal_length</th>\n",
       "      <th>sepal_width</th>\n",
       "      <th>petal_length</th>\n",
       "      <th>petal_width</th>\n",
       "      <th>species</th>\n",
       "      <th>versicolor</th>\n",
       "      <th>virginica</th>\n",
       "    </tr>\n",
       "  </thead>\n",
       "  <tbody>\n",
       "    <tr>\n",
       "      <th>count</th>\n",
       "      <td>90.000000</td>\n",
       "      <td>90.000000</td>\n",
       "      <td>90.000000</td>\n",
       "      <td>90.000000</td>\n",
       "      <td>90</td>\n",
       "      <td>90.000000</td>\n",
       "      <td>90.000000</td>\n",
       "    </tr>\n",
       "    <tr>\n",
       "      <th>unique</th>\n",
       "      <td>NaN</td>\n",
       "      <td>NaN</td>\n",
       "      <td>NaN</td>\n",
       "      <td>NaN</td>\n",
       "      <td>3</td>\n",
       "      <td>NaN</td>\n",
       "      <td>NaN</td>\n",
       "    </tr>\n",
       "    <tr>\n",
       "      <th>top</th>\n",
       "      <td>NaN</td>\n",
       "      <td>NaN</td>\n",
       "      <td>NaN</td>\n",
       "      <td>NaN</td>\n",
       "      <td>setosa</td>\n",
       "      <td>NaN</td>\n",
       "      <td>NaN</td>\n",
       "    </tr>\n",
       "    <tr>\n",
       "      <th>freq</th>\n",
       "      <td>NaN</td>\n",
       "      <td>NaN</td>\n",
       "      <td>NaN</td>\n",
       "      <td>NaN</td>\n",
       "      <td>30</td>\n",
       "      <td>NaN</td>\n",
       "      <td>NaN</td>\n",
       "    </tr>\n",
       "    <tr>\n",
       "      <th>mean</th>\n",
       "      <td>5.841111</td>\n",
       "      <td>3.067778</td>\n",
       "      <td>3.744444</td>\n",
       "      <td>1.206667</td>\n",
       "      <td>NaN</td>\n",
       "      <td>0.333333</td>\n",
       "      <td>0.333333</td>\n",
       "    </tr>\n",
       "    <tr>\n",
       "      <th>std</th>\n",
       "      <td>0.798439</td>\n",
       "      <td>0.430006</td>\n",
       "      <td>1.755512</td>\n",
       "      <td>0.787230</td>\n",
       "      <td>NaN</td>\n",
       "      <td>0.474045</td>\n",
       "      <td>0.474045</td>\n",
       "    </tr>\n",
       "    <tr>\n",
       "      <th>min</th>\n",
       "      <td>4.300000</td>\n",
       "      <td>2.000000</td>\n",
       "      <td>1.100000</td>\n",
       "      <td>0.100000</td>\n",
       "      <td>NaN</td>\n",
       "      <td>0.000000</td>\n",
       "      <td>0.000000</td>\n",
       "    </tr>\n",
       "    <tr>\n",
       "      <th>25%</th>\n",
       "      <td>5.125000</td>\n",
       "      <td>2.800000</td>\n",
       "      <td>1.500000</td>\n",
       "      <td>0.225000</td>\n",
       "      <td>NaN</td>\n",
       "      <td>0.000000</td>\n",
       "      <td>0.000000</td>\n",
       "    </tr>\n",
       "    <tr>\n",
       "      <th>50%</th>\n",
       "      <td>5.800000</td>\n",
       "      <td>3.000000</td>\n",
       "      <td>4.450000</td>\n",
       "      <td>1.350000</td>\n",
       "      <td>NaN</td>\n",
       "      <td>0.000000</td>\n",
       "      <td>0.000000</td>\n",
       "    </tr>\n",
       "    <tr>\n",
       "      <th>75%</th>\n",
       "      <td>6.400000</td>\n",
       "      <td>3.300000</td>\n",
       "      <td>5.100000</td>\n",
       "      <td>1.800000</td>\n",
       "      <td>NaN</td>\n",
       "      <td>1.000000</td>\n",
       "      <td>1.000000</td>\n",
       "    </tr>\n",
       "    <tr>\n",
       "      <th>max</th>\n",
       "      <td>7.900000</td>\n",
       "      <td>4.200000</td>\n",
       "      <td>6.900000</td>\n",
       "      <td>2.500000</td>\n",
       "      <td>NaN</td>\n",
       "      <td>1.000000</td>\n",
       "      <td>1.000000</td>\n",
       "    </tr>\n",
       "  </tbody>\n",
       "</table>\n",
       "</div>"
      ],
      "text/plain": [
       "        sepal_length  sepal_width  petal_length  petal_width species  \\\n",
       "count      90.000000    90.000000     90.000000    90.000000      90   \n",
       "unique           NaN          NaN           NaN          NaN       3   \n",
       "top              NaN          NaN           NaN          NaN  setosa   \n",
       "freq             NaN          NaN           NaN          NaN      30   \n",
       "mean        5.841111     3.067778      3.744444     1.206667     NaN   \n",
       "std         0.798439     0.430006      1.755512     0.787230     NaN   \n",
       "min         4.300000     2.000000      1.100000     0.100000     NaN   \n",
       "25%         5.125000     2.800000      1.500000     0.225000     NaN   \n",
       "50%         5.800000     3.000000      4.450000     1.350000     NaN   \n",
       "75%         6.400000     3.300000      5.100000     1.800000     NaN   \n",
       "max         7.900000     4.200000      6.900000     2.500000     NaN   \n",
       "\n",
       "        versicolor  virginica  \n",
       "count    90.000000  90.000000  \n",
       "unique         NaN        NaN  \n",
       "top            NaN        NaN  \n",
       "freq           NaN        NaN  \n",
       "mean      0.333333   0.333333  \n",
       "std       0.474045   0.474045  \n",
       "min       0.000000   0.000000  \n",
       "25%       0.000000   0.000000  \n",
       "50%       0.000000   0.000000  \n",
       "75%       1.000000   1.000000  \n",
       "max       1.000000   1.000000  "
      ]
     },
     "execution_count": 40,
     "metadata": {},
     "output_type": "execute_result"
    }
   ],
   "source": [
    "train.describe(include='all')"
   ]
  },
  {
   "cell_type": "markdown",
   "id": "47bf9378",
   "metadata": {},
   "source": [
    "# Bivariate Stats\n",
    "\n",
    "Visualize each measurement type (y-axis) with the species variable (x-axis) using barplots, adding a horizontal line showing the overall mean of the metric (y-axis).\n",
    "\n"
   ]
  },
  {
   "cell_type": "code",
   "execution_count": 41,
   "id": "4930e402",
   "metadata": {},
   "outputs": [
    {
     "data": {
      "image/png": "[encoded data removed]",
      "text/plain": [
       "<Figure size 432x288 with 1 Axes>"
      ]
     },
     "metadata": {
      "needs_background": "light"
     },
     "output_type": "display_data"
    }
   ],
   "source": [
    "sns.barplot(x='species', y='sepal_width', data=train)\n",
    "plt.axhline(train.sepal_width.mean(), label = 'average sepal width')\n",
    "plt.show()"
   ]
  },
  {
   "cell_type": "code",
   "execution_count": 42,
   "id": "bd8f5585",
   "metadata": {},
   "outputs": [
    {
     "data": {
      "image/png": "[encoded data removed]",
      "text/plain": [
       "<Figure size 432x288 with 1 Axes>"
      ]
     },
     "metadata": {
      "needs_background": "light"
     },
     "output_type": "display_data"
    }
   ],
   "source": [
    "sns.barplot(x='species', y='sepal_length', data=train)\n",
    "plt.axhline(train.sepal_length.mean(), label = 'average sepal length')\n",
    "plt.show()"
   ]
  },
  {
   "cell_type": "code",
   "execution_count": 43,
   "id": "1397e287",
   "metadata": {},
   "outputs": [
    {
     "data": {
      "image/png": "[encoded data removed]",
      "text/plain": [
       "<Figure size 432x288 with 1 Axes>"
      ]
     },
     "metadata": {
      "needs_background": "light"
     },
     "output_type": "display_data"
    }
   ],
   "source": [
    "sns.barplot(x='species', y='petal_width', data=train)\n",
    "plt.axhline(train.petal_width.mean(), label = 'average petal width')\n",
    "plt.show()"
   ]
  },
  {
   "cell_type": "code",
   "execution_count": 44,
   "id": "7da947c7",
   "metadata": {},
   "outputs": [
    {
     "data": {
      "image/png": "[encoded data removed]",
      "text/plain": [
       "<Figure size 432x288 with 1 Axes>"
      ]
     },
     "metadata": {
      "needs_background": "light"
     },
     "output_type": "display_data"
    }
   ],
   "source": [
    "sns.barplot(x='species', y='petal_length', data=train)\n",
    "plt.axhline(train.petal_length.mean(), label = 'average petal length')\n",
    "plt.show()"
   ]
  },
  {
   "cell_type": "markdown",
   "id": "25933d85",
   "metadata": {},
   "source": [
    "## For each measurement type, compute the descriptive statistics for each species.\n",
    "\n"
   ]
  },
  {
   "cell_type": "code",
   "execution_count": 46,
   "id": "e27acd62",
   "metadata": {},
   "outputs": [
    {
     "data": {
      "text/html": [
       "<div>\n",
       "<style scoped>\n",
       "    .dataframe tbody tr th:only-of-type {\n",
       "        vertical-align: middle;\n",
       "    }\n",
       "\n",
       "    .dataframe tbody tr th {\n",
       "        vertical-align: top;\n",
       "    }\n",
       "\n",
       "    .dataframe thead th {\n",
       "        text-align: right;\n",
       "    }\n",
       "</style>\n",
       "<table border=\"1\" class=\"dataframe\">\n",
       "  <thead>\n",
       "    <tr style=\"text-align: right;\">\n",
       "      <th></th>\n",
       "      <th>sepal_length</th>\n",
       "      <th>sepal_width</th>\n",
       "      <th>petal_length</th>\n",
       "      <th>petal_width</th>\n",
       "      <th>versicolor</th>\n",
       "      <th>virginica</th>\n",
       "    </tr>\n",
       "  </thead>\n",
       "  <tbody>\n",
       "    <tr>\n",
       "      <th>count</th>\n",
       "      <td>30.000000</td>\n",
       "      <td>30.000000</td>\n",
       "      <td>30.000000</td>\n",
       "      <td>30.000000</td>\n",
       "      <td>30.0</td>\n",
       "      <td>30.0</td>\n",
       "    </tr>\n",
       "    <tr>\n",
       "      <th>mean</th>\n",
       "      <td>5.020000</td>\n",
       "      <td>3.460000</td>\n",
       "      <td>1.446667</td>\n",
       "      <td>0.216667</td>\n",
       "      <td>0.0</td>\n",
       "      <td>0.0</td>\n",
       "    </tr>\n",
       "    <tr>\n",
       "      <th>std</th>\n",
       "      <td>0.329472</td>\n",
       "      <td>0.350959</td>\n",
       "      <td>0.154771</td>\n",
       "      <td>0.083391</td>\n",
       "      <td>0.0</td>\n",
       "      <td>0.0</td>\n",
       "    </tr>\n",
       "    <tr>\n",
       "      <th>min</th>\n",
       "      <td>4.300000</td>\n",
       "      <td>3.000000</td>\n",
       "      <td>1.100000</td>\n",
       "      <td>0.100000</td>\n",
       "      <td>0.0</td>\n",
       "      <td>0.0</td>\n",
       "    </tr>\n",
       "    <tr>\n",
       "      <th>25%</th>\n",
       "      <td>4.825000</td>\n",
       "      <td>3.125000</td>\n",
       "      <td>1.400000</td>\n",
       "      <td>0.200000</td>\n",
       "      <td>0.0</td>\n",
       "      <td>0.0</td>\n",
       "    </tr>\n",
       "    <tr>\n",
       "      <th>50%</th>\n",
       "      <td>5.000000</td>\n",
       "      <td>3.400000</td>\n",
       "      <td>1.450000</td>\n",
       "      <td>0.200000</td>\n",
       "      <td>0.0</td>\n",
       "      <td>0.0</td>\n",
       "    </tr>\n",
       "    <tr>\n",
       "      <th>75%</th>\n",
       "      <td>5.200000</td>\n",
       "      <td>3.700000</td>\n",
       "      <td>1.500000</td>\n",
       "      <td>0.200000</td>\n",
       "      <td>0.0</td>\n",
       "      <td>0.0</td>\n",
       "    </tr>\n",
       "    <tr>\n",
       "      <th>max</th>\n",
       "      <td>5.800000</td>\n",
       "      <td>4.200000</td>\n",
       "      <td>1.900000</td>\n",
       "      <td>0.400000</td>\n",
       "      <td>0.0</td>\n",
       "      <td>0.0</td>\n",
       "    </tr>\n",
       "  </tbody>\n",
       "</table>\n",
       "</div>"
      ],
      "text/plain": [
       "       sepal_length  sepal_width  petal_length  petal_width  versicolor  \\\n",
       "count     30.000000    30.000000     30.000000    30.000000        30.0   \n",
       "mean       5.020000     3.460000      1.446667     0.216667         0.0   \n",
       "std        0.329472     0.350959      0.154771     0.083391         0.0   \n",
       "min        4.300000     3.000000      1.100000     0.100000         0.0   \n",
       "25%        4.825000     3.125000      1.400000     0.200000         0.0   \n",
       "50%        5.000000     3.400000      1.450000     0.200000         0.0   \n",
       "75%        5.200000     3.700000      1.500000     0.200000         0.0   \n",
       "max        5.800000     4.200000      1.900000     0.400000         0.0   \n",
       "\n",
       "       virginica  \n",
       "count       30.0  \n",
       "mean         0.0  \n",
       "std          0.0  \n",
       "min          0.0  \n",
       "25%          0.0  \n",
       "50%          0.0  \n",
       "75%          0.0  \n",
       "max          0.0  "
      ]
     },
     "execution_count": 46,
     "metadata": {},
     "output_type": "execute_result"
    }
   ],
   "source": [
    "train[train.species == 'setosa'].describe()"
   ]
  },
  {
   "cell_type": "code",
   "execution_count": 47,
   "id": "319f2ae8",
   "metadata": {},
   "outputs": [
    {
     "data": {
      "text/html": [
       "<div>\n",
       "<style scoped>\n",
       "    .dataframe tbody tr th:only-of-type {\n",
       "        vertical-align: middle;\n",
       "    }\n",
       "\n",
       "    .dataframe tbody tr th {\n",
       "        vertical-align: top;\n",
       "    }\n",
       "\n",
       "    .dataframe thead th {\n",
       "        text-align: right;\n",
       "    }\n",
       "</style>\n",
       "<table border=\"1\" class=\"dataframe\">\n",
       "  <thead>\n",
       "    <tr style=\"text-align: right;\">\n",
       "      <th></th>\n",
       "      <th>sepal_length</th>\n",
       "      <th>sepal_width</th>\n",
       "      <th>petal_length</th>\n",
       "      <th>petal_width</th>\n",
       "      <th>versicolor</th>\n",
       "      <th>virginica</th>\n",
       "    </tr>\n",
       "  </thead>\n",
       "  <tbody>\n",
       "    <tr>\n",
       "      <th>count</th>\n",
       "      <td>30.000000</td>\n",
       "      <td>30.000000</td>\n",
       "      <td>30.000000</td>\n",
       "      <td>30.000000</td>\n",
       "      <td>30.0</td>\n",
       "      <td>30.0</td>\n",
       "    </tr>\n",
       "    <tr>\n",
       "      <th>mean</th>\n",
       "      <td>5.943333</td>\n",
       "      <td>2.776667</td>\n",
       "      <td>4.283333</td>\n",
       "      <td>1.336667</td>\n",
       "      <td>1.0</td>\n",
       "      <td>0.0</td>\n",
       "    </tr>\n",
       "    <tr>\n",
       "      <th>std</th>\n",
       "      <td>0.484721</td>\n",
       "      <td>0.325559</td>\n",
       "      <td>0.436351</td>\n",
       "      <td>0.200832</td>\n",
       "      <td>0.0</td>\n",
       "      <td>0.0</td>\n",
       "    </tr>\n",
       "    <tr>\n",
       "      <th>min</th>\n",
       "      <td>4.900000</td>\n",
       "      <td>2.000000</td>\n",
       "      <td>3.300000</td>\n",
       "      <td>1.000000</td>\n",
       "      <td>1.0</td>\n",
       "      <td>0.0</td>\n",
       "    </tr>\n",
       "    <tr>\n",
       "      <th>25%</th>\n",
       "      <td>5.625000</td>\n",
       "      <td>2.600000</td>\n",
       "      <td>4.000000</td>\n",
       "      <td>1.225000</td>\n",
       "      <td>1.0</td>\n",
       "      <td>0.0</td>\n",
       "    </tr>\n",
       "    <tr>\n",
       "      <th>50%</th>\n",
       "      <td>6.000000</td>\n",
       "      <td>2.850000</td>\n",
       "      <td>4.450000</td>\n",
       "      <td>1.350000</td>\n",
       "      <td>1.0</td>\n",
       "      <td>0.0</td>\n",
       "    </tr>\n",
       "    <tr>\n",
       "      <th>75%</th>\n",
       "      <td>6.300000</td>\n",
       "      <td>3.000000</td>\n",
       "      <td>4.600000</td>\n",
       "      <td>1.500000</td>\n",
       "      <td>1.0</td>\n",
       "      <td>0.0</td>\n",
       "    </tr>\n",
       "    <tr>\n",
       "      <th>max</th>\n",
       "      <td>6.700000</td>\n",
       "      <td>3.400000</td>\n",
       "      <td>5.000000</td>\n",
       "      <td>1.700000</td>\n",
       "      <td>1.0</td>\n",
       "      <td>0.0</td>\n",
       "    </tr>\n",
       "  </tbody>\n",
       "</table>\n",
       "</div>"
      ],
      "text/plain": [
       "       sepal_length  sepal_width  petal_length  petal_width  versicolor  \\\n",
       "count     30.000000    30.000000     30.000000    30.000000        30.0   \n",
       "mean       5.943333     2.776667      4.283333     1.336667         1.0   \n",
       "std        0.484721     0.325559      0.436351     0.200832         0.0   \n",
       "min        4.900000     2.000000      3.300000     1.000000         1.0   \n",
       "25%        5.625000     2.600000      4.000000     1.225000         1.0   \n",
       "50%        6.000000     2.850000      4.450000     1.350000         1.0   \n",
       "75%        6.300000     3.000000      4.600000     1.500000         1.0   \n",
       "max        6.700000     3.400000      5.000000     1.700000         1.0   \n",
       "\n",
       "       virginica  \n",
       "count       30.0  \n",
       "mean         0.0  \n",
       "std          0.0  \n",
       "min          0.0  \n",
       "25%          0.0  \n",
       "50%          0.0  \n",
       "75%          0.0  \n",
       "max          0.0  "
      ]
     },
     "execution_count": 47,
     "metadata": {},
     "output_type": "execute_result"
    }
   ],
   "source": [
    "train[train.species == 'versicolor'].describe()"
   ]
  },
  {
   "cell_type": "code",
   "execution_count": 48,
   "id": "76a6abc9",
   "metadata": {},
   "outputs": [
    {
     "data": {
      "text/html": [
       "<div>\n",
       "<style scoped>\n",
       "    .dataframe tbody tr th:only-of-type {\n",
       "        vertical-align: middle;\n",
       "    }\n",
       "\n",
       "    .dataframe tbody tr th {\n",
       "        vertical-align: top;\n",
       "    }\n",
       "\n",
       "    .dataframe thead th {\n",
       "        text-align: right;\n",
       "    }\n",
       "</style>\n",
       "<table border=\"1\" class=\"dataframe\">\n",
       "  <thead>\n",
       "    <tr style=\"text-align: right;\">\n",
       "      <th></th>\n",
       "      <th>sepal_length</th>\n",
       "      <th>sepal_width</th>\n",
       "      <th>petal_length</th>\n",
       "      <th>petal_width</th>\n",
       "      <th>versicolor</th>\n",
       "      <th>virginica</th>\n",
       "    </tr>\n",
       "  </thead>\n",
       "  <tbody>\n",
       "    <tr>\n",
       "      <th>count</th>\n",
       "      <td>30.000000</td>\n",
       "      <td>30.000000</td>\n",
       "      <td>30.000000</td>\n",
       "      <td>30.000000</td>\n",
       "      <td>30.0</td>\n",
       "      <td>30.0</td>\n",
       "    </tr>\n",
       "    <tr>\n",
       "      <th>mean</th>\n",
       "      <td>6.560000</td>\n",
       "      <td>2.966667</td>\n",
       "      <td>5.503333</td>\n",
       "      <td>2.066667</td>\n",
       "      <td>0.0</td>\n",
       "      <td>1.0</td>\n",
       "    </tr>\n",
       "    <tr>\n",
       "      <th>std</th>\n",
       "      <td>0.608333</td>\n",
       "      <td>0.284464</td>\n",
       "      <td>0.530116</td>\n",
       "      <td>0.241166</td>\n",
       "      <td>0.0</td>\n",
       "      <td>0.0</td>\n",
       "    </tr>\n",
       "    <tr>\n",
       "      <th>min</th>\n",
       "      <td>5.600000</td>\n",
       "      <td>2.500000</td>\n",
       "      <td>4.800000</td>\n",
       "      <td>1.600000</td>\n",
       "      <td>0.0</td>\n",
       "      <td>1.0</td>\n",
       "    </tr>\n",
       "    <tr>\n",
       "      <th>25%</th>\n",
       "      <td>6.225000</td>\n",
       "      <td>2.800000</td>\n",
       "      <td>5.100000</td>\n",
       "      <td>1.825000</td>\n",
       "      <td>0.0</td>\n",
       "      <td>1.0</td>\n",
       "    </tr>\n",
       "    <tr>\n",
       "      <th>50%</th>\n",
       "      <td>6.400000</td>\n",
       "      <td>3.000000</td>\n",
       "      <td>5.500000</td>\n",
       "      <td>2.050000</td>\n",
       "      <td>0.0</td>\n",
       "      <td>1.0</td>\n",
       "    </tr>\n",
       "    <tr>\n",
       "      <th>75%</th>\n",
       "      <td>6.850000</td>\n",
       "      <td>3.100000</td>\n",
       "      <td>5.775000</td>\n",
       "      <td>2.300000</td>\n",
       "      <td>0.0</td>\n",
       "      <td>1.0</td>\n",
       "    </tr>\n",
       "    <tr>\n",
       "      <th>max</th>\n",
       "      <td>7.900000</td>\n",
       "      <td>3.800000</td>\n",
       "      <td>6.900000</td>\n",
       "      <td>2.500000</td>\n",
       "      <td>0.0</td>\n",
       "      <td>1.0</td>\n",
       "    </tr>\n",
       "  </tbody>\n",
       "</table>\n",
       "</div>"
      ],
      "text/plain": [
       "       sepal_length  sepal_width  petal_length  petal_width  versicolor  \\\n",
       "count     30.000000    30.000000     30.000000    30.000000        30.0   \n",
       "mean       6.560000     2.966667      5.503333     2.066667         0.0   \n",
       "std        0.608333     0.284464      0.530116     0.241166         0.0   \n",
       "min        5.600000     2.500000      4.800000     1.600000         0.0   \n",
       "25%        6.225000     2.800000      5.100000     1.825000         0.0   \n",
       "50%        6.400000     3.000000      5.500000     2.050000         0.0   \n",
       "75%        6.850000     3.100000      5.775000     2.300000         0.0   \n",
       "max        7.900000     3.800000      6.900000     2.500000         0.0   \n",
       "\n",
       "       virginica  \n",
       "count       30.0  \n",
       "mean         1.0  \n",
       "std          0.0  \n",
       "min          1.0  \n",
       "25%          1.0  \n",
       "50%          1.0  \n",
       "75%          1.0  \n",
       "max          1.0  "
      ]
     },
     "execution_count": 48,
     "metadata": {},
     "output_type": "execute_result"
    }
   ],
   "source": [
    "train[train.species == 'virginica'].describe()"
   ]
  },
  {
   "cell_type": "markdown",
   "id": "055fca80",
   "metadata": {},
   "source": [
    "## For virginica & versicolor: Compare the mean petal_width using the Mann-Whitney test (scipy.stats.mannwhitneyu) to see if there is a significant difference between the two groups. Do the same for the other measurement types."
   ]
  },
  {
   "cell_type": "code",
   "execution_count": 56,
   "id": "48fe4b99",
   "metadata": {},
   "outputs": [
    {
     "name": "stdout",
     "output_type": "stream",
     "text": [
      "We reject the null hypothesis, petal width has a correlation with the versicolor species\n"
     ]
    }
   ],
   "source": [
    "H0 = 'petal width has no correlation with the versicolor species'\n",
    "H1 = 'petal width has a correlation with the versicolor species'\n",
    "\n",
    "alpha = .05\n",
    "stat, p_value = stats.mannwhitneyu(train.petal_width, train.versicolor)\n",
    "\n",
    "if p_value < alpha:\n",
    "    print('We reject the null hypothesis,', H1)\n",
    "else:\n",
    "    print('The null hypothesis is confirmed,', H0)"
   ]
  },
  {
   "cell_type": "code",
   "execution_count": 57,
   "id": "e81f80ec",
   "metadata": {},
   "outputs": [
    {
     "name": "stdout",
     "output_type": "stream",
     "text": [
      "We reject the null hypothesis, petal length has a correlation with the versicolor species\n"
     ]
    }
   ],
   "source": [
    "H0 = 'petal length has no correlation with the versicolor species'\n",
    "H1 = 'petal length has a correlation with the versicolor species'\n",
    "\n",
    "alpha = .05\n",
    "stat, p_value = stats.mannwhitneyu(train.petal_length, train.versicolor)\n",
    "\n",
    "if p_value < alpha:\n",
    "    print('We reject the null hypothesis,', H1)\n",
    "else:\n",
    "    print('The null hypothesis is confirmed,', H0)"
   ]
  },
  {
   "cell_type": "code",
   "execution_count": 58,
   "id": "3d134353",
   "metadata": {},
   "outputs": [
    {
     "name": "stdout",
     "output_type": "stream",
     "text": [
      "We reject the null hypothesis, sepal width has a correlation with the versicolor species\n"
     ]
    }
   ],
   "source": [
    "H0 = 'sepal width has no correlation with the versicolor species'\n",
    "H1 = 'sepal width has a correlation with the versicolor species'\n",
    "\n",
    "alpha = .05\n",
    "stat, p_value = stats.mannwhitneyu(train.sepal_width, train.versicolor)\n",
    "\n",
    "if p_value < alpha:\n",
    "    print('We reject the null hypothesis,', H1)\n",
    "else:\n",
    "    print('The null hypothesis is confirmed,', H0)"
   ]
  },
  {
   "cell_type": "code",
   "execution_count": 59,
   "id": "b0e5b515",
   "metadata": {},
   "outputs": [
    {
     "name": "stdout",
     "output_type": "stream",
     "text": [
      "We reject the null hypothesis, sepal length has a correlation with the versicolor species\n"
     ]
    }
   ],
   "source": [
    "H0 = 'sepal length has no correlation with the versicolor species'\n",
    "H1 = 'sepal length has a correlation with the versicolor species'\n",
    "\n",
    "alpha = .05\n",
    "stat, p_value = stats.mannwhitneyu(train.sepal_length, train.versicolor)\n",
    "\n",
    "if p_value < alpha:\n",
    "    print('We reject the null hypothesis,', H1)\n",
    "else:\n",
    "    print('The null hypothesis is confirmed,', H0)"
   ]
  },
  {
   "cell_type": "code",
   "execution_count": 61,
   "id": "3cbabb72",
   "metadata": {},
   "outputs": [
    {
     "name": "stdout",
     "output_type": "stream",
     "text": [
      "We reject the null hypothesis, petal width has a correlation with the virginica species\n"
     ]
    }
   ],
   "source": [
    "H0 = 'petal width has no correlation with the virginica species'\n",
    "H1 = 'petal width has a correlation with the virginica species'\n",
    "\n",
    "alpha = .05\n",
    "stat, p_value = stats.mannwhitneyu(train.petal_width, train.virginica)\n",
    "\n",
    "if p_value < alpha:\n",
    "    print('We reject the null hypothesis,', H1)\n",
    "else:\n",
    "    print('The null hypothesis is confirmed,', H0)"
   ]
  },
  {
   "cell_type": "code",
   "execution_count": 60,
   "id": "b1010a54",
   "metadata": {},
   "outputs": [
    {
     "name": "stdout",
     "output_type": "stream",
     "text": [
      "We reject the null hypothesis, petal length has a correlation with the virginica species\n"
     ]
    }
   ],
   "source": [
    "H0 = 'petal length has no correlation with the virginica species'\n",
    "H1 = 'petal length has a correlation with the virginica species'\n",
    "\n",
    "alpha = .05\n",
    "stat, p_value = stats.mannwhitneyu(train.petal_length, train.virginica)\n",
    "\n",
    "if p_value < alpha:\n",
    "    print('We reject the null hypothesis,', H1)\n",
    "else:\n",
    "    print('The null hypothesis is confirmed,', H0)"
   ]
  },
  {
   "cell_type": "code",
   "execution_count": 62,
   "id": "b431d4ff",
   "metadata": {},
   "outputs": [
    {
     "name": "stdout",
     "output_type": "stream",
     "text": [
      "We reject the null hypothesis, sepal width has a correlation with the virginica species\n"
     ]
    }
   ],
   "source": [
    "H0 = 'sepal width has no correlation with the viriginica species'\n",
    "H1 = 'sepal width has a correlation with the virginica species'\n",
    "\n",
    "alpha = .05\n",
    "stat, p_value = stats.mannwhitneyu(train.sepal_width, train.virginica)\n",
    "\n",
    "if p_value < alpha:\n",
    "    print('We reject the null hypothesis,', H1)\n",
    "else:\n",
    "    print('The null hypothesis is confirmed,', H0)"
   ]
  },
  {
   "cell_type": "code",
   "execution_count": 91,
   "id": "4c7ea3e1",
   "metadata": {},
   "outputs": [
    {
     "name": "stdout",
     "output_type": "stream",
     "text": [
      "We reject the null hypothesis, there is a difference in the sepal area between virginicas and setosas\n"
     ]
    }
   ],
   "source": [
    "H0 = 'sepal length has no correlation with the virginica species'\n",
    "HA = 'sepal length has a correlation with the virginica species'\n",
    "\n",
    "alpha = .05\n",
    "stat, p_value = stats.mannwhitneyu(train.sepal_length, train.virginica)\n",
    "\n",
    "if p_value < alpha:\n",
    "    print('We reject the null hypothesis,', H1)\n",
    "else:\n",
    "    print('The null hypothesis is confirmed,', HA)"
   ]
  },
  {
   "cell_type": "markdown",
   "id": "a38d93a5",
   "metadata": {},
   "source": [
    "###  All petal and sepal measurements show correlation with the species"
   ]
  },
  {
   "cell_type": "markdown",
   "id": "d9bc734b",
   "metadata": {},
   "source": [
    "Visualize the interaction of each measurement type with the others using a pairplot (or scatter matrix or something similar) and add color to represent species."
   ]
  },
  {
   "cell_type": "code",
   "execution_count": 38,
   "id": "fd9bd394",
   "metadata": {},
   "outputs": [
    {
     "data": {
      "image/png": "[encoded data removed]",
      "text/plain": [
       "<Figure size 432x288 with 1 Axes>"
      ]
     },
     "metadata": {
      "needs_background": "light"
     },
     "output_type": "display_data"
    }
   ],
   "source": [
    "sns.scatterplot(data=train, x='petal_width', y='petal_length', hue='species')\n",
    "plt.title('Petal size and species')\n",
    "plt.show()"
   ]
  },
  {
   "cell_type": "markdown",
   "id": "4f1f7190",
   "metadata": {},
   "source": [
    "it appears petal dimensions are grouped by species"
   ]
  },
  {
   "cell_type": "code",
   "execution_count": 39,
   "id": "529d582c",
   "metadata": {},
   "outputs": [
    {
     "data": {
      "image/png": "[encoded data removed]",
      "text/plain": [
       "<Figure size 432x288 with 1 Axes>"
      ]
     },
     "metadata": {
      "needs_background": "light"
     },
     "output_type": "display_data"
    }
   ],
   "source": [
    "sns.scatterplot(data=train, x='sepal_width', y='sepal_length', hue='species')\n",
    "plt.title('Sepal size and species')\n",
    "plt.show()"
   ]
  },
  {
   "cell_type": "markdown",
   "id": "11d3d583",
   "metadata": {},
   "source": [
    "Sepal size helps distinguish Setosas, but has a less-clear distinction between Versicolor/Virginica"
   ]
  },
  {
   "cell_type": "code",
   "execution_count": 65,
   "id": "738c760d",
   "metadata": {},
   "outputs": [
    {
     "data": {
      "image/png": "[encoded data removed]",
      "text/plain": [
       "<Figure size 432x288 with 1 Axes>"
      ]
     },
     "metadata": {
      "needs_background": "light"
     },
     "output_type": "display_data"
    }
   ],
   "source": [
    "sns.scatterplot(data=train, x='petal_width', y='sepal_width', hue='species')\n",
    "plt.title('Sepal and Petal widths and species')\n",
    "plt.show()"
   ]
  },
  {
   "cell_type": "code",
   "execution_count": 66,
   "id": "66a7cc57",
   "metadata": {},
   "outputs": [
    {
     "data": {
      "image/png": "[encoded data removed]",
      "text/plain": [
       "<Figure size 432x288 with 1 Axes>"
      ]
     },
     "metadata": {
      "needs_background": "light"
     },
     "output_type": "display_data"
    }
   ],
   "source": [
    "sns.scatterplot(data=train, x='petal_length', y='sepal_length', hue='species')\n",
    "plt.title('Sepal and Petal lengths and species')\n",
    "plt.show()"
   ]
  },
  {
   "cell_type": "markdown",
   "id": "67e52729",
   "metadata": {},
   "source": [
    "### Visualize two numeric variables by means of the species. Hint: sns.relplot with hue or col"
   ]
  },
  {
   "cell_type": "code",
   "execution_count": 67,
   "id": "97c773ea",
   "metadata": {},
   "outputs": [
    {
     "data": {
      "image/png": "[encoded data removed]",
      "text/plain": [
       "<Figure size 444.75x360 with 1 Axes>"
      ]
     },
     "metadata": {
      "needs_background": "light"
     },
     "output_type": "display_data"
    }
   ],
   "source": [
    "sns.relplot(data=train, x='petal_length', y='petal_width', hue='species')\n",
    "plt.show()"
   ]
  },
  {
   "cell_type": "markdown",
   "id": "f9f81e04",
   "metadata": {},
   "source": [
    "### Create a swarmplot using a melted dataframe of all your numeric variables. The x-axis should be the variable name, the y-axis the measure. Add another dimension using color to represent species. Document takeaways from this visualization"
   ]
  },
  {
   "cell_type": "code",
   "execution_count": 75,
   "id": "74809a0a",
   "metadata": {},
   "outputs": [],
   "source": [
    "temp = train.drop(columns=['versicolor', 'virginica'])\n",
    "temp = temp.melt(id_vars=['species'], var_name='measurement', value_name='value')"
   ]
  },
  {
   "cell_type": "code",
   "execution_count": 78,
   "id": "2627d302",
   "metadata": {},
   "outputs": [
    {
     "data": {
      "image/png": "[encoded data removed]",
      "text/plain": [
       "<Figure size 432x288 with 1 Axes>"
      ]
     },
     "metadata": {
      "needs_background": "light"
     },
     "output_type": "display_data"
    }
   ],
   "source": [
    "sns.swarmplot(data=temp, x='measurement', y='value', hue='species')\n",
    "plt.show()"
   ]
  },
  {
   "cell_type": "markdown",
   "id": "354ca25a",
   "metadata": {},
   "source": [
    "This plot reinforces that petal size is the most distinct way to determine species"
   ]
  },
  {
   "cell_type": "markdown",
   "id": "ba92d7bc",
   "metadata": {},
   "source": [
    "### Ask a specific question of the data, such as: is the sepal area signficantly different in virginica compared to setosa? Answer the question through both a plot and using a mann-whitney or t-test. If you use a t-test, be sure assumptions are met (independence, normality, equal variance)."
   ]
  },
  {
   "cell_type": "code",
   "execution_count": 95,
   "id": "ac0577bd",
   "metadata": {},
   "outputs": [],
   "source": [
    "# create seperate lists of the sepal areas from each species \n",
    "virginicas = train[train.species == 'virginica']\n",
    "setosa = train[train.species == 'setosa']\n",
    "setosa_sepal_area = setosa.sepal_length * setosa.sepal_width\n",
    "virginca_seap_area = virginicas.sepal_length * virginicas.sepal_width\n"
   ]
  },
  {
   "cell_type": "code",
   "execution_count": 96,
   "id": "914f0521",
   "metadata": {},
   "outputs": [],
   "source": [
    "# form hypothesis\n",
    "H0 = 'there is no difference in the sepal area between virginicas and setosas'\n",
    "Ha = 'there is a difference in the sepal area between virginicas and setosas'"
   ]
  },
  {
   "cell_type": "code",
   "execution_count": 109,
   "id": "a699f7df",
   "metadata": {},
   "outputs": [
    {
     "data": {
      "image/png": "[encoded data removed]",
      "text/plain": [
       "<Figure size 432x288 with 1 Axes>"
      ]
     },
     "metadata": {
      "needs_background": "light"
     },
     "output_type": "display_data"
    }
   ],
   "source": [
    "# plot \n",
    "v_s = pd.concat([setosa, virginicas], axis=0)\n",
    "v_s['sepal_area'] = v_s['sepal_width'] * v_s['sepal_length']\n",
    "v_s\n",
    "\n",
    "sns.barplot(data=v_s, x='species', y='sepal_area')\n",
    "plt.title('The sepal area of virginicas is larger than that of setosas')\n",
    "plt.show()"
   ]
  },
  {
   "cell_type": "code",
   "execution_count": 97,
   "id": "0a0d83c3",
   "metadata": {},
   "outputs": [
    {
     "name": "stdout",
     "output_type": "stream",
     "text": [
      "0.8066029509185157 variance is equal\n"
     ]
    }
   ],
   "source": [
    "# find confidence level to determine if variance is True/False\n",
    "    #H0 variance is equal\n",
    "    #Ha variance is inqual\n",
    "stat, p = stats.levene(setosa_sepal_area, virginca_seap_area)\n",
    "if p > alpha:\n",
    "    print(p, 'variance is equal')\n",
    "else:\n",
    "    print(p, 'variance is inequal')"
   ]
  },
  {
   "cell_type": "markdown",
   "id": "5c3ffefa",
   "metadata": {},
   "source": [
    "normality can be assumed because there are 30 of each value"
   ]
  },
  {
   "cell_type": "code",
   "execution_count": 98,
   "id": "23385031",
   "metadata": {},
   "outputs": [
    {
     "name": "stdout",
     "output_type": "stream",
     "text": [
      "We reject the null hypothesis, there is a difference in the sepal area between virginicas and setosas\n"
     ]
    }
   ],
   "source": [
    "# perform t-test to test hypothesis\n",
    "t, p = stats.ttest_ind(setosa_sepal_area, virginca_seap_area, equal_var=True)\n",
    "if p_value < alpha:\n",
    "    print('We reject the null hypothesis,', Ha)\n",
    "else:\n",
    "    print('The null hypothesis is confirmed,', H0)"
   ]
  },
  {
   "cell_type": "markdown",
   "id": "76ec4f57",
   "metadata": {},
   "source": [
    "# Part II\n",
    "## Explore your titanic dataset more completely.\n",
    "\n"
   ]
  },
  {
   "cell_type": "code",
   "execution_count": 2,
   "id": "2ec7e89b",
   "metadata": {},
   "outputs": [
    {
     "data": {
      "text/html": [
       "<div>\n",
       "<style scoped>\n",
       "    .dataframe tbody tr th:only-of-type {\n",
       "        vertical-align: middle;\n",
       "    }\n",
       "\n",
       "    .dataframe tbody tr th {\n",
       "        vertical-align: top;\n",
       "    }\n",
       "\n",
       "    .dataframe thead th {\n",
       "        text-align: right;\n",
       "    }\n",
       "</style>\n",
       "<table border=\"1\" class=\"dataframe\">\n",
       "  <thead>\n",
       "    <tr style=\"text-align: right;\">\n",
       "      <th></th>\n",
       "      <th>passenger_id</th>\n",
       "      <th>survived</th>\n",
       "      <th>pclass</th>\n",
       "      <th>sex</th>\n",
       "      <th>age</th>\n",
       "      <th>sibsp</th>\n",
       "      <th>parch</th>\n",
       "      <th>fare</th>\n",
       "      <th>embarked</th>\n",
       "      <th>class</th>\n",
       "      <th>deck</th>\n",
       "      <th>embark_town</th>\n",
       "      <th>alone</th>\n",
       "    </tr>\n",
       "  </thead>\n",
       "  <tbody>\n",
       "    <tr>\n",
       "      <th>0</th>\n",
       "      <td>0</td>\n",
       "      <td>0</td>\n",
       "      <td>3</td>\n",
       "      <td>male</td>\n",
       "      <td>22.0</td>\n",
       "      <td>1</td>\n",
       "      <td>0</td>\n",
       "      <td>7.2500</td>\n",
       "      <td>S</td>\n",
       "      <td>Third</td>\n",
       "      <td>None</td>\n",
       "      <td>Southampton</td>\n",
       "      <td>0</td>\n",
       "    </tr>\n",
       "    <tr>\n",
       "      <th>1</th>\n",
       "      <td>1</td>\n",
       "      <td>1</td>\n",
       "      <td>1</td>\n",
       "      <td>female</td>\n",
       "      <td>38.0</td>\n",
       "      <td>1</td>\n",
       "      <td>0</td>\n",
       "      <td>71.2833</td>\n",
       "      <td>C</td>\n",
       "      <td>First</td>\n",
       "      <td>C</td>\n",
       "      <td>Cherbourg</td>\n",
       "      <td>0</td>\n",
       "    </tr>\n",
       "    <tr>\n",
       "      <th>2</th>\n",
       "      <td>2</td>\n",
       "      <td>1</td>\n",
       "      <td>3</td>\n",
       "      <td>female</td>\n",
       "      <td>26.0</td>\n",
       "      <td>0</td>\n",
       "      <td>0</td>\n",
       "      <td>7.9250</td>\n",
       "      <td>S</td>\n",
       "      <td>Third</td>\n",
       "      <td>None</td>\n",
       "      <td>Southampton</td>\n",
       "      <td>1</td>\n",
       "    </tr>\n",
       "    <tr>\n",
       "      <th>3</th>\n",
       "      <td>3</td>\n",
       "      <td>1</td>\n",
       "      <td>1</td>\n",
       "      <td>female</td>\n",
       "      <td>35.0</td>\n",
       "      <td>1</td>\n",
       "      <td>0</td>\n",
       "      <td>53.1000</td>\n",
       "      <td>S</td>\n",
       "      <td>First</td>\n",
       "      <td>C</td>\n",
       "      <td>Southampton</td>\n",
       "      <td>0</td>\n",
       "    </tr>\n",
       "    <tr>\n",
       "      <th>4</th>\n",
       "      <td>4</td>\n",
       "      <td>0</td>\n",
       "      <td>3</td>\n",
       "      <td>male</td>\n",
       "      <td>35.0</td>\n",
       "      <td>0</td>\n",
       "      <td>0</td>\n",
       "      <td>8.0500</td>\n",
       "      <td>S</td>\n",
       "      <td>Third</td>\n",
       "      <td>None</td>\n",
       "      <td>Southampton</td>\n",
       "      <td>1</td>\n",
       "    </tr>\n",
       "  </tbody>\n",
       "</table>\n",
       "</div>"
      ],
      "text/plain": [
       "   passenger_id  survived  pclass     sex   age  sibsp  parch     fare  \\\n",
       "0             0         0       3    male  22.0      1      0   7.2500   \n",
       "1             1         1       1  female  38.0      1      0  71.2833   \n",
       "2             2         1       3  female  26.0      0      0   7.9250   \n",
       "3             3         1       1  female  35.0      1      0  53.1000   \n",
       "4             4         0       3    male  35.0      0      0   8.0500   \n",
       "\n",
       "  embarked  class  deck  embark_town  alone  \n",
       "0        S  Third  None  Southampton      0  \n",
       "1        C  First     C    Cherbourg      0  \n",
       "2        S  Third  None  Southampton      1  \n",
       "3        S  First     C  Southampton      0  \n",
       "4        S  Third  None  Southampton      1  "
      ]
     },
     "execution_count": 2,
     "metadata": {},
     "output_type": "execute_result"
    }
   ],
   "source": [
    "# acquire data using the function in our acquire file\n",
    "titanicdf = acquire.get_titanic_data()\n",
    "titanicdf.head()"
   ]
  },
  {
   "cell_type": "code",
   "execution_count": 3,
   "id": "3d3c7c33",
   "metadata": {
    "scrolled": false
   },
   "outputs": [
    {
     "data": {
      "text/html": [
       "<div>\n",
       "<style scoped>\n",
       "    .dataframe tbody tr th:only-of-type {\n",
       "        vertical-align: middle;\n",
       "    }\n",
       "\n",
       "    .dataframe tbody tr th {\n",
       "        vertical-align: top;\n",
       "    }\n",
       "\n",
       "    .dataframe thead th {\n",
       "        text-align: right;\n",
       "    }\n",
       "</style>\n",
       "<table border=\"1\" class=\"dataframe\">\n",
       "  <thead>\n",
       "    <tr style=\"text-align: right;\">\n",
       "      <th></th>\n",
       "      <th>survived</th>\n",
       "      <th>pclass</th>\n",
       "      <th>sex</th>\n",
       "      <th>age</th>\n",
       "      <th>sibsp</th>\n",
       "      <th>parch</th>\n",
       "      <th>fare</th>\n",
       "      <th>embarked</th>\n",
       "      <th>embark_town</th>\n",
       "      <th>alone</th>\n",
       "      <th>sex_female</th>\n",
       "      <th>sex_male</th>\n",
       "      <th>embark_town_Cherbourg</th>\n",
       "      <th>embark_town_Queenstown</th>\n",
       "      <th>embark_town_Southampton</th>\n",
       "    </tr>\n",
       "  </thead>\n",
       "  <tbody>\n",
       "    <tr>\n",
       "      <th>0</th>\n",
       "      <td>0</td>\n",
       "      <td>3</td>\n",
       "      <td>male</td>\n",
       "      <td>22.0</td>\n",
       "      <td>1</td>\n",
       "      <td>0</td>\n",
       "      <td>7.2500</td>\n",
       "      <td>S</td>\n",
       "      <td>Southampton</td>\n",
       "      <td>0</td>\n",
       "      <td>0</td>\n",
       "      <td>1</td>\n",
       "      <td>0</td>\n",
       "      <td>0</td>\n",
       "      <td>1</td>\n",
       "    </tr>\n",
       "    <tr>\n",
       "      <th>1</th>\n",
       "      <td>1</td>\n",
       "      <td>1</td>\n",
       "      <td>female</td>\n",
       "      <td>38.0</td>\n",
       "      <td>1</td>\n",
       "      <td>0</td>\n",
       "      <td>71.2833</td>\n",
       "      <td>C</td>\n",
       "      <td>Cherbourg</td>\n",
       "      <td>0</td>\n",
       "      <td>1</td>\n",
       "      <td>0</td>\n",
       "      <td>1</td>\n",
       "      <td>0</td>\n",
       "      <td>0</td>\n",
       "    </tr>\n",
       "    <tr>\n",
       "      <th>2</th>\n",
       "      <td>1</td>\n",
       "      <td>3</td>\n",
       "      <td>female</td>\n",
       "      <td>26.0</td>\n",
       "      <td>0</td>\n",
       "      <td>0</td>\n",
       "      <td>7.9250</td>\n",
       "      <td>S</td>\n",
       "      <td>Southampton</td>\n",
       "      <td>1</td>\n",
       "      <td>1</td>\n",
       "      <td>0</td>\n",
       "      <td>0</td>\n",
       "      <td>0</td>\n",
       "      <td>1</td>\n",
       "    </tr>\n",
       "    <tr>\n",
       "      <th>3</th>\n",
       "      <td>1</td>\n",
       "      <td>1</td>\n",
       "      <td>female</td>\n",
       "      <td>35.0</td>\n",
       "      <td>1</td>\n",
       "      <td>0</td>\n",
       "      <td>53.1000</td>\n",
       "      <td>S</td>\n",
       "      <td>Southampton</td>\n",
       "      <td>0</td>\n",
       "      <td>1</td>\n",
       "      <td>0</td>\n",
       "      <td>0</td>\n",
       "      <td>0</td>\n",
       "      <td>1</td>\n",
       "    </tr>\n",
       "    <tr>\n",
       "      <th>4</th>\n",
       "      <td>0</td>\n",
       "      <td>3</td>\n",
       "      <td>male</td>\n",
       "      <td>35.0</td>\n",
       "      <td>0</td>\n",
       "      <td>0</td>\n",
       "      <td>8.0500</td>\n",
       "      <td>S</td>\n",
       "      <td>Southampton</td>\n",
       "      <td>1</td>\n",
       "      <td>0</td>\n",
       "      <td>1</td>\n",
       "      <td>0</td>\n",
       "      <td>0</td>\n",
       "      <td>1</td>\n",
       "    </tr>\n",
       "    <tr>\n",
       "      <th>...</th>\n",
       "      <td>...</td>\n",
       "      <td>...</td>\n",
       "      <td>...</td>\n",
       "      <td>...</td>\n",
       "      <td>...</td>\n",
       "      <td>...</td>\n",
       "      <td>...</td>\n",
       "      <td>...</td>\n",
       "      <td>...</td>\n",
       "      <td>...</td>\n",
       "      <td>...</td>\n",
       "      <td>...</td>\n",
       "      <td>...</td>\n",
       "      <td>...</td>\n",
       "      <td>...</td>\n",
       "    </tr>\n",
       "    <tr>\n",
       "      <th>885</th>\n",
       "      <td>0</td>\n",
       "      <td>3</td>\n",
       "      <td>female</td>\n",
       "      <td>39.0</td>\n",
       "      <td>0</td>\n",
       "      <td>5</td>\n",
       "      <td>29.1250</td>\n",
       "      <td>Q</td>\n",
       "      <td>Queenstown</td>\n",
       "      <td>0</td>\n",
       "      <td>1</td>\n",
       "      <td>0</td>\n",
       "      <td>0</td>\n",
       "      <td>1</td>\n",
       "      <td>0</td>\n",
       "    </tr>\n",
       "    <tr>\n",
       "      <th>886</th>\n",
       "      <td>0</td>\n",
       "      <td>2</td>\n",
       "      <td>male</td>\n",
       "      <td>27.0</td>\n",
       "      <td>0</td>\n",
       "      <td>0</td>\n",
       "      <td>13.0000</td>\n",
       "      <td>S</td>\n",
       "      <td>Southampton</td>\n",
       "      <td>1</td>\n",
       "      <td>0</td>\n",
       "      <td>1</td>\n",
       "      <td>0</td>\n",
       "      <td>0</td>\n",
       "      <td>1</td>\n",
       "    </tr>\n",
       "    <tr>\n",
       "      <th>887</th>\n",
       "      <td>1</td>\n",
       "      <td>1</td>\n",
       "      <td>female</td>\n",
       "      <td>19.0</td>\n",
       "      <td>0</td>\n",
       "      <td>0</td>\n",
       "      <td>30.0000</td>\n",
       "      <td>S</td>\n",
       "      <td>Southampton</td>\n",
       "      <td>1</td>\n",
       "      <td>1</td>\n",
       "      <td>0</td>\n",
       "      <td>0</td>\n",
       "      <td>0</td>\n",
       "      <td>1</td>\n",
       "    </tr>\n",
       "    <tr>\n",
       "      <th>889</th>\n",
       "      <td>1</td>\n",
       "      <td>1</td>\n",
       "      <td>male</td>\n",
       "      <td>26.0</td>\n",
       "      <td>0</td>\n",
       "      <td>0</td>\n",
       "      <td>30.0000</td>\n",
       "      <td>C</td>\n",
       "      <td>Cherbourg</td>\n",
       "      <td>1</td>\n",
       "      <td>0</td>\n",
       "      <td>1</td>\n",
       "      <td>1</td>\n",
       "      <td>0</td>\n",
       "      <td>0</td>\n",
       "    </tr>\n",
       "    <tr>\n",
       "      <th>890</th>\n",
       "      <td>0</td>\n",
       "      <td>3</td>\n",
       "      <td>male</td>\n",
       "      <td>32.0</td>\n",
       "      <td>0</td>\n",
       "      <td>0</td>\n",
       "      <td>7.7500</td>\n",
       "      <td>Q</td>\n",
       "      <td>Queenstown</td>\n",
       "      <td>1</td>\n",
       "      <td>0</td>\n",
       "      <td>1</td>\n",
       "      <td>0</td>\n",
       "      <td>1</td>\n",
       "      <td>0</td>\n",
       "    </tr>\n",
       "  </tbody>\n",
       "</table>\n",
       "<p>712 rows × 15 columns</p>\n",
       "</div>"
      ],
      "text/plain": [
       "     survived  pclass     sex   age  sibsp  parch     fare embarked  \\\n",
       "0           0       3    male  22.0      1      0   7.2500        S   \n",
       "1           1       1  female  38.0      1      0  71.2833        C   \n",
       "2           1       3  female  26.0      0      0   7.9250        S   \n",
       "3           1       1  female  35.0      1      0  53.1000        S   \n",
       "4           0       3    male  35.0      0      0   8.0500        S   \n",
       "..        ...     ...     ...   ...    ...    ...      ...      ...   \n",
       "885         0       3  female  39.0      0      5  29.1250        Q   \n",
       "886         0       2    male  27.0      0      0  13.0000        S   \n",
       "887         1       1  female  19.0      0      0  30.0000        S   \n",
       "889         1       1    male  26.0      0      0  30.0000        C   \n",
       "890         0       3    male  32.0      0      0   7.7500        Q   \n",
       "\n",
       "     embark_town  alone  sex_female  sex_male  embark_town_Cherbourg  \\\n",
       "0    Southampton      0           0         1                      0   \n",
       "1      Cherbourg      0           1         0                      1   \n",
       "2    Southampton      1           1         0                      0   \n",
       "3    Southampton      0           1         0                      0   \n",
       "4    Southampton      1           0         1                      0   \n",
       "..           ...    ...         ...       ...                    ...   \n",
       "885   Queenstown      0           1         0                      0   \n",
       "886  Southampton      1           0         1                      0   \n",
       "887  Southampton      1           1         0                      0   \n",
       "889    Cherbourg      1           0         1                      1   \n",
       "890   Queenstown      1           0         1                      0   \n",
       "\n",
       "     embark_town_Queenstown  embark_town_Southampton  \n",
       "0                         0                        1  \n",
       "1                         0                        0  \n",
       "2                         0                        1  \n",
       "3                         0                        1  \n",
       "4                         0                        1  \n",
       "..                      ...                      ...  \n",
       "885                       1                        0  \n",
       "886                       0                        1  \n",
       "887                       0                        1  \n",
       "889                       0                        0  \n",
       "890                       1                        0  \n",
       "\n",
       "[712 rows x 15 columns]"
      ]
     },
     "execution_count": 3,
     "metadata": {},
     "output_type": "execute_result"
    }
   ],
   "source": [
    "# prepare file using our prepare function\n",
    "titanicdf = prepare.prep_titanic(titanicdf)\n",
    "titanicdf"
   ]
  },
  {
   "cell_type": "code",
   "execution_count": 5,
   "id": "1f68676c",
   "metadata": {},
   "outputs": [
    {
     "data": {
      "text/plain": [
       "((426, 15), (143, 15), (143, 15))"
      ]
     },
     "execution_count": 5,
     "metadata": {},
     "output_type": "execute_result"
    }
   ],
   "source": [
    "# split into train/validate/test using our split function and verify size of returned dataframes\n",
    "train, validate, test = prepare.my_split(titanicdf, target = 'survived')\n",
    "train.shape, validate.shape, test.shape"
   ]
  },
  {
   "cell_type": "code",
   "execution_count": 6,
   "id": "46c49481",
   "metadata": {},
   "outputs": [
    {
     "data": {
      "text/plain": [
       "(0.40375586854460094, 0.40559440559440557, 0.40559440559440557)"
      ]
     },
     "execution_count": 6,
     "metadata": {},
     "output_type": "execute_result"
    }
   ],
   "source": [
    "# Stratification means we'll get even proportions of the target variable in each data set\n",
    "train.survived.mean(), validate.survived.mean(), test.survived.mean()"
   ]
  },
  {
   "cell_type": "code",
   "execution_count": 7,
   "id": "2aa64998",
   "metadata": {},
   "outputs": [
    {
     "name": "stdout",
     "output_type": "stream",
     "text": [
      "<class 'pandas.core.frame.DataFrame'>\n",
      "Int64Index: 426 entries, 333 to 84\n",
      "Data columns (total 15 columns):\n",
      " #   Column                   Non-Null Count  Dtype  \n",
      "---  ------                   --------------  -----  \n",
      " 0   survived                 426 non-null    int64  \n",
      " 1   pclass                   426 non-null    int64  \n",
      " 2   sex                      426 non-null    object \n",
      " 3   age                      426 non-null    float64\n",
      " 4   sibsp                    426 non-null    int64  \n",
      " 5   parch                    426 non-null    int64  \n",
      " 6   fare                     426 non-null    float64\n",
      " 7   embarked                 426 non-null    object \n",
      " 8   embark_town              426 non-null    object \n",
      " 9   alone                    426 non-null    int64  \n",
      " 10  sex_female               426 non-null    uint8  \n",
      " 11  sex_male                 426 non-null    uint8  \n",
      " 12  embark_town_Cherbourg    426 non-null    uint8  \n",
      " 13  embark_town_Queenstown   426 non-null    uint8  \n",
      " 14  embark_town_Southampton  426 non-null    uint8  \n",
      "dtypes: float64(2), int64(5), object(3), uint8(5)\n",
      "memory usage: 38.7+ KB\n"
     ]
    }
   ],
   "source": [
    "train.info()"
   ]
  },
  {
   "cell_type": "code",
   "execution_count": 8,
   "id": "62c0917f",
   "metadata": {},
   "outputs": [
    {
     "data": {
      "text/html": [
       "<div>\n",
       "<style scoped>\n",
       "    .dataframe tbody tr th:only-of-type {\n",
       "        vertical-align: middle;\n",
       "    }\n",
       "\n",
       "    .dataframe tbody tr th {\n",
       "        vertical-align: top;\n",
       "    }\n",
       "\n",
       "    .dataframe thead th {\n",
       "        text-align: right;\n",
       "    }\n",
       "</style>\n",
       "<table border=\"1\" class=\"dataframe\">\n",
       "  <thead>\n",
       "    <tr style=\"text-align: right;\">\n",
       "      <th></th>\n",
       "      <th>survived</th>\n",
       "      <th>pclass</th>\n",
       "      <th>sex</th>\n",
       "      <th>age</th>\n",
       "      <th>sibsp</th>\n",
       "      <th>parch</th>\n",
       "      <th>fare</th>\n",
       "      <th>embarked</th>\n",
       "      <th>embark_town</th>\n",
       "      <th>alone</th>\n",
       "      <th>sex_female</th>\n",
       "      <th>sex_male</th>\n",
       "      <th>embark_town_Cherbourg</th>\n",
       "      <th>embark_town_Queenstown</th>\n",
       "      <th>embark_town_Southampton</th>\n",
       "    </tr>\n",
       "  </thead>\n",
       "  <tbody>\n",
       "    <tr>\n",
       "      <th>count</th>\n",
       "      <td>426.000000</td>\n",
       "      <td>426.000000</td>\n",
       "      <td>426</td>\n",
       "      <td>426.000000</td>\n",
       "      <td>426.000000</td>\n",
       "      <td>426.000000</td>\n",
       "      <td>426.000000</td>\n",
       "      <td>426</td>\n",
       "      <td>426</td>\n",
       "      <td>426.000000</td>\n",
       "      <td>426.000000</td>\n",
       "      <td>426.000000</td>\n",
       "      <td>426.000000</td>\n",
       "      <td>426.000000</td>\n",
       "      <td>426.000000</td>\n",
       "    </tr>\n",
       "    <tr>\n",
       "      <th>unique</th>\n",
       "      <td>NaN</td>\n",
       "      <td>NaN</td>\n",
       "      <td>2</td>\n",
       "      <td>NaN</td>\n",
       "      <td>NaN</td>\n",
       "      <td>NaN</td>\n",
       "      <td>NaN</td>\n",
       "      <td>3</td>\n",
       "      <td>3</td>\n",
       "      <td>NaN</td>\n",
       "      <td>NaN</td>\n",
       "      <td>NaN</td>\n",
       "      <td>NaN</td>\n",
       "      <td>NaN</td>\n",
       "      <td>NaN</td>\n",
       "    </tr>\n",
       "    <tr>\n",
       "      <th>top</th>\n",
       "      <td>NaN</td>\n",
       "      <td>NaN</td>\n",
       "      <td>male</td>\n",
       "      <td>NaN</td>\n",
       "      <td>NaN</td>\n",
       "      <td>NaN</td>\n",
       "      <td>NaN</td>\n",
       "      <td>S</td>\n",
       "      <td>Southampton</td>\n",
       "      <td>NaN</td>\n",
       "      <td>NaN</td>\n",
       "      <td>NaN</td>\n",
       "      <td>NaN</td>\n",
       "      <td>NaN</td>\n",
       "      <td>NaN</td>\n",
       "    </tr>\n",
       "    <tr>\n",
       "      <th>freq</th>\n",
       "      <td>NaN</td>\n",
       "      <td>NaN</td>\n",
       "      <td>271</td>\n",
       "      <td>NaN</td>\n",
       "      <td>NaN</td>\n",
       "      <td>NaN</td>\n",
       "      <td>NaN</td>\n",
       "      <td>326</td>\n",
       "      <td>326</td>\n",
       "      <td>NaN</td>\n",
       "      <td>NaN</td>\n",
       "      <td>NaN</td>\n",
       "      <td>NaN</td>\n",
       "      <td>NaN</td>\n",
       "      <td>NaN</td>\n",
       "    </tr>\n",
       "    <tr>\n",
       "      <th>mean</th>\n",
       "      <td>0.403756</td>\n",
       "      <td>2.213615</td>\n",
       "      <td>NaN</td>\n",
       "      <td>29.963803</td>\n",
       "      <td>0.521127</td>\n",
       "      <td>0.455399</td>\n",
       "      <td>37.289378</td>\n",
       "      <td>NaN</td>\n",
       "      <td>NaN</td>\n",
       "      <td>0.568075</td>\n",
       "      <td>0.363850</td>\n",
       "      <td>0.636150</td>\n",
       "      <td>0.192488</td>\n",
       "      <td>0.042254</td>\n",
       "      <td>0.765258</td>\n",
       "    </tr>\n",
       "    <tr>\n",
       "      <th>std</th>\n",
       "      <td>0.491227</td>\n",
       "      <td>0.858947</td>\n",
       "      <td>NaN</td>\n",
       "      <td>14.212372</td>\n",
       "      <td>0.953396</td>\n",
       "      <td>0.896598</td>\n",
       "      <td>57.107664</td>\n",
       "      <td>NaN</td>\n",
       "      <td>NaN</td>\n",
       "      <td>0.495927</td>\n",
       "      <td>0.481672</td>\n",
       "      <td>0.481672</td>\n",
       "      <td>0.394718</td>\n",
       "      <td>0.201404</td>\n",
       "      <td>0.424336</td>\n",
       "    </tr>\n",
       "    <tr>\n",
       "      <th>min</th>\n",
       "      <td>0.000000</td>\n",
       "      <td>1.000000</td>\n",
       "      <td>NaN</td>\n",
       "      <td>0.750000</td>\n",
       "      <td>0.000000</td>\n",
       "      <td>0.000000</td>\n",
       "      <td>0.000000</td>\n",
       "      <td>NaN</td>\n",
       "      <td>NaN</td>\n",
       "      <td>0.000000</td>\n",
       "      <td>0.000000</td>\n",
       "      <td>0.000000</td>\n",
       "      <td>0.000000</td>\n",
       "      <td>0.000000</td>\n",
       "      <td>0.000000</td>\n",
       "    </tr>\n",
       "    <tr>\n",
       "      <th>25%</th>\n",
       "      <td>0.000000</td>\n",
       "      <td>1.000000</td>\n",
       "      <td>NaN</td>\n",
       "      <td>20.000000</td>\n",
       "      <td>0.000000</td>\n",
       "      <td>0.000000</td>\n",
       "      <td>8.050000</td>\n",
       "      <td>NaN</td>\n",
       "      <td>NaN</td>\n",
       "      <td>0.000000</td>\n",
       "      <td>0.000000</td>\n",
       "      <td>0.000000</td>\n",
       "      <td>0.000000</td>\n",
       "      <td>0.000000</td>\n",
       "      <td>1.000000</td>\n",
       "    </tr>\n",
       "    <tr>\n",
       "      <th>50%</th>\n",
       "      <td>0.000000</td>\n",
       "      <td>2.000000</td>\n",
       "      <td>NaN</td>\n",
       "      <td>29.000000</td>\n",
       "      <td>0.000000</td>\n",
       "      <td>0.000000</td>\n",
       "      <td>15.900000</td>\n",
       "      <td>NaN</td>\n",
       "      <td>NaN</td>\n",
       "      <td>1.000000</td>\n",
       "      <td>0.000000</td>\n",
       "      <td>1.000000</td>\n",
       "      <td>0.000000</td>\n",
       "      <td>0.000000</td>\n",
       "      <td>1.000000</td>\n",
       "    </tr>\n",
       "    <tr>\n",
       "      <th>75%</th>\n",
       "      <td>1.000000</td>\n",
       "      <td>3.000000</td>\n",
       "      <td>NaN</td>\n",
       "      <td>39.000000</td>\n",
       "      <td>1.000000</td>\n",
       "      <td>1.000000</td>\n",
       "      <td>37.004200</td>\n",
       "      <td>NaN</td>\n",
       "      <td>NaN</td>\n",
       "      <td>1.000000</td>\n",
       "      <td>1.000000</td>\n",
       "      <td>1.000000</td>\n",
       "      <td>0.000000</td>\n",
       "      <td>0.000000</td>\n",
       "      <td>1.000000</td>\n",
       "    </tr>\n",
       "    <tr>\n",
       "      <th>max</th>\n",
       "      <td>1.000000</td>\n",
       "      <td>3.000000</td>\n",
       "      <td>NaN</td>\n",
       "      <td>80.000000</td>\n",
       "      <td>5.000000</td>\n",
       "      <td>6.000000</td>\n",
       "      <td>512.329200</td>\n",
       "      <td>NaN</td>\n",
       "      <td>NaN</td>\n",
       "      <td>1.000000</td>\n",
       "      <td>1.000000</td>\n",
       "      <td>1.000000</td>\n",
       "      <td>1.000000</td>\n",
       "      <td>1.000000</td>\n",
       "      <td>1.000000</td>\n",
       "    </tr>\n",
       "  </tbody>\n",
       "</table>\n",
       "</div>"
      ],
      "text/plain": [
       "          survived      pclass   sex         age       sibsp       parch  \\\n",
       "count   426.000000  426.000000   426  426.000000  426.000000  426.000000   \n",
       "unique         NaN         NaN     2         NaN         NaN         NaN   \n",
       "top            NaN         NaN  male         NaN         NaN         NaN   \n",
       "freq           NaN         NaN   271         NaN         NaN         NaN   \n",
       "mean      0.403756    2.213615   NaN   29.963803    0.521127    0.455399   \n",
       "std       0.491227    0.858947   NaN   14.212372    0.953396    0.896598   \n",
       "min       0.000000    1.000000   NaN    0.750000    0.000000    0.000000   \n",
       "25%       0.000000    1.000000   NaN   20.000000    0.000000    0.000000   \n",
       "50%       0.000000    2.000000   NaN   29.000000    0.000000    0.000000   \n",
       "75%       1.000000    3.000000   NaN   39.000000    1.000000    1.000000   \n",
       "max       1.000000    3.000000   NaN   80.000000    5.000000    6.000000   \n",
       "\n",
       "              fare embarked  embark_town       alone  sex_female    sex_male  \\\n",
       "count   426.000000      426          426  426.000000  426.000000  426.000000   \n",
       "unique         NaN        3            3         NaN         NaN         NaN   \n",
       "top            NaN        S  Southampton         NaN         NaN         NaN   \n",
       "freq           NaN      326          326         NaN         NaN         NaN   \n",
       "mean     37.289378      NaN          NaN    0.568075    0.363850    0.636150   \n",
       "std      57.107664      NaN          NaN    0.495927    0.481672    0.481672   \n",
       "min       0.000000      NaN          NaN    0.000000    0.000000    0.000000   \n",
       "25%       8.050000      NaN          NaN    0.000000    0.000000    0.000000   \n",
       "50%      15.900000      NaN          NaN    1.000000    0.000000    1.000000   \n",
       "75%      37.004200      NaN          NaN    1.000000    1.000000    1.000000   \n",
       "max     512.329200      NaN          NaN    1.000000    1.000000    1.000000   \n",
       "\n",
       "        embark_town_Cherbourg  embark_town_Queenstown  embark_town_Southampton  \n",
       "count              426.000000              426.000000               426.000000  \n",
       "unique                    NaN                     NaN                      NaN  \n",
       "top                       NaN                     NaN                      NaN  \n",
       "freq                      NaN                     NaN                      NaN  \n",
       "mean                 0.192488                0.042254                 0.765258  \n",
       "std                  0.394718                0.201404                 0.424336  \n",
       "min                  0.000000                0.000000                 0.000000  \n",
       "25%                  0.000000                0.000000                 1.000000  \n",
       "50%                  0.000000                0.000000                 1.000000  \n",
       "75%                  0.000000                0.000000                 1.000000  \n",
       "max                  1.000000                1.000000                 1.000000  "
      ]
     },
     "execution_count": 8,
     "metadata": {},
     "output_type": "execute_result"
    }
   ],
   "source": [
    "train.describe(include='all')"
   ]
  },
  {
   "cell_type": "markdown",
   "id": "0ce8f224",
   "metadata": {},
   "source": [
    "- most passengers are in 3rd class\n",
    "- 63% men\n",
    "- 76% embarked from southampton\n",
    "- 56% traveling alone\n",
    "- median fare 15.9, average fare 37\n",
    "- outlier in fare of 512"
   ]
  },
  {
   "cell_type": "code",
   "execution_count": 10,
   "id": "1d46ba4a",
   "metadata": {},
   "outputs": [],
   "source": [
    "num_vars = ['fare']\n",
    "cat_vars = ['survived', 'pclass', 'sex_male', 'sibsp', 'parch', 'alone',\n",
    "            'embark_town_Queenstown', 'embark_town_Southampton','embark_town_Cherbourg'\n",
    "           ]"
   ]
  },
  {
   "cell_type": "code",
   "execution_count": 11,
   "id": "a837a957",
   "metadata": {},
   "outputs": [
    {
     "name": "stdout",
     "output_type": "stream",
     "text": [
      "survived\n",
      "0    254\n",
      "1    172\n",
      "Name: survived, dtype: int64\n",
      "0    59.624413\n",
      "1    40.375587\n",
      "Name: survived, dtype: float64\n"
     ]
    },
    {
     "data": {
      "image/png": "[encoded data removed]",
      "text/plain": [
       "<Figure size 432x288 with 1 Axes>"
      ]
     },
     "metadata": {
      "needs_background": "light"
     },
     "output_type": "display_data"
    },
    {
     "name": "stdout",
     "output_type": "stream",
     "text": [
      "pclass\n",
      "3    212\n",
      "1    121\n",
      "2     93\n",
      "Name: pclass, dtype: int64\n",
      "3    49.765258\n",
      "1    28.403756\n",
      "2    21.830986\n",
      "Name: pclass, dtype: float64\n"
     ]
    },
    {
     "data": {
      "image/png": "[encoded data removed]",
      "text/plain": [
       "<Figure size 432x288 with 1 Axes>"
      ]
     },
     "metadata": {
      "needs_background": "light"
     },
     "output_type": "display_data"
    },
    {
     "name": "stdout",
     "output_type": "stream",
     "text": [
      "sex_male\n",
      "1    271\n",
      "0    155\n",
      "Name: sex_male, dtype: int64\n",
      "1    63.615023\n",
      "0    36.384977\n",
      "Name: sex_male, dtype: float64\n"
     ]
    },
    {
     "data": {
      "image/png": "[encoded data removed]",
      "text/plain": [
       "<Figure size 432x288 with 1 Axes>"
      ]
     },
     "metadata": {
      "needs_background": "light"
     },
     "output_type": "display_data"
    },
    {
     "name": "stdout",
     "output_type": "stream",
     "text": [
      "sibsp\n",
      "0    281\n",
      "1    108\n",
      "2     16\n",
      "4     11\n",
      "3      6\n",
      "5      4\n",
      "Name: sibsp, dtype: int64\n",
      "0    65.962441\n",
      "1    25.352113\n",
      "2     3.755869\n",
      "4     2.582160\n",
      "3     1.408451\n",
      "5     0.938967\n",
      "Name: sibsp, dtype: float64\n"
     ]
    },
    {
     "data": {
      "image/png": "[encoded data removed]",
      "text/plain": [
       "<Figure size 432x288 with 1 Axes>"
      ]
     },
     "metadata": {
      "needs_background": "light"
     },
     "output_type": "display_data"
    },
    {
     "name": "stdout",
     "output_type": "stream",
     "text": [
      "parch\n",
      "0    310\n",
      "1     59\n",
      "2     48\n",
      "5      4\n",
      "3      3\n",
      "6      1\n",
      "4      1\n",
      "Name: parch, dtype: int64\n",
      "0    72.769953\n",
      "1    13.849765\n",
      "2    11.267606\n",
      "5     0.938967\n",
      "3     0.704225\n",
      "6     0.234742\n",
      "4     0.234742\n",
      "Name: parch, dtype: float64\n"
     ]
    },
    {
     "data": {
      "image/png": "[encoded data removed]",
      "text/plain": [
       "<Figure size 432x288 with 1 Axes>"
      ]
     },
     "metadata": {
      "needs_background": "light"
     },
     "output_type": "display_data"
    },
    {
     "name": "stdout",
     "output_type": "stream",
     "text": [
      "alone\n",
      "1    242\n",
      "0    184\n",
      "Name: alone, dtype: int64\n",
      "1    56.807512\n",
      "0    43.192488\n",
      "Name: alone, dtype: float64\n"
     ]
    },
    {
     "data": {
      "image/png": "[encoded data removed]",
      "text/plain": [
       "<Figure size 432x288 with 1 Axes>"
      ]
     },
     "metadata": {
      "needs_background": "light"
     },
     "output_type": "display_data"
    },
    {
     "name": "stdout",
     "output_type": "stream",
     "text": [
      "embark_town_Queenstown\n",
      "0    408\n",
      "1     18\n",
      "Name: embark_town_Queenstown, dtype: int64\n",
      "0    95.774648\n",
      "1     4.225352\n",
      "Name: embark_town_Queenstown, dtype: float64\n"
     ]
    },
    {
     "data": {
      "image/png": "[encoded data removed]",
      "text/plain": [
       "<Figure size 432x288 with 1 Axes>"
      ]
     },
     "metadata": {
      "needs_background": "light"
     },
     "output_type": "display_data"
    },
    {
     "name": "stdout",
     "output_type": "stream",
     "text": [
      "embark_town_Southampton\n",
      "1    326\n",
      "0    100\n",
      "Name: embark_town_Southampton, dtype: int64\n",
      "1    76.525822\n",
      "0    23.474178\n",
      "Name: embark_town_Southampton, dtype: float64\n"
     ]
    },
    {
     "data": {
      "image/png": "[encoded data removed]",
      "text/plain": [
       "<Figure size 432x288 with 1 Axes>"
      ]
     },
     "metadata": {
      "needs_background": "light"
     },
     "output_type": "display_data"
    },
    {
     "name": "stdout",
     "output_type": "stream",
     "text": [
      "embark_town_Cherbourg\n",
      "0    344\n",
      "1     82\n",
      "Name: embark_town_Cherbourg, dtype: int64\n",
      "0    80.751174\n",
      "1    19.248826\n",
      "Name: embark_town_Cherbourg, dtype: float64\n"
     ]
    },
    {
     "data": {
      "image/png": "[encoded data removed]",
      "text/plain": [
       "<Figure size 432x288 with 1 Axes>"
      ]
     },
     "metadata": {
      "needs_background": "light"
     },
     "output_type": "display_data"
    }
   ],
   "source": [
    "for col in cat_vars:\n",
    "    print(col)\n",
    "    print(train[col].value_counts())\n",
    "    print(train[col].value_counts(normalize=True)*100)\n",
    "    sns.countplot(x=col, data=train)\n",
    "    plt.show()"
   ]
  },
  {
   "cell_type": "markdown",
   "id": "b7679157",
   "metadata": {},
   "source": [
    "Explore Univariate Numeric Variables"
   ]
  },
  {
   "cell_type": "code",
   "execution_count": 13,
   "id": "ae24d2db",
   "metadata": {},
   "outputs": [
    {
     "data": {
      "text/plain": [
       "<AxesSubplot:>"
      ]
     },
     "execution_count": 13,
     "metadata": {},
     "output_type": "execute_result"
    },
    {
     "data": {
      "image/png": "[encoded data removed]",
      "text/plain": [
       "<Figure size 432x288 with 1 Axes>"
      ]
     },
     "metadata": {
      "needs_background": "light"
     },
     "output_type": "display_data"
    }
   ],
   "source": [
    "train.fare.hist()"
   ]
  },
  {
   "cell_type": "code",
   "execution_count": 14,
   "id": "3bc4b339",
   "metadata": {},
   "outputs": [
    {
     "data": {
      "text/plain": [
       "<AxesSubplot:xlabel='fare'>"
      ]
     },
     "execution_count": 14,
     "metadata": {},
     "output_type": "execute_result"
    },
    {
     "data": {
      "image/png": "[encoded data removed]",
      "text/plain": [
       "<Figure size 432x288 with 1 Axes>"
      ]
     },
     "metadata": {
      "needs_background": "light"
     },
     "output_type": "display_data"
    }
   ],
   "source": [
    "sns.boxplot(x='fare', data=train)"
   ]
  },
  {
   "cell_type": "code",
   "execution_count": 15,
   "id": "0d4639a3",
   "metadata": {},
   "outputs": [
    {
     "data": {
      "image/png": "[encoded data removed]",
      "text/plain": [
       "<Figure size 432x288 with 1 Axes>"
      ]
     },
     "metadata": {
      "needs_background": "light"
     },
     "output_type": "display_data"
    }
   ],
   "source": [
    "plt.title('Third class appears less likely to survive')\n",
    "sns.barplot(x='pclass', y='survived', data=train)\n",
    "pop_survival_rate = train.survived.mean()\n",
    "plt.axhline(pop_survival_rate, label = 'population survival rate')\n",
    "plt.legend()\n",
    "plt.show()\n"
   ]
  },
  {
   "cell_type": "markdown",
   "id": "9e43dcd3",
   "metadata": {},
   "source": [
    "- if we had deck data, we could explore whether this was related to the deck they were on. \n",
    "- let's test the relationships of class to survival: chi2 test"
   ]
  },
  {
   "cell_type": "code",
   "execution_count": 16,
   "id": "f26295a5",
   "metadata": {},
   "outputs": [
    {
     "name": "stdout",
     "output_type": "stream",
     "text": [
      "reject the null hypothesis that survival and class are independent\n",
      "there appears to be a relationship between survival and class\n"
     ]
    }
   ],
   "source": [
    "alpha = 0.05\n",
    "null_hyp = \"survival and class are independent\"\n",
    "alternative_hyp = \"there is a relationship between survival and class\"\n",
    "\n",
    "# set up a crosstab of observed values\n",
    "observed = pd.crosstab(train.survived, train.pclass)\n",
    "\n",
    "chi2, p, degf, expected = stats.chi2_contingency(observed)\n",
    "\n",
    "if p < alpha:\n",
    "    print(\"reject the null hypothesis that\", null_hyp)\n",
    "    print(\"there appears to be a relationship between survival and class\")\n",
    "else:\n",
    "    print(\"fail to reject the null hypothesis that\", null_hyp)"
   ]
  },
  {
   "cell_type": "code",
   "execution_count": 18,
   "id": "98c50acf",
   "metadata": {},
   "outputs": [
    {
     "data": {
      "image/png": "[encoded data removed]",
      "text/plain": [
       "<Figure size 432x288 with 1 Axes>"
      ]
     },
     "metadata": {
      "needs_background": "light"
     },
     "output_type": "display_data"
    }
   ],
   "source": [
    "plt.title(\"Females are more likely to survive\")\n",
    "sns.barplot(x='sex_male', y='survived', data=train)\n",
    "pop_survival_rate = train.survived.mean()\n",
    "plt.axhline(pop_survival_rate, label='population survival rate')\n",
    "plt.legend()\n",
    "plt.show()"
   ]
  },
  {
   "cell_type": "code",
   "execution_count": 19,
   "id": "62ebf972",
   "metadata": {},
   "outputs": [],
   "source": [
    "def cat_vis(train, col):\n",
    "    plt.title('Relationship of survival rate and '+col)\n",
    "    sns.barplot(x=col, y='survived', data=train)\n",
    "    survival_rate = train.survived.mean()\n",
    "    plt.axhline(survival_rate, label='survival rate')\n",
    "    plt.legend()\n",
    "    plt.show()\n",
    "    \n",
    "    \n",
    "def cat_test(train, col):\n",
    "    alpha = 0.05\n",
    "    null_hyp = col+' and survival rate are independent'\n",
    "    alt_hyp = 'There is a relationship between survival rate and '+col\n",
    "    observed = pd.crosstab(train.survived, train[col])\n",
    "    chi2, p, degf, expected = stats.chi2_contingency(observed)\n",
    "    if p < alpha:\n",
    "        print('We reject the null hypothesis that', null_hyp)\n",
    "        print(alt_hyp)\n",
    "    else:\n",
    "        print('We fail to reject the null hypothesis that', null_hyp)\n",
    "        print('There appears to be no relationship between survival rate and '+col)\n",
    "\n",
    "def cat_analysis(train, col):\n",
    "    cat_vis(train, col)\n",
    "    cat_test(train, col)"
   ]
  },
  {
   "cell_type": "code",
   "execution_count": 20,
   "id": "565c7b50",
   "metadata": {},
   "outputs": [
    {
     "data": {
      "image/png": "[encoded data removed]",
      "text/plain": [
       "<Figure size 432x288 with 1 Axes>"
      ]
     },
     "metadata": {
      "needs_background": "light"
     },
     "output_type": "display_data"
    },
    {
     "name": "stdout",
     "output_type": "stream",
     "text": [
      "We reject the null hypothesis that survived and survival rate are independent\n",
      "There is a relationship between survival rate and survived\n"
     ]
    },
    {
     "data": {
      "image/png": "[encoded data removed]",
      "text/plain": [
       "<Figure size 432x288 with 1 Axes>"
      ]
     },
     "metadata": {
      "needs_background": "light"
     },
     "output_type": "display_data"
    },
    {
     "name": "stdout",
     "output_type": "stream",
     "text": [
      "We reject the null hypothesis that pclass and survival rate are independent\n",
      "There is a relationship between survival rate and pclass\n"
     ]
    },
    {
     "data": {
      "image/png": "[encoded data removed]",
      "text/plain": [
       "<Figure size 432x288 with 1 Axes>"
      ]
     },
     "metadata": {
      "needs_background": "light"
     },
     "output_type": "display_data"
    },
    {
     "name": "stdout",
     "output_type": "stream",
     "text": [
      "We reject the null hypothesis that sex_male and survival rate are independent\n",
      "There is a relationship between survival rate and sex_male\n"
     ]
    },
    {
     "data": {
      "image/png": "[encoded data removed]",
      "text/plain": [
       "<Figure size 432x288 with 1 Axes>"
      ]
     },
     "metadata": {
      "needs_background": "light"
     },
     "output_type": "display_data"
    },
    {
     "name": "stdout",
     "output_type": "stream",
     "text": [
      "We reject the null hypothesis that sibsp and survival rate are independent\n",
      "There is a relationship between survival rate and sibsp\n"
     ]
    },
    {
     "data": {
      "image/png": "[encoded data removed]",
      "text/plain": [
       "<Figure size 432x288 with 1 Axes>"
      ]
     },
     "metadata": {
      "needs_background": "light"
     },
     "output_type": "display_data"
    },
    {
     "name": "stdout",
     "output_type": "stream",
     "text": [
      "We reject the null hypothesis that parch and survival rate are independent\n",
      "There is a relationship between survival rate and parch\n"
     ]
    },
    {
     "data": {
      "image/png": "[encoded data removed]",
      "text/plain": [
       "<Figure size 432x288 with 1 Axes>"
      ]
     },
     "metadata": {
      "needs_background": "light"
     },
     "output_type": "display_data"
    },
    {
     "name": "stdout",
     "output_type": "stream",
     "text": [
      "We reject the null hypothesis that alone and survival rate are independent\n",
      "There is a relationship between survival rate and alone\n"
     ]
    },
    {
     "data": {
      "image/png": "[encoded data removed]",
      "text/plain": [
       "<Figure size 432x288 with 1 Axes>"
      ]
     },
     "metadata": {
      "needs_background": "light"
     },
     "output_type": "display_data"
    },
    {
     "name": "stdout",
     "output_type": "stream",
     "text": [
      "We fail to reject the null hypothesis that embark_town_Queenstown and survival rate are independent\n",
      "There appears to be no relationship between survival rate and embark_town_Queenstown\n"
     ]
    },
    {
     "data": {
      "image/png": "[encoded data removed]",
      "text/plain": [
       "<Figure size 432x288 with 1 Axes>"
      ]
     },
     "metadata": {
      "needs_background": "light"
     },
     "output_type": "display_data"
    },
    {
     "name": "stdout",
     "output_type": "stream",
     "text": [
      "We reject the null hypothesis that embark_town_Southampton and survival rate are independent\n",
      "There is a relationship between survival rate and embark_town_Southampton\n"
     ]
    },
    {
     "data": {
      "image/png": "[encoded data removed]",
      "text/plain": [
       "<Figure size 432x288 with 1 Axes>"
      ]
     },
     "metadata": {
      "needs_background": "light"
     },
     "output_type": "display_data"
    },
    {
     "name": "stdout",
     "output_type": "stream",
     "text": [
      "We reject the null hypothesis that embark_town_Cherbourg and survival rate are independent\n",
      "There is a relationship between survival rate and embark_town_Cherbourg\n"
     ]
    }
   ],
   "source": [
    "# cat_analysis(train, 'sex_male')\n",
    "# cat_test(train, 'sex_male')\n",
    "\n",
    "for col in cat_vars:\n",
    "    cat_analysis(train, col)"
   ]
  },
  {
   "cell_type": "markdown",
   "id": "063c7158",
   "metadata": {},
   "source": [
    "**Takeaways**\n",
    "\n",
    "- Embarking from a place other than southampton is more likely to survive. \n",
    "- Traveling alone is less likely to survive\n",
    "- It appears traveling with 3+ have lower survival rate\n",
    "- Females more likely to survive\n",
    "- third class less likely to survive"
   ]
  },
  {
   "cell_type": "code",
   "execution_count": 25,
   "id": "b5090790",
   "metadata": {},
   "outputs": [
    {
     "data": {
      "image/png": "[encoded data removed]",
      "text/plain": [
       "<Figure size 432x288 with 1 Axes>"
      ]
     },
     "metadata": {
      "needs_background": "light"
     },
     "output_type": "display_data"
    }
   ],
   "source": [
    "sns.barplot(x='sex', y='survived', hue='alone', data=train)\n",
    "plt.title('Survival rate for each sex and being unaccompanied')\n",
    "plt.show()"
   ]
  },
  {
   "cell_type": "code",
   "execution_count": 26,
   "id": "2aa5a97e",
   "metadata": {},
   "outputs": [
    {
     "name": "stdout",
     "output_type": "stream",
     "text": [
      "We fail to reject the null hypothesis that alone and survival rate are independent\n",
      "There appears to be no relationship between survival rate and alone\n"
     ]
    }
   ],
   "source": [
    "# Do women with other passengers have a higher survival rate than women traveling alone? \n",
    "females = train[train.sex_male == 0]\n",
    "cat_test(females, 'alone')"
   ]
  },
  {
   "cell_type": "code",
   "execution_count": null,
   "id": "d7babf41",
   "metadata": {},
   "outputs": [],
   "source": []
  }
 ],
 "metadata": {
  "kernelspec": {
   "display_name": "Python 3 (ipykernel)",
   "language": "python",
   "name": "python3"
  },
  "language_info": {
   "codemirror_mode": {
    "name": "ipython",
    "version": 3
   },
   "file_extension": ".py",
   "mimetype": "text/x-python",
   "name": "python",
   "nbconvert_exporter": "python",
   "pygments_lexer": "ipython3",
   "version": "3.9.12"
  }
 },
 "nbformat": 4,
 "nbformat_minor": 5
}
