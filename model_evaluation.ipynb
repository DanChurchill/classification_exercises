{
 "cells": [
  {
   "cell_type": "markdown",
   "id": "9310fdd7",
   "metadata": {},
   "source": [
    "## Given the following confusion matrix, evaluate (by hand) the model's performance.\n",
    "\n",
    "\n",
    "|               | pred dog   | pred cat   |\n",
    "|:------------  |-----------:|-----------:|\n",
    "| actual dog    |         46 |         7  |\n",
    "| actual cat    |         13 |         34 |\n",
    "\n"
   ]
  },
  {
   "cell_type": "code",
   "execution_count": 44,
   "id": "c2e97c30",
   "metadata": {},
   "outputs": [
    {
     "name": "stdout",
     "output_type": "stream",
     "text": [
      "The model's performance is:\n",
      "            accuracy: 0.8\n",
      "            precision: 0.8679245283018868\n",
      "            recall: 0.7796610169491526\n"
     ]
    }
   ],
   "source": [
    "# positive prediction is dog\n",
    "TP = 46\n",
    "TN = 34\n",
    "FP = 7\n",
    "FN = 13\n",
    "\n",
    "\n",
    "accuracy = (TP+TN) / (TP+TN+FP+FN)\n",
    "precision = TP / (TP+FP)\n",
    "recall = TP / (TP+FN)\n",
    "print(\"The model's performance is:\")\n",
    "print(\"            accuracy:\", accuracy)\n",
    "print(\"            precision:\", precision)\n",
    "print(\"            recall:\", recall)"
   ]
  },
  {
   "cell_type": "markdown",
   "id": "5dc70e66",
   "metadata": {},
   "source": [
    "### In the context of this problem, what is a false positive?\n",
    "\n",
    "A false positive would be predicting a dog when it was actually a cat"
   ]
  },
  {
   "cell_type": "markdown",
   "id": "47802a45",
   "metadata": {},
   "source": [
    "### In the context of this problem, what is a false negative?\n",
    "\n",
    "A false negative would be predicting a cat (not a dog) when it was in fact a dog"
   ]
  },
  {
   "cell_type": "markdown",
   "id": "8d8d9444",
   "metadata": {},
   "source": [
    "# You are working as a datascientist working for Codeup Cody Creator (C3 for short), a rubber-duck manufacturing plant.\n",
    "\n",
    "### Unfortunately, some of the rubber ducks that are produced will have defects. Your team has built several models that try to predict those defects, and the data from their predictions can be found here.\n",
    "\n",
    "### Use the predictions dataset and pandas to help answer the following questions:"
   ]
  },
  {
   "cell_type": "code",
   "execution_count": 64,
   "id": "c72b0adb",
   "metadata": {},
   "outputs": [],
   "source": [
    "import env\n",
    "import os\n",
    "import pandas as pd\n",
    "import acquire\n",
    "from sklearn.metrics import confusion_matrix\n",
    "from sklearn.metrics import classification_report\n",
    "from sklearn.metrics import accuracy_score\n",
    "from sklearn.metrics import recall_score\n",
    "from sklearn.metrics import precision_score\n",
    "import warnings\n",
    "warnings.filterwarnings(\"ignore\")"
   ]
  },
  {
   "cell_type": "code",
   "execution_count": 55,
   "id": "e228402e",
   "metadata": {
    "scrolled": true
   },
   "outputs": [
    {
     "data": {
      "text/plain": [
       "0    No Defect\n",
       "Name: actual, dtype: object"
      ]
     },
     "execution_count": 55,
     "metadata": {},
     "output_type": "execute_result"
    }
   ],
   "source": [
    "df = pd.read_csv('c3.csv')\n",
    "df.shape\n",
    "df.actual.mode()"
   ]
  },
  {
   "cell_type": "markdown",
   "id": "2f742d2d",
   "metadata": {},
   "source": [
    "## An internal team wants to investigate the cause of the manufacturing defects. They tell you that they want to identify as many of the ducks that have a defect as possible. Which evaluation metric would be appropriate here? Which model would be the best fit for this use case?"
   ]
  },
  {
   "cell_type": "markdown",
   "id": "f6b86442",
   "metadata": {},
   "source": [
    "Because we are worried about how good our model is when the actual value is positive, we would use recall"
   ]
  },
  {
   "cell_type": "code",
   "execution_count": 56,
   "id": "8783857e",
   "metadata": {},
   "outputs": [
    {
     "name": "stdout",
     "output_type": "stream",
     "text": [
      "model 1 recall is: 0.5\n",
      "model 2 recall is: 0.5625\n",
      "model 3 recall is: 0.8125\n"
     ]
    }
   ],
   "source": [
    "subset = df[df.actual == 'Defect']\n",
    "\n",
    "recall_m1 = (subset.model1 == subset.actual).mean()\n",
    "recall_m2 = (subset.model2 == subset.actual).mean()\n",
    "recall_m3 = (subset.model3 == subset.actual).mean()\n",
    "\n",
    "print('model 1 recall is:', recall_m1)\n",
    "print('model 2 recall is:', recall_m2)\n",
    "print('model 3 recall is:', recall_m3)\n"
   ]
  },
  {
   "cell_type": "markdown",
   "id": "137b761b",
   "metadata": {},
   "source": [
    "Model 3 is the best model for this case since it has the highest recall (less false negatives)"
   ]
  },
  {
   "cell_type": "markdown",
   "id": "c9d2a553",
   "metadata": {},
   "source": [
    "## Recently several stories in the local news have come out highlighting customers who received a rubber duck with a defect, and portraying C3 in a bad light. The PR team has decided to launch a program that gives customers with a defective duck a vacation to Hawaii. They need you to predict which ducks will have defects, but tell you they really don't want to accidentally give out a vacation package when the duck really doesn't have a defect. Which evaluation metric would be appropriate here? Which model would be the best fit for this use case?"
   ]
  },
  {
   "cell_type": "markdown",
   "id": "a60b017b",
   "metadata": {},
   "source": [
    "For this scenario we are concerned about false positives, so we will use precision"
   ]
  },
  {
   "cell_type": "code",
   "execution_count": 62,
   "id": "27f4d71e",
   "metadata": {
    "scrolled": true
   },
   "outputs": [
    {
     "name": "stdout",
     "output_type": "stream",
     "text": [
      "precision of model 1 is: 0.8\n",
      "precision of model 2 is: 0.1\n",
      "precision of model 3 is: 0.13131313131313133\n"
     ]
    }
   ],
   "source": [
    "subset1 = df[df.model1 == 'Defect']\n",
    "m1prec = (subset1.model1 == subset1.actual).mean()\n",
    "\n",
    "subset2 = df[df.model2 == 'Defect']\n",
    "m2prec = (subset2.model2 == subset2.actual).mean()\n",
    "\n",
    "subset3 = df[df.model3 == 'Defect']\n",
    "m3prec = (subset3.model3 == subset3.actual).mean()\n",
    "\n",
    "print('precision of model 1 is:',m1prec)\n",
    "print('precision of model 2 is:',m2prec)\n",
    "print('precision of model 3 is:',m3prec)"
   ]
  },
  {
   "cell_type": "markdown",
   "id": "7ede36f0",
   "metadata": {},
   "source": [
    "Model 1 is the best model for this case since it has the highest precision"
   ]
  },
  {
   "cell_type": "markdown",
   "id": "b9b08a30",
   "metadata": {},
   "source": [
    "## You are working as a data scientist for Gives You Paws ™, a subscription based service that shows you cute pictures of dogs or cats (or both for an additional fee).\n",
    "\n",
    "## At Gives You Paws, anyone can upload pictures of their cats or dogs. The photos are then put through a two step process. First an automated algorithm tags pictures as either a cat or a dog (Phase I). Next, the photos that have been initially identified are put through another round of review, possibly with some human oversight, before being presented to the users (Phase II).\n",
    "\n",
    "Several models have already been developed with the data, and you can find their results here.\n",
    "\n",
    "Given this dataset, use pandas to create a baseline model (i.e. a model that just predicts the most common class) and answer the following questions:\n",
    "\n",
    "In terms of accuracy, how do the various models compare to the baseline model? Are any of the models better than the baseline?\n",
    "Suppose you are working on a team that solely deals with dog pictures. Which of these models would you recomend for Phase I? For Phase II?\n",
    "Suppose you are working on a team that solely deals with cat pictures. Which of these models would you recomend for Phase I? For Phase II?"
   ]
  },
  {
   "cell_type": "code",
   "execution_count": 87,
   "id": "d429655a",
   "metadata": {},
   "outputs": [
    {
     "data": {
      "text/plain": [
       "(5000, 5)"
      ]
     },
     "execution_count": 87,
     "metadata": {},
     "output_type": "execute_result"
    }
   ],
   "source": [
    "# read data from csv and save into dataframe\n",
    "df = pd.read_csv('gives_you_paws.csv')\n",
    "df.shape\n"
   ]
  },
  {
   "cell_type": "code",
   "execution_count": 88,
   "id": "69899ad4",
   "metadata": {},
   "outputs": [
    {
     "data": {
      "text/html": [
       "<div>\n",
       "<style scoped>\n",
       "    .dataframe tbody tr th:only-of-type {\n",
       "        vertical-align: middle;\n",
       "    }\n",
       "\n",
       "    .dataframe tbody tr th {\n",
       "        vertical-align: top;\n",
       "    }\n",
       "\n",
       "    .dataframe thead th {\n",
       "        text-align: right;\n",
       "    }\n",
       "</style>\n",
       "<table border=\"1\" class=\"dataframe\">\n",
       "  <thead>\n",
       "    <tr style=\"text-align: right;\">\n",
       "      <th></th>\n",
       "      <th>actual</th>\n",
       "      <th>model1</th>\n",
       "      <th>model2</th>\n",
       "      <th>model3</th>\n",
       "      <th>model4</th>\n",
       "    </tr>\n",
       "  </thead>\n",
       "  <tbody>\n",
       "    <tr>\n",
       "      <th>0</th>\n",
       "      <td>cat</td>\n",
       "      <td>cat</td>\n",
       "      <td>dog</td>\n",
       "      <td>cat</td>\n",
       "      <td>dog</td>\n",
       "    </tr>\n",
       "    <tr>\n",
       "      <th>1</th>\n",
       "      <td>dog</td>\n",
       "      <td>dog</td>\n",
       "      <td>cat</td>\n",
       "      <td>cat</td>\n",
       "      <td>dog</td>\n",
       "    </tr>\n",
       "    <tr>\n",
       "      <th>2</th>\n",
       "      <td>dog</td>\n",
       "      <td>cat</td>\n",
       "      <td>cat</td>\n",
       "      <td>cat</td>\n",
       "      <td>dog</td>\n",
       "    </tr>\n",
       "    <tr>\n",
       "      <th>3</th>\n",
       "      <td>dog</td>\n",
       "      <td>dog</td>\n",
       "      <td>dog</td>\n",
       "      <td>cat</td>\n",
       "      <td>dog</td>\n",
       "    </tr>\n",
       "    <tr>\n",
       "      <th>4</th>\n",
       "      <td>cat</td>\n",
       "      <td>cat</td>\n",
       "      <td>cat</td>\n",
       "      <td>dog</td>\n",
       "      <td>dog</td>\n",
       "    </tr>\n",
       "  </tbody>\n",
       "</table>\n",
       "</div>"
      ],
      "text/plain": [
       "  actual model1 model2 model3 model4\n",
       "0    cat    cat    dog    cat    dog\n",
       "1    dog    dog    cat    cat    dog\n",
       "2    dog    cat    cat    cat    dog\n",
       "3    dog    dog    dog    cat    dog\n",
       "4    cat    cat    cat    dog    dog"
      ]
     },
     "execution_count": 88,
     "metadata": {},
     "output_type": "execute_result"
    }
   ],
   "source": [
    "df.head()"
   ]
  },
  {
   "cell_type": "code",
   "execution_count": 89,
   "id": "392b1010",
   "metadata": {},
   "outputs": [
    {
     "data": {
      "text/plain": [
       "(0    dog\n",
       " Name: actual, dtype: object,\n",
       " dog    3254\n",
       " cat    1746\n",
       " Name: actual, dtype: int64)"
      ]
     },
     "execution_count": 89,
     "metadata": {},
     "output_type": "execute_result"
    }
   ],
   "source": [
    "df.actual.mode(), df.actual.value_counts()"
   ]
  },
  {
   "cell_type": "markdown",
   "id": "47b9b1d9",
   "metadata": {},
   "source": [
    "Given this dataset, use pandas to create a baseline model (i.e. a model that just predicts the most common class) and answer the following questions:"
   ]
  },
  {
   "cell_type": "code",
   "execution_count": 90,
   "id": "4de3ea17",
   "metadata": {},
   "outputs": [],
   "source": [
    "# The most common class is dog, so create a series for model5 and append to our original df\n",
    "model5 = pd.Series('dog', index=range(5000))\n",
    "df = pd.concat([df, model5], axis=1)\n",
    "df.rename(columns={0:'baseline'}, inplace=True)"
   ]
  },
  {
   "cell_type": "code",
   "execution_count": 91,
   "id": "b3706c52",
   "metadata": {},
   "outputs": [
    {
     "data": {
      "text/html": [
       "<div>\n",
       "<style scoped>\n",
       "    .dataframe tbody tr th:only-of-type {\n",
       "        vertical-align: middle;\n",
       "    }\n",
       "\n",
       "    .dataframe tbody tr th {\n",
       "        vertical-align: top;\n",
       "    }\n",
       "\n",
       "    .dataframe thead th {\n",
       "        text-align: right;\n",
       "    }\n",
       "</style>\n",
       "<table border=\"1\" class=\"dataframe\">\n",
       "  <thead>\n",
       "    <tr style=\"text-align: right;\">\n",
       "      <th></th>\n",
       "      <th>actual</th>\n",
       "      <th>model1</th>\n",
       "      <th>model2</th>\n",
       "      <th>model3</th>\n",
       "      <th>model4</th>\n",
       "      <th>baseline</th>\n",
       "    </tr>\n",
       "  </thead>\n",
       "  <tbody>\n",
       "    <tr>\n",
       "      <th>0</th>\n",
       "      <td>cat</td>\n",
       "      <td>cat</td>\n",
       "      <td>dog</td>\n",
       "      <td>cat</td>\n",
       "      <td>dog</td>\n",
       "      <td>dog</td>\n",
       "    </tr>\n",
       "    <tr>\n",
       "      <th>1</th>\n",
       "      <td>dog</td>\n",
       "      <td>dog</td>\n",
       "      <td>cat</td>\n",
       "      <td>cat</td>\n",
       "      <td>dog</td>\n",
       "      <td>dog</td>\n",
       "    </tr>\n",
       "    <tr>\n",
       "      <th>2</th>\n",
       "      <td>dog</td>\n",
       "      <td>cat</td>\n",
       "      <td>cat</td>\n",
       "      <td>cat</td>\n",
       "      <td>dog</td>\n",
       "      <td>dog</td>\n",
       "    </tr>\n",
       "    <tr>\n",
       "      <th>3</th>\n",
       "      <td>dog</td>\n",
       "      <td>dog</td>\n",
       "      <td>dog</td>\n",
       "      <td>cat</td>\n",
       "      <td>dog</td>\n",
       "      <td>dog</td>\n",
       "    </tr>\n",
       "    <tr>\n",
       "      <th>4</th>\n",
       "      <td>cat</td>\n",
       "      <td>cat</td>\n",
       "      <td>cat</td>\n",
       "      <td>dog</td>\n",
       "      <td>dog</td>\n",
       "      <td>dog</td>\n",
       "    </tr>\n",
       "  </tbody>\n",
       "</table>\n",
       "</div>"
      ],
      "text/plain": [
       "  actual model1 model2 model3 model4 baseline\n",
       "0    cat    cat    dog    cat    dog      dog\n",
       "1    dog    dog    cat    cat    dog      dog\n",
       "2    dog    cat    cat    cat    dog      dog\n",
       "3    dog    dog    dog    cat    dog      dog\n",
       "4    cat    cat    cat    dog    dog      dog"
      ]
     },
     "execution_count": 91,
     "metadata": {},
     "output_type": "execute_result"
    }
   ],
   "source": [
    "df.head()"
   ]
  },
  {
   "cell_type": "markdown",
   "id": "871d2768",
   "metadata": {},
   "source": [
    "### In terms of accuracy, how do the various models compare to the baseline model? Are any of the models better than the baseline?"
   ]
  },
  {
   "cell_type": "code",
   "execution_count": 92,
   "id": "52db86a0",
   "metadata": {},
   "outputs": [
    {
     "name": "stdout",
     "output_type": "stream",
     "text": [
      "The accuracy of model1 is 0.8074\n",
      "The accuracy of model2 is 0.6304\n",
      "The accuracy of model3 is 0.5096\n",
      "The accuracy of model4 is 0.7426\n",
      "The accuracy of baseline is 0.6508\n"
     ]
    }
   ],
   "source": [
    "cols = df.columns.tolist()\n",
    "for col in cols[1:]:\n",
    "    print('The accuracy of', col,'is', accuracy_score(df['actual'], df[col]))"
   ]
  },
  {
   "cell_type": "markdown",
   "id": "11388677",
   "metadata": {},
   "source": [
    "Models 1 and 4 are more accurate than the baseline, models 2 and 3 are less accurate"
   ]
  },
  {
   "cell_type": "markdown",
   "id": "dbf8ec2f",
   "metadata": {},
   "source": [
    "### Suppose you are working on a team that solely deals with dog pictures. Which of these models would you recomend for Phase I? For Phase II?"
   ]
  },
  {
   "cell_type": "code",
   "execution_count": 93,
   "id": "b08f9492",
   "metadata": {},
   "outputs": [
    {
     "name": "stdout",
     "output_type": "stream",
     "text": [
      "When positive case is dog\n",
      "The accuracy of model1 is 0.8074\n",
      "The precision of model1 is 0.8900238338440586\n",
      "The recall score of model1 is 0.803318992009834\n",
      "--------------------------------------------------\n",
      "When positive case is dog\n",
      "The accuracy of model2 is 0.6304\n",
      "The precision of model2 is 0.8931767337807607\n",
      "The recall score of model2 is 0.49078057775046097\n",
      "--------------------------------------------------\n",
      "When positive case is dog\n",
      "The accuracy of model3 is 0.5096\n",
      "The precision of model3 is 0.6598883572567783\n",
      "The recall score of model3 is 0.5086047940995697\n",
      "--------------------------------------------------\n",
      "When positive case is dog\n",
      "The accuracy of model4 is 0.7426\n",
      "The precision of model4 is 0.7312485304490948\n",
      "The recall score of model4 is 0.9557467732022127\n",
      "--------------------------------------------------\n",
      "When positive case is dog\n",
      "The accuracy of baseline is 0.6508\n",
      "The precision of baseline is 0.6508\n",
      "The recall score of baseline is 1.0\n",
      "--------------------------------------------------\n"
     ]
    }
   ],
   "source": [
    "cols = df.columns.tolist()\n",
    "for col in cols[1:]:\n",
    "    print('When positive case is dog')\n",
    "    print('The accuracy of', col,'is', accuracy_score(df.actual, df[col]))\n",
    "    print('The precision of', col,'is', precision_score(df.actual, df[col], pos_label='dog'))\n",
    "    print('The recall score of', col,'is', recall_score(df.actual, df[col], pos_label='dog'))\n",
    "    print('--------------------------------------------------')"
   ]
  },
  {
   "cell_type": "markdown",
   "id": "f3af732c",
   "metadata": {},
   "source": [
    "If we are doing multiple phases looking for dogs we would not want to reject too many actual dogs on the first pass (FNs).  So we would use the model with the best recall (model 4)\n",
    "\n",
    "For the second phase we want to be as accurate as possible, so we would use the model with the best accuracy score, model 1).\n",
    "\n",
    "Phase I: model 4\n",
    "\n",
    "Phase II: model 1"
   ]
  },
  {
   "cell_type": "markdown",
   "id": "0ece14c5",
   "metadata": {},
   "source": [
    "### Suppose you are working on a team that solely deals with cat pictures. Which of these models would you recomend for Phase I? For Phase II?"
   ]
  },
  {
   "cell_type": "code",
   "execution_count": 94,
   "id": "4291c29b",
   "metadata": {},
   "outputs": [
    {
     "name": "stdout",
     "output_type": "stream",
     "text": [
      "When positive case is cat\n",
      "The accuracy of model1 is 0.8074\n",
      "The precision of model1 is 0.6897721764420747\n",
      "The recall score of model1 is 0.8150057273768614\n",
      "--------------------------------------------------\n",
      "When positive case is cat\n",
      "The accuracy of model2 is 0.6304\n",
      "The precision of model2 is 0.4841220423412204\n",
      "The recall score of model2 is 0.8906071019473081\n",
      "--------------------------------------------------\n",
      "When positive case is cat\n",
      "The accuracy of model3 is 0.5096\n",
      "The precision of model3 is 0.358346709470305\n",
      "The recall score of model3 is 0.5114547537227949\n",
      "--------------------------------------------------\n",
      "When positive case is cat\n",
      "The accuracy of model4 is 0.7426\n",
      "The precision of model4 is 0.8072289156626506\n",
      "The recall score of model4 is 0.34536082474226804\n",
      "--------------------------------------------------\n",
      "When positive case is cat\n",
      "The accuracy of baseline is 0.6508\n",
      "The precision of baseline is 0.0\n",
      "The recall score of baseline is 0.0\n",
      "--------------------------------------------------\n"
     ]
    }
   ],
   "source": [
    "\n",
    "cols = df.columns.tolist()\n",
    "for col in cols[1:]:\n",
    "    print('When positive case is cat')\n",
    "    print('The accuracy of', col,'is', accuracy_score(df.actual, df[col]))\n",
    "    print('The precision of', col,'is', precision_score(df.actual, df[col], pos_label='cat'))\n",
    "    print('The recall score of', col,'is', recall_score(df.actual, df[col], pos_label='cat'))\n",
    "    print('--------------------------------------------------')"
   ]
  },
  {
   "cell_type": "markdown",
   "id": "587894e6",
   "metadata": {},
   "source": [
    "If we are doing multiple phases looking for cats we would not want to reject too many actual cats on the first pass (FNs).  So we would use the model with the best recall (model 2)\n",
    "\n",
    "For the second phase we want to be as accurate as possible, so we would use the model with the best accuracy score, model 1).\n",
    "\n",
    "Phase I: model 2\n",
    "\n",
    "Phase II: model 1"
   ]
  },
  {
   "cell_type": "code",
   "execution_count": null,
   "id": "6d8ef141",
   "metadata": {},
   "outputs": [],
   "source": [
    "\n"
   ]
  },
  {
   "cell_type": "code",
   "execution_count": null,
   "id": "559acd94",
   "metadata": {},
   "outputs": [],
   "source": []
  },
  {
   "cell_type": "code",
   "execution_count": null,
   "id": "80417f60",
   "metadata": {},
   "outputs": [],
   "source": []
  },
  {
   "cell_type": "code",
   "execution_count": null,
   "id": "9f70f0a5",
   "metadata": {},
   "outputs": [],
   "source": []
  }
 ],
 "metadata": {
  "kernelspec": {
   "display_name": "Python 3 (ipykernel)",
   "language": "python",
   "name": "python3"
  },
  "language_info": {
   "codemirror_mode": {
    "name": "ipython",
    "version": 3
   },
   "file_extension": ".py",
   "mimetype": "text/x-python",
   "name": "python",
   "nbconvert_exporter": "python",
   "pygments_lexer": "ipython3",
   "version": "3.9.12"
  }
 },
 "nbformat": 4,
 "nbformat_minor": 5
}
