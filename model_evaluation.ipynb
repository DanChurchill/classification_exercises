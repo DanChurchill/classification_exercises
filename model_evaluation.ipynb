{
 "cells": [
  {
   "cell_type": "markdown",
   "id": "fee3ee08",
   "metadata": {},
   "source": [
    "## Given the following confusion matrix, evaluate (by hand) the model's performance.\n",
    "\n",
    "\n",
    "|               | pred dog   | pred cat   |\n",
    "|:------------  |-----------:|-----------:|\n",
    "| actual dog    |         46 |         7  |\n",
    "| actual cat    |         13 |         34 |\n",
    "\n"
   ]
  },
  {
   "cell_type": "code",
   "execution_count": 97,
   "id": "1ad5a718",
   "metadata": {},
   "outputs": [
    {
     "name": "stdout",
     "output_type": "stream",
     "text": [
      "The model's performance is:\n",
      "            accuracy: 0.8\n",
      "            precision: 0.8292682926829268\n",
      "            recall: 0.723404255319149\n"
     ]
    }
   ],
   "source": [
    "# positive prediction is cat\n",
    "TP = 34\n",
    "TN = 46\n",
    "FP = 7\n",
    "FN = 13\n",
    "\n",
    "\n",
    "accuracy = (TP+TN) / (TP+TN+FP+FN)\n",
    "precision = TP / (TP+FP)\n",
    "recall = TP / (TP+FN)\n",
    "print(\"The model's performance is:\")\n",
    "print(\"            accuracy:\", accuracy)\n",
    "print(\"            precision:\", precision)\n",
    "print(\"            recall:\", recall)"
   ]
  },
  {
   "cell_type": "markdown",
   "id": "b95b1470",
   "metadata": {},
   "source": [
    "### In the context of this problem, what is a false positive?\n",
    "\n",
    "A false positive would be predicting a cat when it was actually a dog"
   ]
  },
  {
   "cell_type": "markdown",
   "id": "a5281f49",
   "metadata": {},
   "source": [
    "### In the context of this problem, what is a false negative?\n",
    "\n",
    "A false negative would be predicting a dog (not a cat) when it was in fact a cat"
   ]
  },
  {
   "cell_type": "markdown",
   "id": "600043dd",
   "metadata": {},
   "source": [
    "# You are working as a datascientist working for Codeup Cody Creator (C3 for short), a rubber-duck manufacturing plant.\n",
    "\n",
    "### Unfortunately, some of the rubber ducks that are produced will have defects. Your team has built several models that try to predict those defects, and the data from their predictions can be found here.\n",
    "\n",
    "### Use the predictions dataset and pandas to help answer the following questions:"
   ]
  },
  {
   "cell_type": "code",
   "execution_count": 98,
   "id": "0e421372",
   "metadata": {},
   "outputs": [],
   "source": [
    "import env\n",
    "import os\n",
    "import pandas as pd\n",
    "import acquire\n",
    "from sklearn.metrics import confusion_matrix\n",
    "from sklearn.metrics import classification_report\n",
    "from sklearn.metrics import accuracy_score\n",
    "from sklearn.metrics import recall_score\n",
    "from sklearn.metrics import precision_score\n",
    "import warnings\n",
    "warnings.filterwarnings(\"ignore\")"
   ]
  },
  {
   "cell_type": "code",
   "execution_count": 99,
   "id": "59298400",
   "metadata": {
    "scrolled": true
   },
   "outputs": [
    {
     "data": {
      "text/plain": [
       "0    No Defect\n",
       "Name: actual, dtype: object"
      ]
     },
     "execution_count": 99,
     "metadata": {},
     "output_type": "execute_result"
    }
   ],
   "source": [
    "df = pd.read_csv('c3.csv')\n",
    "df.shape\n",
    "df.actual.mode()"
   ]
  },
  {
   "cell_type": "markdown",
   "id": "59150524",
   "metadata": {},
   "source": [
    "## An internal team wants to investigate the cause of the manufacturing defects. They tell you that they want to identify as many of the ducks that have a defect as possible. Which evaluation metric would be appropriate here? Which model would be the best fit for this use case?"
   ]
  },
  {
   "cell_type": "markdown",
   "id": "bb7e200b",
   "metadata": {},
   "source": [
    "Because we are worried about how good our model is when the actual value is positive, we would use recall"
   ]
  },
  {
   "cell_type": "code",
   "execution_count": 56,
   "id": "3e322eac",
   "metadata": {},
   "outputs": [
    {
     "name": "stdout",
     "output_type": "stream",
     "text": [
      "model 1 recall is: 0.5\n",
      "model 2 recall is: 0.5625\n",
      "model 3 recall is: 0.8125\n"
     ]
    }
   ],
   "source": [
    "subset = df[df.actual == 'Defect']\n",
    "\n",
    "recall_m1 = (subset.model1 == subset.actual).mean()\n",
    "recall_m2 = (subset.model2 == subset.actual).mean()\n",
    "recall_m3 = (subset.model3 == subset.actual).mean()\n",
    "\n",
    "print('model 1 recall is:', recall_m1)\n",
    "print('model 2 recall is:', recall_m2)\n",
    "print('model 3 recall is:', recall_m3)\n"
   ]
  },
  {
   "cell_type": "markdown",
   "id": "cabfd84e",
   "metadata": {},
   "source": [
    "Model 3 is the best model for this case since it has the highest recall (less false negatives)"
   ]
  },
  {
   "cell_type": "markdown",
   "id": "50df0975",
   "metadata": {},
   "source": [
    "## Recently several stories in the local news have come out highlighting customers who received a rubber duck with a defect, and portraying C3 in a bad light. The PR team has decided to launch a program that gives customers with a defective duck a vacation to Hawaii. They need you to predict which ducks will have defects, but tell you they really don't want to accidentally give out a vacation package when the duck really doesn't have a defect. Which evaluation metric would be appropriate here? Which model would be the best fit for this use case?"
   ]
  },
  {
   "cell_type": "markdown",
   "id": "4013fbc7",
   "metadata": {},
   "source": [
    "For this scenario we are concerned about false positives, so we will use precision"
   ]
  },
  {
   "cell_type": "code",
   "execution_count": 62,
   "id": "0bc15a68",
   "metadata": {
    "scrolled": true
   },
   "outputs": [
    {
     "name": "stdout",
     "output_type": "stream",
     "text": [
      "precision of model 1 is: 0.8\n",
      "precision of model 2 is: 0.1\n",
      "precision of model 3 is: 0.13131313131313133\n"
     ]
    }
   ],
   "source": [
    "subset1 = df[df.model1 == 'Defect']\n",
    "m1prec = (subset1.model1 == subset1.actual).mean()\n",
    "\n",
    "subset2 = df[df.model2 == 'Defect']\n",
    "m2prec = (subset2.model2 == subset2.actual).mean()\n",
    "\n",
    "subset3 = df[df.model3 == 'Defect']\n",
    "m3prec = (subset3.model3 == subset3.actual).mean()\n",
    "\n",
    "print('precision of model 1 is:',m1prec)\n",
    "print('precision of model 2 is:',m2prec)\n",
    "print('precision of model 3 is:',m3prec)"
   ]
  },
  {
   "cell_type": "markdown",
   "id": "d25c0c04",
   "metadata": {},
   "source": [
    "Model 1 is the best model for this case since it has the highest precision"
   ]
  },
  {
   "cell_type": "markdown",
   "id": "a805ad86",
   "metadata": {},
   "source": [
    "## You are working as a data scientist for Gives You Paws ™, a subscription based service that shows you cute pictures of dogs or cats (or both for an additional fee).\n",
    "\n",
    "## At Gives You Paws, anyone can upload pictures of their cats or dogs. The photos are then put through a two step process. First an automated algorithm tags pictures as either a cat or a dog (Phase I). Next, the photos that have been initially identified are put through another round of review, possibly with some human oversight, before being presented to the users (Phase II).\n",
    "\n",
    "Several models have already been developed with the data, and you can find their results here.\n",
    "\n",
    "Given this dataset, use pandas to create a baseline model (i.e. a model that just predicts the most common class) and answer the following questions:\n",
    "\n",
    "In terms of accuracy, how do the various models compare to the baseline model? Are any of the models better than the baseline?\n",
    "Suppose you are working on a team that solely deals with dog pictures. Which of these models would you recomend for Phase I? For Phase II?\n",
    "Suppose you are working on a team that solely deals with cat pictures. Which of these models would you recomend for Phase I? For Phase II?"
   ]
  },
  {
   "cell_type": "code",
   "execution_count": 100,
   "id": "1605bd3d",
   "metadata": {},
   "outputs": [
    {
     "data": {
      "text/plain": [
       "(5000, 5)"
      ]
     },
     "execution_count": 100,
     "metadata": {},
     "output_type": "execute_result"
    }
   ],
   "source": [
    "# read data from csv and save into dataframe\n",
    "df = pd.read_csv('gives_you_paws.csv')\n",
    "df.shape\n"
   ]
  },
  {
   "cell_type": "code",
   "execution_count": 101,
   "id": "b6f3c382",
   "metadata": {},
   "outputs": [
    {
     "data": {
      "text/html": [
       "<div>\n",
       "<style scoped>\n",
       "    .dataframe tbody tr th:only-of-type {\n",
       "        vertical-align: middle;\n",
       "    }\n",
       "\n",
       "    .dataframe tbody tr th {\n",
       "        vertical-align: top;\n",
       "    }\n",
       "\n",
       "    .dataframe thead th {\n",
       "        text-align: right;\n",
       "    }\n",
       "</style>\n",
       "<table border=\"1\" class=\"dataframe\">\n",
       "  <thead>\n",
       "    <tr style=\"text-align: right;\">\n",
       "      <th></th>\n",
       "      <th>actual</th>\n",
       "      <th>model1</th>\n",
       "      <th>model2</th>\n",
       "      <th>model3</th>\n",
       "      <th>model4</th>\n",
       "    </tr>\n",
       "  </thead>\n",
       "  <tbody>\n",
       "    <tr>\n",
       "      <th>0</th>\n",
       "      <td>cat</td>\n",
       "      <td>cat</td>\n",
       "      <td>dog</td>\n",
       "      <td>cat</td>\n",
       "      <td>dog</td>\n",
       "    </tr>\n",
       "    <tr>\n",
       "      <th>1</th>\n",
       "      <td>dog</td>\n",
       "      <td>dog</td>\n",
       "      <td>cat</td>\n",
       "      <td>cat</td>\n",
       "      <td>dog</td>\n",
       "    </tr>\n",
       "    <tr>\n",
       "      <th>2</th>\n",
       "      <td>dog</td>\n",
       "      <td>cat</td>\n",
       "      <td>cat</td>\n",
       "      <td>cat</td>\n",
       "      <td>dog</td>\n",
       "    </tr>\n",
       "    <tr>\n",
       "      <th>3</th>\n",
       "      <td>dog</td>\n",
       "      <td>dog</td>\n",
       "      <td>dog</td>\n",
       "      <td>cat</td>\n",
       "      <td>dog</td>\n",
       "    </tr>\n",
       "    <tr>\n",
       "      <th>4</th>\n",
       "      <td>cat</td>\n",
       "      <td>cat</td>\n",
       "      <td>cat</td>\n",
       "      <td>dog</td>\n",
       "      <td>dog</td>\n",
       "    </tr>\n",
       "  </tbody>\n",
       "</table>\n",
       "</div>"
      ],
      "text/plain": [
       "  actual model1 model2 model3 model4\n",
       "0    cat    cat    dog    cat    dog\n",
       "1    dog    dog    cat    cat    dog\n",
       "2    dog    cat    cat    cat    dog\n",
       "3    dog    dog    dog    cat    dog\n",
       "4    cat    cat    cat    dog    dog"
      ]
     },
     "execution_count": 101,
     "metadata": {},
     "output_type": "execute_result"
    }
   ],
   "source": [
    "df.head()"
   ]
  },
  {
   "cell_type": "code",
   "execution_count": 102,
   "id": "31033729",
   "metadata": {},
   "outputs": [
    {
     "data": {
      "text/plain": [
       "(0    dog\n",
       " Name: actual, dtype: object,\n",
       " dog    3254\n",
       " cat    1746\n",
       " Name: actual, dtype: int64)"
      ]
     },
     "execution_count": 102,
     "metadata": {},
     "output_type": "execute_result"
    }
   ],
   "source": [
    "# find the mode to use for the baseline\n",
    "df.actual.mode(), df.actual.value_counts()"
   ]
  },
  {
   "cell_type": "markdown",
   "id": "519284e6",
   "metadata": {},
   "source": [
    "Given this dataset, use pandas to create a baseline model (i.e. a model that just predicts the most common class) and answer the following questions:"
   ]
  },
  {
   "cell_type": "code",
   "execution_count": 90,
   "id": "e660a40f",
   "metadata": {},
   "outputs": [],
   "source": [
    "# The most common class is dog, so create a series for model5 and append to our original df\n",
    "model5 = pd.Series('dog', index=range(5000))\n",
    "df = pd.concat([df, model5], axis=1)\n",
    "df.rename(columns={0:'baseline'}, inplace=True)"
   ]
  },
  {
   "cell_type": "code",
   "execution_count": 91,
   "id": "14d193e3",
   "metadata": {},
   "outputs": [
    {
     "data": {
      "text/html": [
       "<div>\n",
       "<style scoped>\n",
       "    .dataframe tbody tr th:only-of-type {\n",
       "        vertical-align: middle;\n",
       "    }\n",
       "\n",
       "    .dataframe tbody tr th {\n",
       "        vertical-align: top;\n",
       "    }\n",
       "\n",
       "    .dataframe thead th {\n",
       "        text-align: right;\n",
       "    }\n",
       "</style>\n",
       "<table border=\"1\" class=\"dataframe\">\n",
       "  <thead>\n",
       "    <tr style=\"text-align: right;\">\n",
       "      <th></th>\n",
       "      <th>actual</th>\n",
       "      <th>model1</th>\n",
       "      <th>model2</th>\n",
       "      <th>model3</th>\n",
       "      <th>model4</th>\n",
       "      <th>baseline</th>\n",
       "    </tr>\n",
       "  </thead>\n",
       "  <tbody>\n",
       "    <tr>\n",
       "      <th>0</th>\n",
       "      <td>cat</td>\n",
       "      <td>cat</td>\n",
       "      <td>dog</td>\n",
       "      <td>cat</td>\n",
       "      <td>dog</td>\n",
       "      <td>dog</td>\n",
       "    </tr>\n",
       "    <tr>\n",
       "      <th>1</th>\n",
       "      <td>dog</td>\n",
       "      <td>dog</td>\n",
       "      <td>cat</td>\n",
       "      <td>cat</td>\n",
       "      <td>dog</td>\n",
       "      <td>dog</td>\n",
       "    </tr>\n",
       "    <tr>\n",
       "      <th>2</th>\n",
       "      <td>dog</td>\n",
       "      <td>cat</td>\n",
       "      <td>cat</td>\n",
       "      <td>cat</td>\n",
       "      <td>dog</td>\n",
       "      <td>dog</td>\n",
       "    </tr>\n",
       "    <tr>\n",
       "      <th>3</th>\n",
       "      <td>dog</td>\n",
       "      <td>dog</td>\n",
       "      <td>dog</td>\n",
       "      <td>cat</td>\n",
       "      <td>dog</td>\n",
       "      <td>dog</td>\n",
       "    </tr>\n",
       "    <tr>\n",
       "      <th>4</th>\n",
       "      <td>cat</td>\n",
       "      <td>cat</td>\n",
       "      <td>cat</td>\n",
       "      <td>dog</td>\n",
       "      <td>dog</td>\n",
       "      <td>dog</td>\n",
       "    </tr>\n",
       "  </tbody>\n",
       "</table>\n",
       "</div>"
      ],
      "text/plain": [
       "  actual model1 model2 model3 model4 baseline\n",
       "0    cat    cat    dog    cat    dog      dog\n",
       "1    dog    dog    cat    cat    dog      dog\n",
       "2    dog    cat    cat    cat    dog      dog\n",
       "3    dog    dog    dog    cat    dog      dog\n",
       "4    cat    cat    cat    dog    dog      dog"
      ]
     },
     "execution_count": 91,
     "metadata": {},
     "output_type": "execute_result"
    }
   ],
   "source": [
    "df.head()"
   ]
  },
  {
   "cell_type": "markdown",
   "id": "3e0f2d8b",
   "metadata": {},
   "source": [
    "### In terms of accuracy, how do the various models compare to the baseline model? Are any of the models better than the baseline?"
   ]
  },
  {
   "cell_type": "code",
   "execution_count": 92,
   "id": "b506206e",
   "metadata": {},
   "outputs": [
    {
     "name": "stdout",
     "output_type": "stream",
     "text": [
      "The accuracy of model1 is 0.8074\n",
      "The accuracy of model2 is 0.6304\n",
      "The accuracy of model3 is 0.5096\n",
      "The accuracy of model4 is 0.7426\n",
      "The accuracy of baseline is 0.6508\n"
     ]
    }
   ],
   "source": [
    "cols = df.columns.tolist()\n",
    "for col in cols[1:]:\n",
    "    print('The accuracy of', col,'is', accuracy_score(df['actual'], df[col]))"
   ]
  },
  {
   "cell_type": "markdown",
   "id": "cea0ec3b",
   "metadata": {},
   "source": [
    "Models 1 and 4 are more accurate than the baseline, models 2 and 3 are less accurate"
   ]
  },
  {
   "cell_type": "markdown",
   "id": "64ffa4dd",
   "metadata": {},
   "source": [
    "### Suppose you are working on a team that solely deals with dog pictures. Which of these models would you recomend for Phase I? For Phase II?"
   ]
  },
  {
   "cell_type": "code",
   "execution_count": 93,
   "id": "06787cde",
   "metadata": {},
   "outputs": [
    {
     "name": "stdout",
     "output_type": "stream",
     "text": [
      "When positive case is dog\n",
      "The accuracy of model1 is 0.8074\n",
      "The precision of model1 is 0.8900238338440586\n",
      "The recall score of model1 is 0.803318992009834\n",
      "--------------------------------------------------\n",
      "When positive case is dog\n",
      "The accuracy of model2 is 0.6304\n",
      "The precision of model2 is 0.8931767337807607\n",
      "The recall score of model2 is 0.49078057775046097\n",
      "--------------------------------------------------\n",
      "When positive case is dog\n",
      "The accuracy of model3 is 0.5096\n",
      "The precision of model3 is 0.6598883572567783\n",
      "The recall score of model3 is 0.5086047940995697\n",
      "--------------------------------------------------\n",
      "When positive case is dog\n",
      "The accuracy of model4 is 0.7426\n",
      "The precision of model4 is 0.7312485304490948\n",
      "The recall score of model4 is 0.9557467732022127\n",
      "--------------------------------------------------\n",
      "When positive case is dog\n",
      "The accuracy of baseline is 0.6508\n",
      "The precision of baseline is 0.6508\n",
      "The recall score of baseline is 1.0\n",
      "--------------------------------------------------\n"
     ]
    }
   ],
   "source": [
    "cols = df.columns.tolist()\n",
    "for col in cols[1:]:\n",
    "    print('When positive case is dog')\n",
    "    print('The accuracy of', col,'is', accuracy_score(df.actual, df[col]))\n",
    "    print('The precision of', col,'is', precision_score(df.actual, df[col], pos_label='dog'))\n",
    "    print('The recall score of', col,'is', recall_score(df.actual, df[col], pos_label='dog'))\n",
    "    print('--------------------------------------------------')"
   ]
  },
  {
   "cell_type": "markdown",
   "id": "1c6c404b",
   "metadata": {},
   "source": [
    "If we are doing multiple phases looking for dogs we would not want to reject too many actual dogs on the first pass (FNs).  So we would use the model with the best recall (model 4)\n",
    "\n",
    "For the second phase we want to be as precise as possible so we don't select cats, so we would use the model with the best precision score.  Because model 2 and model 1 had nearly identical precision, but model 1 was far more accurate, model 1 was selected.\n",
    "\n",
    "Phase I: model 4\n",
    "\n",
    "Phase II: model 1"
   ]
  },
  {
   "cell_type": "markdown",
   "id": "d66ffc8f",
   "metadata": {},
   "source": [
    "### Suppose you are working on a team that solely deals with cat pictures. Which of these models would you recomend for Phase I? For Phase II?"
   ]
  },
  {
   "cell_type": "code",
   "execution_count": 94,
   "id": "cfb714ea",
   "metadata": {},
   "outputs": [
    {
     "name": "stdout",
     "output_type": "stream",
     "text": [
      "When positive case is cat\n",
      "The accuracy of model1 is 0.8074\n",
      "The precision of model1 is 0.6897721764420747\n",
      "The recall score of model1 is 0.8150057273768614\n",
      "--------------------------------------------------\n",
      "When positive case is cat\n",
      "The accuracy of model2 is 0.6304\n",
      "The precision of model2 is 0.4841220423412204\n",
      "The recall score of model2 is 0.8906071019473081\n",
      "--------------------------------------------------\n",
      "When positive case is cat\n",
      "The accuracy of model3 is 0.5096\n",
      "The precision of model3 is 0.358346709470305\n",
      "The recall score of model3 is 0.5114547537227949\n",
      "--------------------------------------------------\n",
      "When positive case is cat\n",
      "The accuracy of model4 is 0.7426\n",
      "The precision of model4 is 0.8072289156626506\n",
      "The recall score of model4 is 0.34536082474226804\n",
      "--------------------------------------------------\n",
      "When positive case is cat\n",
      "The accuracy of baseline is 0.6508\n",
      "The precision of baseline is 0.0\n",
      "The recall score of baseline is 0.0\n",
      "--------------------------------------------------\n"
     ]
    }
   ],
   "source": [
    "\n",
    "cols = df.columns.tolist()\n",
    "for col in cols[1:]:\n",
    "    print('When positive case is cat')\n",
    "    print('The accuracy of', col,'is', accuracy_score(df.actual, df[col]))\n",
    "    print('The precision of', col,'is', precision_score(df.actual, df[col], pos_label='cat'))\n",
    "    print('The recall score of', col,'is', recall_score(df.actual, df[col], pos_label='cat'))\n",
    "    print('--------------------------------------------------')"
   ]
  },
  {
   "cell_type": "markdown",
   "id": "f4d05672",
   "metadata": {},
   "source": [
    "If we are doing multiple phases looking for cats we would not want to reject too many actual cats on the first pass (FNs).  So we would use the model with the best recall (model 2)\n",
    "\n",
    "For the second phase we want to be as precise as possible, so we would use the model with the best precision score, model 4).\n",
    "\n",
    "Phase I: model 2\n",
    "\n",
    "Phase II: model 4"
   ]
  },
  {
   "cell_type": "code",
   "execution_count": null,
   "id": "9505f88b",
   "metadata": {},
   "outputs": [],
   "source": [
    "\n"
   ]
  },
  {
   "cell_type": "code",
   "execution_count": null,
   "id": "59da2b71",
   "metadata": {},
   "outputs": [],
   "source": []
  },
  {
   "cell_type": "code",
   "execution_count": null,
   "id": "bba40251",
   "metadata": {},
   "outputs": [],
   "source": []
  },
  {
   "cell_type": "code",
   "execution_count": null,
   "id": "0d8e9bd6",
   "metadata": {},
   "outputs": [],
   "source": []
  }
 ],
 "metadata": {
  "kernelspec": {
   "display_name": "Python 3 (ipykernel)",
   "language": "python",
   "name": "python3"
  },
  "language_info": {
   "codemirror_mode": {
    "name": "ipython",
    "version": 3
   },
   "file_extension": ".py",
   "mimetype": "text/x-python",
   "name": "python",
   "nbconvert_exporter": "python",
   "pygments_lexer": "ipython3",
   "version": "3.9.12"
  }
 },
 "nbformat": 4,
 "nbformat_minor": 5
}
